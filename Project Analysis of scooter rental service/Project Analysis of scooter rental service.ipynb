{
 "cells": [
  {
   "cell_type": "markdown",
   "id": "c5534f8c",
   "metadata": {},
   "source": [
    "# <div align=\"center\"><b> Проект: Анализ сервиса аренды самокатов  </b></div>"
   ]
  },
  {
   "cell_type": "markdown",
   "id": "4a07d606",
   "metadata": {},
   "source": [
    "**Описание:**  \n",
    "Вы аналитик популярного сервиса аренды самокатов GoFast. Вам передали данные о некоторых пользователях из нескольких городов, а также об их поездках. Проанализируйте данные и проверьте некоторые гипотезы, которые могут помочь бизнесу вырасти.  \n",
    "Чтобы совершать поездки по городу, пользователи сервиса GoFast пользуются мобильным приложением. Сервисом можно пользоваться:  \n",
    "- **без подписки**\n",
    "    - абонентская плата отсутствует;\n",
    "    - стоимость одной минуты поездки — 8 рублей;\n",
    "    - стоимость старта (начала поездки) — 50 рублей;  \n",
    "- **с подпиской Ultra**\n",
    "   - абонентская плата — 199 рублей в месяц;\n",
    "   - стоимость одной минуты поездки — 6 рублей;\n",
    "   - стоимость старта — бесплатно."
   ]
  },
  {
   "cell_type": "markdown",
   "id": "17d27829",
   "metadata": {},
   "source": [
    "**Выполнение проекта планирую в несколько этапов:**\n",
    "\n",
    "- Загрузка данных\n",
    "- Предобработка данных\n",
    "- Исследовательский анализ данных\n",
    "- Объединение данных\n",
    "- Подсчет выручки\n",
    "- Проверка гипотез\n",
    "- Общий вывод"
   ]
  },
  {
   "cell_type": "markdown",
   "id": "05b23a5e",
   "metadata": {},
   "source": [
    "***Импортируем необходимые библиотеки***"
   ]
  },
  {
   "cell_type": "code",
   "execution_count": 1,
   "id": "79426048",
   "metadata": {},
   "outputs": [],
   "source": [
    "import pandas as pd\n",
    "import numpy as np\n",
    "import matplotlib.pyplot as plt\n",
    "from scipy import stats as st"
   ]
  },
  {
   "cell_type": "markdown",
   "id": "59dff40c",
   "metadata": {},
   "source": [
    "#### Шаг 1. Загрузка данных"
   ]
  },
  {
   "cell_type": "markdown",
   "id": "dcf83548",
   "metadata": {},
   "source": [
    "#####  Загружаем датасеты, и выводим первые строки на экран"
   ]
  },
  {
   "cell_type": "code",
   "execution_count": 2,
   "id": "7b0717ab",
   "metadata": {},
   "outputs": [
    {
     "data": {
      "text/html": [
       "<div>\n",
       "<style scoped>\n",
       "    .dataframe tbody tr th:only-of-type {\n",
       "        vertical-align: middle;\n",
       "    }\n",
       "\n",
       "    .dataframe tbody tr th {\n",
       "        vertical-align: top;\n",
       "    }\n",
       "\n",
       "    .dataframe thead th {\n",
       "        text-align: right;\n",
       "    }\n",
       "</style>\n",
       "<table border=\"1\" class=\"dataframe\">\n",
       "  <thead>\n",
       "    <tr style=\"text-align: right;\">\n",
       "      <th></th>\n",
       "      <th>user_id</th>\n",
       "      <th>name</th>\n",
       "      <th>age</th>\n",
       "      <th>city</th>\n",
       "      <th>subscription_type</th>\n",
       "    </tr>\n",
       "  </thead>\n",
       "  <tbody>\n",
       "    <tr>\n",
       "      <th>0</th>\n",
       "      <td>1</td>\n",
       "      <td>Кира</td>\n",
       "      <td>22</td>\n",
       "      <td>Тюмень</td>\n",
       "      <td>ultra</td>\n",
       "    </tr>\n",
       "    <tr>\n",
       "      <th>1</th>\n",
       "      <td>2</td>\n",
       "      <td>Станислав</td>\n",
       "      <td>31</td>\n",
       "      <td>Омск</td>\n",
       "      <td>ultra</td>\n",
       "    </tr>\n",
       "    <tr>\n",
       "      <th>2</th>\n",
       "      <td>3</td>\n",
       "      <td>Алексей</td>\n",
       "      <td>20</td>\n",
       "      <td>Москва</td>\n",
       "      <td>ultra</td>\n",
       "    </tr>\n",
       "    <tr>\n",
       "      <th>3</th>\n",
       "      <td>4</td>\n",
       "      <td>Константин</td>\n",
       "      <td>26</td>\n",
       "      <td>Ростов-на-Дону</td>\n",
       "      <td>ultra</td>\n",
       "    </tr>\n",
       "    <tr>\n",
       "      <th>4</th>\n",
       "      <td>5</td>\n",
       "      <td>Адель</td>\n",
       "      <td>28</td>\n",
       "      <td>Омск</td>\n",
       "      <td>ultra</td>\n",
       "    </tr>\n",
       "  </tbody>\n",
       "</table>\n",
       "</div>"
      ],
      "text/plain": [
       "   user_id        name  age            city subscription_type\n",
       "0        1        Кира   22          Тюмень             ultra\n",
       "1        2   Станислав   31            Омск             ultra\n",
       "2        3     Алексей   20          Москва             ultra\n",
       "3        4  Константин   26  Ростов-на-Дону             ultra\n",
       "4        5       Адель   28            Омск             ultra"
      ]
     },
     "metadata": {},
     "output_type": "display_data"
    },
    {
     "data": {
      "text/html": [
       "<div>\n",
       "<style scoped>\n",
       "    .dataframe tbody tr th:only-of-type {\n",
       "        vertical-align: middle;\n",
       "    }\n",
       "\n",
       "    .dataframe tbody tr th {\n",
       "        vertical-align: top;\n",
       "    }\n",
       "\n",
       "    .dataframe thead th {\n",
       "        text-align: right;\n",
       "    }\n",
       "</style>\n",
       "<table border=\"1\" class=\"dataframe\">\n",
       "  <thead>\n",
       "    <tr style=\"text-align: right;\">\n",
       "      <th></th>\n",
       "      <th>user_id</th>\n",
       "      <th>distance</th>\n",
       "      <th>duration</th>\n",
       "      <th>date</th>\n",
       "    </tr>\n",
       "  </thead>\n",
       "  <tbody>\n",
       "    <tr>\n",
       "      <th>0</th>\n",
       "      <td>1</td>\n",
       "      <td>4409.919140</td>\n",
       "      <td>25.599769</td>\n",
       "      <td>2021-01-01</td>\n",
       "    </tr>\n",
       "    <tr>\n",
       "      <th>1</th>\n",
       "      <td>1</td>\n",
       "      <td>2617.592153</td>\n",
       "      <td>15.816871</td>\n",
       "      <td>2021-01-18</td>\n",
       "    </tr>\n",
       "    <tr>\n",
       "      <th>2</th>\n",
       "      <td>1</td>\n",
       "      <td>754.159807</td>\n",
       "      <td>6.232113</td>\n",
       "      <td>2021-04-20</td>\n",
       "    </tr>\n",
       "    <tr>\n",
       "      <th>3</th>\n",
       "      <td>1</td>\n",
       "      <td>2694.783254</td>\n",
       "      <td>18.511000</td>\n",
       "      <td>2021-08-11</td>\n",
       "    </tr>\n",
       "    <tr>\n",
       "      <th>4</th>\n",
       "      <td>1</td>\n",
       "      <td>4028.687306</td>\n",
       "      <td>26.265803</td>\n",
       "      <td>2021-08-28</td>\n",
       "    </tr>\n",
       "  </tbody>\n",
       "</table>\n",
       "</div>"
      ],
      "text/plain": [
       "   user_id     distance   duration        date\n",
       "0        1  4409.919140  25.599769  2021-01-01\n",
       "1        1  2617.592153  15.816871  2021-01-18\n",
       "2        1   754.159807   6.232113  2021-04-20\n",
       "3        1  2694.783254  18.511000  2021-08-11\n",
       "4        1  4028.687306  26.265803  2021-08-28"
      ]
     },
     "metadata": {},
     "output_type": "display_data"
    },
    {
     "data": {
      "text/html": [
       "<div>\n",
       "<style scoped>\n",
       "    .dataframe tbody tr th:only-of-type {\n",
       "        vertical-align: middle;\n",
       "    }\n",
       "\n",
       "    .dataframe tbody tr th {\n",
       "        vertical-align: top;\n",
       "    }\n",
       "\n",
       "    .dataframe thead th {\n",
       "        text-align: right;\n",
       "    }\n",
       "</style>\n",
       "<table border=\"1\" class=\"dataframe\">\n",
       "  <thead>\n",
       "    <tr style=\"text-align: right;\">\n",
       "      <th></th>\n",
       "      <th>subscription_type</th>\n",
       "      <th>minute_price</th>\n",
       "      <th>start_ride_price</th>\n",
       "      <th>subscription_fee</th>\n",
       "    </tr>\n",
       "  </thead>\n",
       "  <tbody>\n",
       "    <tr>\n",
       "      <th>0</th>\n",
       "      <td>free</td>\n",
       "      <td>8</td>\n",
       "      <td>50</td>\n",
       "      <td>0</td>\n",
       "    </tr>\n",
       "    <tr>\n",
       "      <th>1</th>\n",
       "      <td>ultra</td>\n",
       "      <td>6</td>\n",
       "      <td>0</td>\n",
       "      <td>199</td>\n",
       "    </tr>\n",
       "  </tbody>\n",
       "</table>\n",
       "</div>"
      ],
      "text/plain": [
       "  subscription_type  minute_price  start_ride_price  subscription_fee\n",
       "0              free             8                50                 0\n",
       "1             ultra             6                 0               199"
      ]
     },
     "metadata": {},
     "output_type": "display_data"
    }
   ],
   "source": [
    "users = pd.read_csv('/datasets/users_go.csv')\n",
    "rides = pd.read_csv('/datasets/rides_go.csv')\n",
    "subscriptions = pd.read_csv('/datasets/subscriptions_go.csv')\n",
    "display(users.head(), rides.head(), subscriptions.head())"
   ]
  },
  {
   "cell_type": "markdown",
   "id": "92245957",
   "metadata": {},
   "source": [
    "##### Получим общую информацию о данных"
   ]
  },
  {
   "cell_type": "code",
   "execution_count": 3,
   "id": "960b7790",
   "metadata": {},
   "outputs": [
    {
     "name": "stdout",
     "output_type": "stream",
     "text": [
      "<class 'pandas.core.frame.DataFrame'>\n",
      "RangeIndex: 1565 entries, 0 to 1564\n",
      "Data columns (total 5 columns):\n",
      " #   Column             Non-Null Count  Dtype \n",
      "---  ------             --------------  ----- \n",
      " 0   user_id            1565 non-null   int64 \n",
      " 1   name               1565 non-null   object\n",
      " 2   age                1565 non-null   int64 \n",
      " 3   city               1565 non-null   object\n",
      " 4   subscription_type  1565 non-null   object\n",
      "dtypes: int64(2), object(3)\n",
      "memory usage: 61.3+ KB\n"
     ]
    }
   ],
   "source": [
    "users.info()"
   ]
  },
  {
   "cell_type": "code",
   "execution_count": 4,
   "id": "eb0c3a21",
   "metadata": {
    "scrolled": true
   },
   "outputs": [
    {
     "name": "stdout",
     "output_type": "stream",
     "text": [
      "<class 'pandas.core.frame.DataFrame'>\n",
      "RangeIndex: 18068 entries, 0 to 18067\n",
      "Data columns (total 4 columns):\n",
      " #   Column    Non-Null Count  Dtype  \n",
      "---  ------    --------------  -----  \n",
      " 0   user_id   18068 non-null  int64  \n",
      " 1   distance  18068 non-null  float64\n",
      " 2   duration  18068 non-null  float64\n",
      " 3   date      18068 non-null  object \n",
      "dtypes: float64(2), int64(1), object(1)\n",
      "memory usage: 564.8+ KB\n"
     ]
    }
   ],
   "source": [
    "rides.info()"
   ]
  },
  {
   "cell_type": "code",
   "execution_count": 5,
   "id": "55adc1dc",
   "metadata": {},
   "outputs": [
    {
     "name": "stdout",
     "output_type": "stream",
     "text": [
      "<class 'pandas.core.frame.DataFrame'>\n",
      "RangeIndex: 2 entries, 0 to 1\n",
      "Data columns (total 4 columns):\n",
      " #   Column             Non-Null Count  Dtype \n",
      "---  ------             --------------  ----- \n",
      " 0   subscription_type  2 non-null      object\n",
      " 1   minute_price       2 non-null      int64 \n",
      " 2   start_ride_price   2 non-null      int64 \n",
      " 3   subscription_fee   2 non-null      int64 \n",
      "dtypes: int64(3), object(1)\n",
      "memory usage: 192.0+ bytes\n"
     ]
    }
   ],
   "source": [
    "subscriptions.info()"
   ]
  },
  {
   "cell_type": "markdown",
   "id": "a951bde8",
   "metadata": {},
   "source": [
    "***Количество значений в столбцах одинаковое, значит нет пропущенных значений, дальше еще проверим. Наименования столбцов корректны,столбец 'date' переведем к типу данных pandas.***"
   ]
  },
  {
   "cell_type": "markdown",
   "id": "1d5b4f66",
   "metadata": {},
   "source": [
    "#### Шаг 2. Предобработка данных"
   ]
  },
  {
   "cell_type": "markdown",
   "id": "1432216a",
   "metadata": {},
   "source": [
    "##### Приведем столбец 'date' к типу даты pandas"
   ]
  },
  {
   "cell_type": "code",
   "execution_count": 6,
   "id": "d5acf6e9",
   "metadata": {},
   "outputs": [
    {
     "data": {
      "text/plain": [
       "0   2021-01-01\n",
       "1   2021-01-18\n",
       "2   2021-04-20\n",
       "3   2021-08-11\n",
       "4   2021-08-28\n",
       "5   2021-10-09\n",
       "6   2021-10-19\n",
       "7   2021-11-06\n",
       "8   2021-11-14\n",
       "9   2021-11-22\n",
       "Name: date, dtype: datetime64[ns]"
      ]
     },
     "execution_count": 6,
     "metadata": {},
     "output_type": "execute_result"
    }
   ],
   "source": [
    "rides['date'] = pd.to_datetime(rides['date'], format='%Y-%m-%d')\n",
    "rides['date'].head(10)"
   ]
  },
  {
   "cell_type": "code",
   "execution_count": 7,
   "id": "879958d3",
   "metadata": {},
   "outputs": [
    {
     "data": {
      "text/plain": [
       "array([2021])"
      ]
     },
     "execution_count": 7,
     "metadata": {},
     "output_type": "execute_result"
    }
   ],
   "source": [
    "rides['date'].dt.year.unique() #проверим за какой период предоставлены данные."
   ]
  },
  {
   "cell_type": "markdown",
   "id": "bf4d63a6",
   "metadata": {},
   "source": [
    "##### Создадим новый столбец с номером месяца 'month'"
   ]
  },
  {
   "cell_type": "code",
   "execution_count": 8,
   "id": "b4cdb35d",
   "metadata": {
    "scrolled": true
   },
   "outputs": [
    {
     "data": {
      "text/html": [
       "<div>\n",
       "<style scoped>\n",
       "    .dataframe tbody tr th:only-of-type {\n",
       "        vertical-align: middle;\n",
       "    }\n",
       "\n",
       "    .dataframe tbody tr th {\n",
       "        vertical-align: top;\n",
       "    }\n",
       "\n",
       "    .dataframe thead th {\n",
       "        text-align: right;\n",
       "    }\n",
       "</style>\n",
       "<table border=\"1\" class=\"dataframe\">\n",
       "  <thead>\n",
       "    <tr style=\"text-align: right;\">\n",
       "      <th></th>\n",
       "      <th>user_id</th>\n",
       "      <th>distance</th>\n",
       "      <th>duration</th>\n",
       "      <th>date</th>\n",
       "      <th>month</th>\n",
       "    </tr>\n",
       "  </thead>\n",
       "  <tbody>\n",
       "    <tr>\n",
       "      <th>0</th>\n",
       "      <td>1</td>\n",
       "      <td>4409.919140</td>\n",
       "      <td>25.599769</td>\n",
       "      <td>2021-01-01</td>\n",
       "      <td>1</td>\n",
       "    </tr>\n",
       "    <tr>\n",
       "      <th>1</th>\n",
       "      <td>1</td>\n",
       "      <td>2617.592153</td>\n",
       "      <td>15.816871</td>\n",
       "      <td>2021-01-18</td>\n",
       "      <td>1</td>\n",
       "    </tr>\n",
       "    <tr>\n",
       "      <th>2</th>\n",
       "      <td>1</td>\n",
       "      <td>754.159807</td>\n",
       "      <td>6.232113</td>\n",
       "      <td>2021-04-20</td>\n",
       "      <td>4</td>\n",
       "    </tr>\n",
       "    <tr>\n",
       "      <th>3</th>\n",
       "      <td>1</td>\n",
       "      <td>2694.783254</td>\n",
       "      <td>18.511000</td>\n",
       "      <td>2021-08-11</td>\n",
       "      <td>8</td>\n",
       "    </tr>\n",
       "    <tr>\n",
       "      <th>4</th>\n",
       "      <td>1</td>\n",
       "      <td>4028.687306</td>\n",
       "      <td>26.265803</td>\n",
       "      <td>2021-08-28</td>\n",
       "      <td>8</td>\n",
       "    </tr>\n",
       "    <tr>\n",
       "      <th>5</th>\n",
       "      <td>1</td>\n",
       "      <td>2770.890808</td>\n",
       "      <td>16.650138</td>\n",
       "      <td>2021-10-09</td>\n",
       "      <td>10</td>\n",
       "    </tr>\n",
       "    <tr>\n",
       "      <th>6</th>\n",
       "      <td>1</td>\n",
       "      <td>3039.020292</td>\n",
       "      <td>14.927879</td>\n",
       "      <td>2021-10-19</td>\n",
       "      <td>10</td>\n",
       "    </tr>\n",
       "    <tr>\n",
       "      <th>7</th>\n",
       "      <td>1</td>\n",
       "      <td>2842.118050</td>\n",
       "      <td>23.117468</td>\n",
       "      <td>2021-11-06</td>\n",
       "      <td>11</td>\n",
       "    </tr>\n",
       "    <tr>\n",
       "      <th>8</th>\n",
       "      <td>1</td>\n",
       "      <td>3412.690668</td>\n",
       "      <td>15.238072</td>\n",
       "      <td>2021-11-14</td>\n",
       "      <td>11</td>\n",
       "    </tr>\n",
       "    <tr>\n",
       "      <th>9</th>\n",
       "      <td>1</td>\n",
       "      <td>748.690645</td>\n",
       "      <td>15.041884</td>\n",
       "      <td>2021-11-22</td>\n",
       "      <td>11</td>\n",
       "    </tr>\n",
       "  </tbody>\n",
       "</table>\n",
       "</div>"
      ],
      "text/plain": [
       "   user_id     distance   duration       date  month\n",
       "0        1  4409.919140  25.599769 2021-01-01      1\n",
       "1        1  2617.592153  15.816871 2021-01-18      1\n",
       "2        1   754.159807   6.232113 2021-04-20      4\n",
       "3        1  2694.783254  18.511000 2021-08-11      8\n",
       "4        1  4028.687306  26.265803 2021-08-28      8\n",
       "5        1  2770.890808  16.650138 2021-10-09     10\n",
       "6        1  3039.020292  14.927879 2021-10-19     10\n",
       "7        1  2842.118050  23.117468 2021-11-06     11\n",
       "8        1  3412.690668  15.238072 2021-11-14     11\n",
       "9        1   748.690645  15.041884 2021-11-22     11"
      ]
     },
     "execution_count": 8,
     "metadata": {},
     "output_type": "execute_result"
    }
   ],
   "source": [
    "rides['month'] = pd.DatetimeIndex(rides['date']).month\n",
    "rides.head(10)"
   ]
  },
  {
   "cell_type": "markdown",
   "id": "aeaf2659",
   "metadata": {},
   "source": [
    "##### Проверяем наличие пропущенных значений и дубликатов."
   ]
  },
  {
   "cell_type": "code",
   "execution_count": 9,
   "id": "fe8c6220",
   "metadata": {},
   "outputs": [
    {
     "data": {
      "text/plain": [
       "user_id              0\n",
       "name                 0\n",
       "age                  0\n",
       "city                 0\n",
       "subscription_type    0\n",
       "dtype: int64"
      ]
     },
     "execution_count": 9,
     "metadata": {},
     "output_type": "execute_result"
    }
   ],
   "source": [
    "users.isna().sum()"
   ]
  },
  {
   "cell_type": "code",
   "execution_count": 10,
   "id": "11b9df7c",
   "metadata": {},
   "outputs": [
    {
     "data": {
      "text/plain": [
       "user_id     0\n",
       "distance    0\n",
       "duration    0\n",
       "date        0\n",
       "month       0\n",
       "dtype: int64"
      ]
     },
     "execution_count": 10,
     "metadata": {},
     "output_type": "execute_result"
    }
   ],
   "source": [
    "rides.isna().sum()"
   ]
  },
  {
   "cell_type": "code",
   "execution_count": 11,
   "id": "71392ba2",
   "metadata": {},
   "outputs": [
    {
     "data": {
      "text/plain": [
       "subscription_type    0\n",
       "minute_price         0\n",
       "start_ride_price     0\n",
       "subscription_fee     0\n",
       "dtype: int64"
      ]
     },
     "execution_count": 11,
     "metadata": {},
     "output_type": "execute_result"
    }
   ],
   "source": [
    "subscriptions.isna().sum()"
   ]
  },
  {
   "cell_type": "markdown",
   "id": "b01fa2b2",
   "metadata": {},
   "source": [
    "***Пропущенные значения отсутствуют.***"
   ]
  },
  {
   "cell_type": "code",
   "execution_count": 12,
   "id": "021b51b2",
   "metadata": {},
   "outputs": [
    {
     "data": {
      "text/plain": [
       "31"
      ]
     },
     "execution_count": 12,
     "metadata": {},
     "output_type": "execute_result"
    }
   ],
   "source": [
    "users.duplicated().sum() "
   ]
  },
  {
   "cell_type": "code",
   "execution_count": 13,
   "id": "34377a60",
   "metadata": {},
   "outputs": [],
   "source": [
    "users = users.drop_duplicates().reset_index(drop=True) # удаление явных дубликатов, создание новых индексов и удаление старых"
   ]
  },
  {
   "cell_type": "code",
   "execution_count": 14,
   "id": "d341f208",
   "metadata": {},
   "outputs": [
    {
     "data": {
      "text/plain": [
       "0"
      ]
     },
     "execution_count": 14,
     "metadata": {},
     "output_type": "execute_result"
    }
   ],
   "source": [
    "users.duplicated().sum() #проверяем"
   ]
  },
  {
   "cell_type": "code",
   "execution_count": 15,
   "id": "ea570d01",
   "metadata": {},
   "outputs": [
    {
     "data": {
      "text/plain": [
       "0"
      ]
     },
     "execution_count": 15,
     "metadata": {},
     "output_type": "execute_result"
    }
   ],
   "source": [
    "rides.duplicated().sum() "
   ]
  },
  {
   "cell_type": "code",
   "execution_count": 16,
   "id": "58b80539",
   "metadata": {},
   "outputs": [
    {
     "data": {
      "text/plain": [
       "0"
      ]
     },
     "execution_count": 16,
     "metadata": {},
     "output_type": "execute_result"
    }
   ],
   "source": [
    "subscriptions.duplicated().sum() "
   ]
  },
  {
   "cell_type": "markdown",
   "id": "9566551a",
   "metadata": {},
   "source": [
    "***Дубликаты были найдени только в таблице Пользователи(users_go) - их удалили, в остальных отсутствуют.***"
   ]
  },
  {
   "cell_type": "markdown",
   "id": "5d9c6783",
   "metadata": {},
   "source": [
    "#### Шаг 3. Исследовательский анализ данных"
   ]
  },
  {
   "cell_type": "markdown",
   "id": "a8912f13",
   "metadata": {},
   "source": [
    "##### Частота встречаемости городов"
   ]
  },
  {
   "cell_type": "code",
   "execution_count": 17,
   "id": "8f44abb2",
   "metadata": {},
   "outputs": [
    {
     "data": {
      "text/plain": [
       "Пятигорск         219\n",
       "Екатеринбург      204\n",
       "Ростов-на-Дону    198\n",
       "Краснодар         193\n",
       "Сочи              189\n",
       "Омск              183\n",
       "Тюмень            180\n",
       "Москва            168\n",
       "Name: city, dtype: int64"
      ]
     },
     "execution_count": 17,
     "metadata": {},
     "output_type": "execute_result"
    }
   ],
   "source": [
    "users['city'].value_counts() #посмотрим количество пользователей по городам"
   ]
  },
  {
   "cell_type": "code",
   "execution_count": 18,
   "id": "a4081456",
   "metadata": {},
   "outputs": [
    {
     "data": {
      "image/png": "[encoded data removed]",
      "text/plain": [
       "<Figure size 720x360 with 1 Axes>"
      ]
     },
     "metadata": {
      "needs_background": "light"
     },
     "output_type": "display_data"
    },
    {
     "name": "stdout",
     "output_type": "stream",
     "text": [
      "\u001b[1mКоличество пользователей по городам\u001b[1m\n"
     ]
    },
    {
     "data": {
      "text/html": [
       "<div>\n",
       "<style scoped>\n",
       "    .dataframe tbody tr th:only-of-type {\n",
       "        vertical-align: middle;\n",
       "    }\n",
       "\n",
       "    .dataframe tbody tr th {\n",
       "        vertical-align: top;\n",
       "    }\n",
       "\n",
       "    .dataframe thead th {\n",
       "        text-align: right;\n",
       "    }\n",
       "</style>\n",
       "<table border=\"1\" class=\"dataframe\">\n",
       "  <thead>\n",
       "    <tr style=\"text-align: right;\">\n",
       "      <th></th>\n",
       "      <th>user_id</th>\n",
       "    </tr>\n",
       "    <tr>\n",
       "      <th>city</th>\n",
       "      <th></th>\n",
       "    </tr>\n",
       "  </thead>\n",
       "  <tbody>\n",
       "    <tr>\n",
       "      <th>Пятигорск</th>\n",
       "      <td>219</td>\n",
       "    </tr>\n",
       "    <tr>\n",
       "      <th>Екатеринбург</th>\n",
       "      <td>204</td>\n",
       "    </tr>\n",
       "    <tr>\n",
       "      <th>Ростов-на-Дону</th>\n",
       "      <td>198</td>\n",
       "    </tr>\n",
       "    <tr>\n",
       "      <th>Краснодар</th>\n",
       "      <td>193</td>\n",
       "    </tr>\n",
       "    <tr>\n",
       "      <th>Сочи</th>\n",
       "      <td>189</td>\n",
       "    </tr>\n",
       "    <tr>\n",
       "      <th>Омск</th>\n",
       "      <td>183</td>\n",
       "    </tr>\n",
       "    <tr>\n",
       "      <th>Тюмень</th>\n",
       "      <td>180</td>\n",
       "    </tr>\n",
       "    <tr>\n",
       "      <th>Москва</th>\n",
       "      <td>168</td>\n",
       "    </tr>\n",
       "  </tbody>\n",
       "</table>\n",
       "</div>"
      ],
      "text/plain": [
       "                user_id\n",
       "city                   \n",
       "Пятигорск           219\n",
       "Екатеринбург        204\n",
       "Ростов-на-Дону      198\n",
       "Краснодар           193\n",
       "Сочи                189\n",
       "Омск                183\n",
       "Тюмень              180\n",
       "Москва              168"
      ]
     },
     "metadata": {},
     "output_type": "display_data"
    }
   ],
   "source": [
    "(users.pivot_table(index='city',\n",
    "                   values='user_id', \n",
    "                   aggfunc='count')\n",
    " .sort_values(by='user_id', ascending=False)\n",
    "    .plot(kind='bar',\n",
    "          grid=True,\n",
    "          figsize=(10, 5)))\n",
    "plt.title('Количество пользователей по городам')\n",
    "plt.xlabel('Наименование города')\n",
    "plt.ylabel('Количество пользователей')\n",
    "plt.show()\n",
    "titl = 'Количество пользователей по городам'\n",
    "print('\\033[1m' + titl + '\\033[1m')\n",
    "users_pivot = (users\n",
    "               .pivot_table(index='city',\n",
    "                   values='user_id', \n",
    "                   aggfunc='count')\n",
    "               .sort_values(by='user_id', ascending=False))\n",
    "display(users_pivot)"
   ]
  },
  {
   "cell_type": "markdown",
   "id": "7b819218",
   "metadata": {},
   "source": [
    "***На первой позиции по пользователям город Пятигорск - 219 человек, затем Екатеринург - 204 человека, самое меньшее в Москве -  168 человек.***"
   ]
  },
  {
   "cell_type": "markdown",
   "id": "99c74888",
   "metadata": {},
   "source": [
    "##### Соотношение пользоватей с подпиской и без"
   ]
  },
  {
   "cell_type": "code",
   "execution_count": 19,
   "id": "eb984e06",
   "metadata": {},
   "outputs": [
    {
     "data": {
      "text/plain": [
       "free     835\n",
       "ultra    699\n",
       "Name: subscription_type, dtype: int64"
      ]
     },
     "execution_count": 19,
     "metadata": {},
     "output_type": "execute_result"
    }
   ],
   "source": [
    "users['subscription_type'].value_counts()"
   ]
  },
  {
   "cell_type": "code",
   "execution_count": 20,
   "id": "9f649c5b",
   "metadata": {},
   "outputs": [
    {
     "data": {
      "image/png": "[encoded data removed]",
      "text/plain": [
       "<Figure size 504x504 with 1 Axes>"
      ]
     },
     "metadata": {},
     "output_type": "display_data"
    }
   ],
   "source": [
    "(users.pivot_table(index='subscription_type',\n",
    "                   values='user_id', \n",
    "                   aggfunc='count')\n",
    " .sort_values(by='user_id', ascending=True)\n",
    "    .plot(kind='pie',\n",
    "          subplots=True, \n",
    "          autopct='%1.1f%%', \n",
    "          legend=False,\n",
    "          figsize=(7, 7)))\n",
    "plt.title('С подпиской(ultra) и без подписки(free)')\n",
    "plt.show()"
   ]
  },
  {
   "cell_type": "markdown",
   "id": "03f211aa",
   "metadata": {},
   "source": [
    "***Большая часть пользователей с бесплатной подпиской - 835 человек, это 54.4% от общего количества. На платной подписке 699 пользователей - 45.6%.***"
   ]
  },
  {
   "cell_type": "markdown",
   "id": "463bbf44",
   "metadata": {},
   "source": [
    "##### Возраст пользователей"
   ]
  },
  {
   "cell_type": "code",
   "execution_count": 21,
   "id": "3273c670",
   "metadata": {},
   "outputs": [
    {
     "data": {
      "image/png": "[encoded data removed]",
      "text/plain": [
       "<Figure size 1080x360 with 1 Axes>"
      ]
     },
     "metadata": {
      "needs_background": "light"
     },
     "output_type": "display_data"
    }
   ],
   "source": [
    "(users.pivot_table(index='age',\n",
    "                   values='user_id',\n",
    "                   aggfunc='count')\n",
    " .sort_values(by='age', ascending=True)\n",
    "    .plot(kind='bar' , grid=True, figsize=(15, 5)))\n",
    "plt.title('Количество пользователей по возрастам')\n",
    "plt.xlabel('Возраст')\n",
    "plt.ylabel('Количество')\n",
    "plt.show()"
   ]
  },
  {
   "cell_type": "markdown",
   "id": "25f5b1ef",
   "metadata": {},
   "source": [
    "***В среднем преобладает количество пользователей от 20 до 30лет. Больше всего человек в возрасте 25 лет. Самые малдшие пользователи - 12 лет, а старшие - 43 года.***"
   ]
  },
  {
   "cell_type": "markdown",
   "id": "a99c4ab6",
   "metadata": {},
   "source": [
    "##### Расстояние, которое пользователь преодолел за одну поезду"
   ]
  },
  {
   "cell_type": "code",
   "execution_count": 22,
   "id": "a5580ced",
   "metadata": {},
   "outputs": [],
   "source": [
    "rides['distance'] = round(rides['distance'],2) #округлим значения до 2х знаков "
   ]
  },
  {
   "cell_type": "code",
   "execution_count": 23,
   "id": "a94fc1a7",
   "metadata": {
    "scrolled": true
   },
   "outputs": [
    {
     "data": {
      "text/html": [
       "<div>\n",
       "<style scoped>\n",
       "    .dataframe tbody tr th:only-of-type {\n",
       "        vertical-align: middle;\n",
       "    }\n",
       "\n",
       "    .dataframe tbody tr th {\n",
       "        vertical-align: top;\n",
       "    }\n",
       "\n",
       "    .dataframe thead th {\n",
       "        text-align: right;\n",
       "    }\n",
       "</style>\n",
       "<table border=\"1\" class=\"dataframe\">\n",
       "  <thead>\n",
       "    <tr style=\"text-align: right;\">\n",
       "      <th></th>\n",
       "      <th>user_id</th>\n",
       "      <th>distance</th>\n",
       "      <th>duration</th>\n",
       "      <th>date</th>\n",
       "      <th>month</th>\n",
       "    </tr>\n",
       "  </thead>\n",
       "  <tbody>\n",
       "    <tr>\n",
       "      <th>0</th>\n",
       "      <td>1</td>\n",
       "      <td>4409.92</td>\n",
       "      <td>25.599769</td>\n",
       "      <td>2021-01-01</td>\n",
       "      <td>1</td>\n",
       "    </tr>\n",
       "    <tr>\n",
       "      <th>1</th>\n",
       "      <td>1</td>\n",
       "      <td>2617.59</td>\n",
       "      <td>15.816871</td>\n",
       "      <td>2021-01-18</td>\n",
       "      <td>1</td>\n",
       "    </tr>\n",
       "    <tr>\n",
       "      <th>2</th>\n",
       "      <td>1</td>\n",
       "      <td>754.16</td>\n",
       "      <td>6.232113</td>\n",
       "      <td>2021-04-20</td>\n",
       "      <td>4</td>\n",
       "    </tr>\n",
       "    <tr>\n",
       "      <th>3</th>\n",
       "      <td>1</td>\n",
       "      <td>2694.78</td>\n",
       "      <td>18.511000</td>\n",
       "      <td>2021-08-11</td>\n",
       "      <td>8</td>\n",
       "    </tr>\n",
       "    <tr>\n",
       "      <th>4</th>\n",
       "      <td>1</td>\n",
       "      <td>4028.69</td>\n",
       "      <td>26.265803</td>\n",
       "      <td>2021-08-28</td>\n",
       "      <td>8</td>\n",
       "    </tr>\n",
       "  </tbody>\n",
       "</table>\n",
       "</div>"
      ],
      "text/plain": [
       "   user_id  distance   duration       date  month\n",
       "0        1   4409.92  25.599769 2021-01-01      1\n",
       "1        1   2617.59  15.816871 2021-01-18      1\n",
       "2        1    754.16   6.232113 2021-04-20      4\n",
       "3        1   2694.78  18.511000 2021-08-11      8\n",
       "4        1   4028.69  26.265803 2021-08-28      8"
      ]
     },
     "execution_count": 23,
     "metadata": {},
     "output_type": "execute_result"
    }
   ],
   "source": [
    "rides.head() #выведем первые строки для проверки"
   ]
  },
  {
   "cell_type": "markdown",
   "id": "84eda3e3",
   "metadata": {},
   "source": [
    "***Короткие дистанции за одну поезду по возрастанию***"
   ]
  },
  {
   "cell_type": "code",
   "execution_count": 24,
   "id": "3162b65c",
   "metadata": {},
   "outputs": [
    {
     "data": {
      "text/plain": [
       "11555     0.86\n",
       "9541      2.57\n",
       "13690     4.33\n",
       "8658      6.78\n",
       "7841      7.10\n",
       "8906     11.28\n",
       "8324     12.23\n",
       "13940    15.00\n",
       "15626    15.37\n",
       "11862    15.63\n",
       "Name: distance, dtype: float64"
      ]
     },
     "execution_count": 24,
     "metadata": {},
     "output_type": "execute_result"
    }
   ],
   "source": [
    "rides['distance'].sort_values().head(10)"
   ]
  },
  {
   "cell_type": "markdown",
   "id": "9fb4d0e5",
   "metadata": {},
   "source": [
    "***Длинные дистанции за одну поездку по возрастанию***"
   ]
  },
  {
   "cell_type": "code",
   "execution_count": 25,
   "id": "fd4e74db",
   "metadata": {},
   "outputs": [
    {
     "data": {
      "text/plain": [
       "16309    7211.01\n",
       "16484    7066.00\n",
       "15580    6908.49\n",
       "17171    6760.94\n",
       "17242    6724.93\n",
       "10341    6671.97\n",
       "11385    6601.20\n",
       "12086    6538.94\n",
       "10915    6535.39\n",
       "11319    6503.60\n",
       "Name: distance, dtype: float64"
      ]
     },
     "execution_count": 25,
     "metadata": {},
     "output_type": "execute_result"
    }
   ],
   "source": [
    "rides['distance'].sort_values(ascending=False).head(10)"
   ]
  },
  {
   "cell_type": "code",
   "execution_count": 26,
   "id": "9a9e032e",
   "metadata": {},
   "outputs": [
    {
     "data": {
      "image/png": "[encoded data removed]",
      "text/plain": [
       "<Figure size 432x288 with 1 Axes>"
      ]
     },
     "metadata": {
      "needs_background": "light"
     },
     "output_type": "display_data"
    }
   ],
   "source": [
    "rides['distance'].plot(kind='hist',\n",
    "                       bins=500,\n",
    "                       title='Количество поездок в зависимости от расстояния поездки')\n",
    "plt.xlabel('Расстояние в метрах',size=13)\n",
    "plt.ylabel('Количество поездок',size=13)\n",
    "plt.grid()\n",
    "plt.show()"
   ]
  },
  {
   "cell_type": "markdown",
   "id": "f96dd0b3",
   "metadata": {},
   "source": [
    "***Большая часть поездок у пользователей от 2.5км до 4 км. Самая короткая дистанция - 860м, а самая длинная ~ 7.2км.***"
   ]
  },
  {
   "cell_type": "markdown",
   "id": "646d9401",
   "metadata": {},
   "source": [
    "##### Продолжительность поездок"
   ]
  },
  {
   "cell_type": "code",
   "execution_count": 27,
   "id": "0363bf5c",
   "metadata": {
    "scrolled": true
   },
   "outputs": [
    {
     "data": {
      "text/html": [
       "<div>\n",
       "<style scoped>\n",
       "    .dataframe tbody tr th:only-of-type {\n",
       "        vertical-align: middle;\n",
       "    }\n",
       "\n",
       "    .dataframe tbody tr th {\n",
       "        vertical-align: top;\n",
       "    }\n",
       "\n",
       "    .dataframe thead th {\n",
       "        text-align: right;\n",
       "    }\n",
       "</style>\n",
       "<table border=\"1\" class=\"dataframe\">\n",
       "  <thead>\n",
       "    <tr style=\"text-align: right;\">\n",
       "      <th></th>\n",
       "      <th>user_id</th>\n",
       "      <th>distance</th>\n",
       "      <th>duration</th>\n",
       "      <th>date</th>\n",
       "      <th>month</th>\n",
       "    </tr>\n",
       "  </thead>\n",
       "  <tbody>\n",
       "    <tr>\n",
       "      <th>0</th>\n",
       "      <td>1</td>\n",
       "      <td>4409.92</td>\n",
       "      <td>26</td>\n",
       "      <td>2021-01-01</td>\n",
       "      <td>1</td>\n",
       "    </tr>\n",
       "    <tr>\n",
       "      <th>1</th>\n",
       "      <td>1</td>\n",
       "      <td>2617.59</td>\n",
       "      <td>16</td>\n",
       "      <td>2021-01-18</td>\n",
       "      <td>1</td>\n",
       "    </tr>\n",
       "    <tr>\n",
       "      <th>2</th>\n",
       "      <td>1</td>\n",
       "      <td>754.16</td>\n",
       "      <td>7</td>\n",
       "      <td>2021-04-20</td>\n",
       "      <td>4</td>\n",
       "    </tr>\n",
       "    <tr>\n",
       "      <th>3</th>\n",
       "      <td>1</td>\n",
       "      <td>2694.78</td>\n",
       "      <td>19</td>\n",
       "      <td>2021-08-11</td>\n",
       "      <td>8</td>\n",
       "    </tr>\n",
       "    <tr>\n",
       "      <th>4</th>\n",
       "      <td>1</td>\n",
       "      <td>4028.69</td>\n",
       "      <td>27</td>\n",
       "      <td>2021-08-28</td>\n",
       "      <td>8</td>\n",
       "    </tr>\n",
       "  </tbody>\n",
       "</table>\n",
       "</div>"
      ],
      "text/plain": [
       "   user_id  distance  duration       date  month\n",
       "0        1   4409.92        26 2021-01-01      1\n",
       "1        1   2617.59        16 2021-01-18      1\n",
       "2        1    754.16         7 2021-04-20      4\n",
       "3        1   2694.78        19 2021-08-11      8\n",
       "4        1   4028.69        27 2021-08-28      8"
      ]
     },
     "execution_count": 27,
     "metadata": {},
     "output_type": "execute_result"
    }
   ],
   "source": [
    "rides['duration'] = np.ceil(rides['duration']) #округляем значения в столбце 'duration' по методу \"потолок\"\n",
    "rides['duration'] = rides['duration'].astype(int) #переводим к целым числам\n",
    "rides.head()"
   ]
  },
  {
   "cell_type": "markdown",
   "id": "cccaeda0",
   "metadata": {},
   "source": [
    "***Короткие поездки***"
   ]
  },
  {
   "cell_type": "code",
   "execution_count": 28,
   "id": "24da2529",
   "metadata": {},
   "outputs": [
    {
     "data": {
      "text/plain": [
       "6860     1\n",
       "16704    1\n",
       "10426    1\n",
       "16336    1\n",
       "6531     1\n",
       "9282     1\n",
       "15132    1\n",
       "7437     1\n",
       "9622     1\n",
       "15771    1\n",
       "Name: duration, dtype: int64"
      ]
     },
     "execution_count": 28,
     "metadata": {},
     "output_type": "execute_result"
    }
   ],
   "source": [
    "rides['duration'].sort_values().head(10)"
   ]
  },
  {
   "cell_type": "markdown",
   "id": "7f2fbe1b",
   "metadata": {},
   "source": [
    "***Долгие поездки***"
   ]
  },
  {
   "cell_type": "code",
   "execution_count": 29,
   "id": "8ade4c18",
   "metadata": {},
   "outputs": [
    {
     "data": {
      "text/plain": [
       "4215    41\n",
       "4709    40\n",
       "2623    40\n",
       "1998    39\n",
       "6453    39\n",
       "143     39\n",
       "3729    38\n",
       "499     37\n",
       "5013    37\n",
       "1894    37\n",
       "Name: duration, dtype: int64"
      ]
     },
     "execution_count": 29,
     "metadata": {},
     "output_type": "execute_result"
    }
   ],
   "source": [
    "rides['duration'].sort_values(ascending=False).head(10)"
   ]
  },
  {
   "cell_type": "code",
   "execution_count": 30,
   "id": "6c524d13",
   "metadata": {},
   "outputs": [
    {
     "data": {
      "image/png": "[encoded data removed]",
      "text/plain": [
       "<Figure size 432x288 with 1 Axes>"
      ]
     },
     "metadata": {
      "needs_background": "light"
     },
     "output_type": "display_data"
    }
   ],
   "source": [
    "rides['duration'].plot(kind='hist',\n",
    "                       bins=40,\n",
    "                       title='Время в поездках')\n",
    "plt.xlabel('Продолжительность сессии в минутах',size=13)\n",
    "plt.ylabel('Количество поездок',size=13)\n",
    "plt.grid()\n",
    "plt.show()"
   ]
  },
  {
   "cell_type": "markdown",
   "id": "2c9f8e78",
   "metadata": {},
   "source": [
    "***Основное время в поездках у пользователей занимает от 10 до 25 минут. Самая короткая поездка ~ 1 минута, долгая - 41 минуту.***"
   ]
  },
  {
   "cell_type": "markdown",
   "id": "f7e5dad6",
   "metadata": {},
   "source": [
    "#### Шаг 4. Объединение данных"
   ]
  },
  {
   "cell_type": "markdown",
   "id": "b3335c47",
   "metadata": {},
   "source": [
    "##### Объединение данных о пользователях, поездках и подписках"
   ]
  },
  {
   "cell_type": "code",
   "execution_count": 31,
   "id": "06b4d925",
   "metadata": {},
   "outputs": [
    {
     "data": {
      "text/html": [
       "<div>\n",
       "<style scoped>\n",
       "    .dataframe tbody tr th:only-of-type {\n",
       "        vertical-align: middle;\n",
       "    }\n",
       "\n",
       "    .dataframe tbody tr th {\n",
       "        vertical-align: top;\n",
       "    }\n",
       "\n",
       "    .dataframe thead th {\n",
       "        text-align: right;\n",
       "    }\n",
       "</style>\n",
       "<table border=\"1\" class=\"dataframe\">\n",
       "  <thead>\n",
       "    <tr style=\"text-align: right;\">\n",
       "      <th></th>\n",
       "      <th>user_id</th>\n",
       "      <th>name</th>\n",
       "      <th>age</th>\n",
       "      <th>city</th>\n",
       "      <th>subscription_type</th>\n",
       "      <th>distance</th>\n",
       "      <th>duration</th>\n",
       "      <th>date</th>\n",
       "      <th>month</th>\n",
       "      <th>minute_price</th>\n",
       "      <th>start_ride_price</th>\n",
       "      <th>subscription_fee</th>\n",
       "    </tr>\n",
       "  </thead>\n",
       "  <tbody>\n",
       "    <tr>\n",
       "      <th>0</th>\n",
       "      <td>1</td>\n",
       "      <td>Кира</td>\n",
       "      <td>22</td>\n",
       "      <td>Тюмень</td>\n",
       "      <td>ultra</td>\n",
       "      <td>4409.92</td>\n",
       "      <td>26</td>\n",
       "      <td>2021-01-01</td>\n",
       "      <td>1</td>\n",
       "      <td>6</td>\n",
       "      <td>0</td>\n",
       "      <td>199</td>\n",
       "    </tr>\n",
       "    <tr>\n",
       "      <th>1</th>\n",
       "      <td>1</td>\n",
       "      <td>Кира</td>\n",
       "      <td>22</td>\n",
       "      <td>Тюмень</td>\n",
       "      <td>ultra</td>\n",
       "      <td>2617.59</td>\n",
       "      <td>16</td>\n",
       "      <td>2021-01-18</td>\n",
       "      <td>1</td>\n",
       "      <td>6</td>\n",
       "      <td>0</td>\n",
       "      <td>199</td>\n",
       "    </tr>\n",
       "    <tr>\n",
       "      <th>2</th>\n",
       "      <td>1</td>\n",
       "      <td>Кира</td>\n",
       "      <td>22</td>\n",
       "      <td>Тюмень</td>\n",
       "      <td>ultra</td>\n",
       "      <td>754.16</td>\n",
       "      <td>7</td>\n",
       "      <td>2021-04-20</td>\n",
       "      <td>4</td>\n",
       "      <td>6</td>\n",
       "      <td>0</td>\n",
       "      <td>199</td>\n",
       "    </tr>\n",
       "    <tr>\n",
       "      <th>3</th>\n",
       "      <td>1</td>\n",
       "      <td>Кира</td>\n",
       "      <td>22</td>\n",
       "      <td>Тюмень</td>\n",
       "      <td>ultra</td>\n",
       "      <td>2694.78</td>\n",
       "      <td>19</td>\n",
       "      <td>2021-08-11</td>\n",
       "      <td>8</td>\n",
       "      <td>6</td>\n",
       "      <td>0</td>\n",
       "      <td>199</td>\n",
       "    </tr>\n",
       "    <tr>\n",
       "      <th>4</th>\n",
       "      <td>1</td>\n",
       "      <td>Кира</td>\n",
       "      <td>22</td>\n",
       "      <td>Тюмень</td>\n",
       "      <td>ultra</td>\n",
       "      <td>4028.69</td>\n",
       "      <td>27</td>\n",
       "      <td>2021-08-28</td>\n",
       "      <td>8</td>\n",
       "      <td>6</td>\n",
       "      <td>0</td>\n",
       "      <td>199</td>\n",
       "    </tr>\n",
       "    <tr>\n",
       "      <th>...</th>\n",
       "      <td>...</td>\n",
       "      <td>...</td>\n",
       "      <td>...</td>\n",
       "      <td>...</td>\n",
       "      <td>...</td>\n",
       "      <td>...</td>\n",
       "      <td>...</td>\n",
       "      <td>...</td>\n",
       "      <td>...</td>\n",
       "      <td>...</td>\n",
       "      <td>...</td>\n",
       "      <td>...</td>\n",
       "    </tr>\n",
       "    <tr>\n",
       "      <th>18063</th>\n",
       "      <td>1534</td>\n",
       "      <td>Альберт</td>\n",
       "      <td>25</td>\n",
       "      <td>Краснодар</td>\n",
       "      <td>free</td>\n",
       "      <td>3781.10</td>\n",
       "      <td>20</td>\n",
       "      <td>2021-11-04</td>\n",
       "      <td>11</td>\n",
       "      <td>8</td>\n",
       "      <td>50</td>\n",
       "      <td>0</td>\n",
       "    </tr>\n",
       "    <tr>\n",
       "      <th>18064</th>\n",
       "      <td>1534</td>\n",
       "      <td>Альберт</td>\n",
       "      <td>25</td>\n",
       "      <td>Краснодар</td>\n",
       "      <td>free</td>\n",
       "      <td>2840.42</td>\n",
       "      <td>22</td>\n",
       "      <td>2021-11-16</td>\n",
       "      <td>11</td>\n",
       "      <td>8</td>\n",
       "      <td>50</td>\n",
       "      <td>0</td>\n",
       "    </tr>\n",
       "    <tr>\n",
       "      <th>18065</th>\n",
       "      <td>1534</td>\n",
       "      <td>Альберт</td>\n",
       "      <td>25</td>\n",
       "      <td>Краснодар</td>\n",
       "      <td>free</td>\n",
       "      <td>3826.19</td>\n",
       "      <td>19</td>\n",
       "      <td>2021-11-18</td>\n",
       "      <td>11</td>\n",
       "      <td>8</td>\n",
       "      <td>50</td>\n",
       "      <td>0</td>\n",
       "    </tr>\n",
       "    <tr>\n",
       "      <th>18066</th>\n",
       "      <td>1534</td>\n",
       "      <td>Альберт</td>\n",
       "      <td>25</td>\n",
       "      <td>Краснодар</td>\n",
       "      <td>free</td>\n",
       "      <td>2902.31</td>\n",
       "      <td>17</td>\n",
       "      <td>2021-11-27</td>\n",
       "      <td>11</td>\n",
       "      <td>8</td>\n",
       "      <td>50</td>\n",
       "      <td>0</td>\n",
       "    </tr>\n",
       "    <tr>\n",
       "      <th>18067</th>\n",
       "      <td>1534</td>\n",
       "      <td>Альберт</td>\n",
       "      <td>25</td>\n",
       "      <td>Краснодар</td>\n",
       "      <td>free</td>\n",
       "      <td>2371.71</td>\n",
       "      <td>16</td>\n",
       "      <td>2021-12-29</td>\n",
       "      <td>12</td>\n",
       "      <td>8</td>\n",
       "      <td>50</td>\n",
       "      <td>0</td>\n",
       "    </tr>\n",
       "  </tbody>\n",
       "</table>\n",
       "<p>18068 rows × 12 columns</p>\n",
       "</div>"
      ],
      "text/plain": [
       "       user_id     name  age       city subscription_type  distance  duration  \\\n",
       "0            1     Кира   22     Тюмень             ultra   4409.92        26   \n",
       "1            1     Кира   22     Тюмень             ultra   2617.59        16   \n",
       "2            1     Кира   22     Тюмень             ultra    754.16         7   \n",
       "3            1     Кира   22     Тюмень             ultra   2694.78        19   \n",
       "4            1     Кира   22     Тюмень             ultra   4028.69        27   \n",
       "...        ...      ...  ...        ...               ...       ...       ...   \n",
       "18063     1534  Альберт   25  Краснодар              free   3781.10        20   \n",
       "18064     1534  Альберт   25  Краснодар              free   2840.42        22   \n",
       "18065     1534  Альберт   25  Краснодар              free   3826.19        19   \n",
       "18066     1534  Альберт   25  Краснодар              free   2902.31        17   \n",
       "18067     1534  Альберт   25  Краснодар              free   2371.71        16   \n",
       "\n",
       "            date  month  minute_price  start_ride_price  subscription_fee  \n",
       "0     2021-01-01      1             6                 0               199  \n",
       "1     2021-01-18      1             6                 0               199  \n",
       "2     2021-04-20      4             6                 0               199  \n",
       "3     2021-08-11      8             6                 0               199  \n",
       "4     2021-08-28      8             6                 0               199  \n",
       "...          ...    ...           ...               ...               ...  \n",
       "18063 2021-11-04     11             8                50                 0  \n",
       "18064 2021-11-16     11             8                50                 0  \n",
       "18065 2021-11-18     11             8                50                 0  \n",
       "18066 2021-11-27     11             8                50                 0  \n",
       "18067 2021-12-29     12             8                50                 0  \n",
       "\n",
       "[18068 rows x 12 columns]"
      ]
     },
     "execution_count": 31,
     "metadata": {},
     "output_type": "execute_result"
    }
   ],
   "source": [
    "data = users.merge(rides, on='user_id',how='outer') #объединяем таблицу users и rides по столбцу user_id\n",
    "data_go = data.merge(subscriptions, on='subscription_type',how='outer') #объединяем по столбцу 'subscription_type'\n",
    "data_go"
   ]
  },
  {
   "cell_type": "code",
   "execution_count": 32,
   "id": "fbe1d7d5",
   "metadata": {
    "scrolled": true
   },
   "outputs": [
    {
     "data": {
      "text/plain": [
       "user_id              0\n",
       "name                 0\n",
       "age                  0\n",
       "city                 0\n",
       "subscription_type    0\n",
       "distance             0\n",
       "duration             0\n",
       "date                 0\n",
       "month                0\n",
       "minute_price         0\n",
       "start_ride_price     0\n",
       "subscription_fee     0\n",
       "dtype: int64"
      ]
     },
     "execution_count": 32,
     "metadata": {},
     "output_type": "execute_result"
    }
   ],
   "source": [
    "data_go.isna().sum()"
   ]
  },
  {
   "cell_type": "markdown",
   "id": "674870c7",
   "metadata": {},
   "source": [
    "***Размер таблицы получился (18068 строк и 12 столбцов). Изначально в таблице 'users' было (1565 строк и 5 столбцов), в таблице 'rides' (18068 строк и 4 столбца) и в 'subscriptions' (2 строки и 4 столбца) - при объединении ничего не потерялось.  \n",
    "Пропущенные значения в таблицы отсутствуют***"
   ]
  },
  {
   "cell_type": "markdown",
   "id": "b6ff21d4",
   "metadata": {},
   "source": [
    "##### Создаем 2 датафрейма, пользователи с подпиской и без"
   ]
  },
  {
   "cell_type": "code",
   "execution_count": 33,
   "id": "e8a71ffa",
   "metadata": {},
   "outputs": [
    {
     "data": {
      "text/html": [
       "<div>\n",
       "<style scoped>\n",
       "    .dataframe tbody tr th:only-of-type {\n",
       "        vertical-align: middle;\n",
       "    }\n",
       "\n",
       "    .dataframe tbody tr th {\n",
       "        vertical-align: top;\n",
       "    }\n",
       "\n",
       "    .dataframe thead th {\n",
       "        text-align: right;\n",
       "    }\n",
       "</style>\n",
       "<table border=\"1\" class=\"dataframe\">\n",
       "  <thead>\n",
       "    <tr style=\"text-align: right;\">\n",
       "      <th></th>\n",
       "      <th>user_id</th>\n",
       "      <th>name</th>\n",
       "      <th>age</th>\n",
       "      <th>city</th>\n",
       "      <th>subscription_type</th>\n",
       "      <th>distance</th>\n",
       "      <th>duration</th>\n",
       "      <th>date</th>\n",
       "      <th>month</th>\n",
       "      <th>minute_price</th>\n",
       "      <th>start_ride_price</th>\n",
       "      <th>subscription_fee</th>\n",
       "    </tr>\n",
       "  </thead>\n",
       "  <tbody>\n",
       "    <tr>\n",
       "      <th>6500</th>\n",
       "      <td>700</td>\n",
       "      <td>Айдар</td>\n",
       "      <td>22</td>\n",
       "      <td>Омск</td>\n",
       "      <td>free</td>\n",
       "      <td>2515.69</td>\n",
       "      <td>15</td>\n",
       "      <td>2021-01-02</td>\n",
       "      <td>1</td>\n",
       "      <td>8</td>\n",
       "      <td>50</td>\n",
       "      <td>0</td>\n",
       "    </tr>\n",
       "    <tr>\n",
       "      <th>6501</th>\n",
       "      <td>700</td>\n",
       "      <td>Айдар</td>\n",
       "      <td>22</td>\n",
       "      <td>Омск</td>\n",
       "      <td>free</td>\n",
       "      <td>846.93</td>\n",
       "      <td>17</td>\n",
       "      <td>2021-02-01</td>\n",
       "      <td>2</td>\n",
       "      <td>8</td>\n",
       "      <td>50</td>\n",
       "      <td>0</td>\n",
       "    </tr>\n",
       "    <tr>\n",
       "      <th>6502</th>\n",
       "      <td>700</td>\n",
       "      <td>Айдар</td>\n",
       "      <td>22</td>\n",
       "      <td>Омск</td>\n",
       "      <td>free</td>\n",
       "      <td>4004.43</td>\n",
       "      <td>21</td>\n",
       "      <td>2021-02-04</td>\n",
       "      <td>2</td>\n",
       "      <td>8</td>\n",
       "      <td>50</td>\n",
       "      <td>0</td>\n",
       "    </tr>\n",
       "    <tr>\n",
       "      <th>6503</th>\n",
       "      <td>700</td>\n",
       "      <td>Айдар</td>\n",
       "      <td>22</td>\n",
       "      <td>Омск</td>\n",
       "      <td>free</td>\n",
       "      <td>1205.91</td>\n",
       "      <td>10</td>\n",
       "      <td>2021-02-10</td>\n",
       "      <td>2</td>\n",
       "      <td>8</td>\n",
       "      <td>50</td>\n",
       "      <td>0</td>\n",
       "    </tr>\n",
       "    <tr>\n",
       "      <th>6504</th>\n",
       "      <td>700</td>\n",
       "      <td>Айдар</td>\n",
       "      <td>22</td>\n",
       "      <td>Омск</td>\n",
       "      <td>free</td>\n",
       "      <td>3047.38</td>\n",
       "      <td>18</td>\n",
       "      <td>2021-02-14</td>\n",
       "      <td>2</td>\n",
       "      <td>8</td>\n",
       "      <td>50</td>\n",
       "      <td>0</td>\n",
       "    </tr>\n",
       "    <tr>\n",
       "      <th>...</th>\n",
       "      <td>...</td>\n",
       "      <td>...</td>\n",
       "      <td>...</td>\n",
       "      <td>...</td>\n",
       "      <td>...</td>\n",
       "      <td>...</td>\n",
       "      <td>...</td>\n",
       "      <td>...</td>\n",
       "      <td>...</td>\n",
       "      <td>...</td>\n",
       "      <td>...</td>\n",
       "      <td>...</td>\n",
       "    </tr>\n",
       "    <tr>\n",
       "      <th>18063</th>\n",
       "      <td>1534</td>\n",
       "      <td>Альберт</td>\n",
       "      <td>25</td>\n",
       "      <td>Краснодар</td>\n",
       "      <td>free</td>\n",
       "      <td>3781.10</td>\n",
       "      <td>20</td>\n",
       "      <td>2021-11-04</td>\n",
       "      <td>11</td>\n",
       "      <td>8</td>\n",
       "      <td>50</td>\n",
       "      <td>0</td>\n",
       "    </tr>\n",
       "    <tr>\n",
       "      <th>18064</th>\n",
       "      <td>1534</td>\n",
       "      <td>Альберт</td>\n",
       "      <td>25</td>\n",
       "      <td>Краснодар</td>\n",
       "      <td>free</td>\n",
       "      <td>2840.42</td>\n",
       "      <td>22</td>\n",
       "      <td>2021-11-16</td>\n",
       "      <td>11</td>\n",
       "      <td>8</td>\n",
       "      <td>50</td>\n",
       "      <td>0</td>\n",
       "    </tr>\n",
       "    <tr>\n",
       "      <th>18065</th>\n",
       "      <td>1534</td>\n",
       "      <td>Альберт</td>\n",
       "      <td>25</td>\n",
       "      <td>Краснодар</td>\n",
       "      <td>free</td>\n",
       "      <td>3826.19</td>\n",
       "      <td>19</td>\n",
       "      <td>2021-11-18</td>\n",
       "      <td>11</td>\n",
       "      <td>8</td>\n",
       "      <td>50</td>\n",
       "      <td>0</td>\n",
       "    </tr>\n",
       "    <tr>\n",
       "      <th>18066</th>\n",
       "      <td>1534</td>\n",
       "      <td>Альберт</td>\n",
       "      <td>25</td>\n",
       "      <td>Краснодар</td>\n",
       "      <td>free</td>\n",
       "      <td>2902.31</td>\n",
       "      <td>17</td>\n",
       "      <td>2021-11-27</td>\n",
       "      <td>11</td>\n",
       "      <td>8</td>\n",
       "      <td>50</td>\n",
       "      <td>0</td>\n",
       "    </tr>\n",
       "    <tr>\n",
       "      <th>18067</th>\n",
       "      <td>1534</td>\n",
       "      <td>Альберт</td>\n",
       "      <td>25</td>\n",
       "      <td>Краснодар</td>\n",
       "      <td>free</td>\n",
       "      <td>2371.71</td>\n",
       "      <td>16</td>\n",
       "      <td>2021-12-29</td>\n",
       "      <td>12</td>\n",
       "      <td>8</td>\n",
       "      <td>50</td>\n",
       "      <td>0</td>\n",
       "    </tr>\n",
       "  </tbody>\n",
       "</table>\n",
       "<p>11568 rows × 12 columns</p>\n",
       "</div>"
      ],
      "text/plain": [
       "       user_id     name  age       city subscription_type  distance  duration  \\\n",
       "6500       700    Айдар   22       Омск              free   2515.69        15   \n",
       "6501       700    Айдар   22       Омск              free    846.93        17   \n",
       "6502       700    Айдар   22       Омск              free   4004.43        21   \n",
       "6503       700    Айдар   22       Омск              free   1205.91        10   \n",
       "6504       700    Айдар   22       Омск              free   3047.38        18   \n",
       "...        ...      ...  ...        ...               ...       ...       ...   \n",
       "18063     1534  Альберт   25  Краснодар              free   3781.10        20   \n",
       "18064     1534  Альберт   25  Краснодар              free   2840.42        22   \n",
       "18065     1534  Альберт   25  Краснодар              free   3826.19        19   \n",
       "18066     1534  Альберт   25  Краснодар              free   2902.31        17   \n",
       "18067     1534  Альберт   25  Краснодар              free   2371.71        16   \n",
       "\n",
       "            date  month  minute_price  start_ride_price  subscription_fee  \n",
       "6500  2021-01-02      1             8                50                 0  \n",
       "6501  2021-02-01      2             8                50                 0  \n",
       "6502  2021-02-04      2             8                50                 0  \n",
       "6503  2021-02-10      2             8                50                 0  \n",
       "6504  2021-02-14      2             8                50                 0  \n",
       "...          ...    ...           ...               ...               ...  \n",
       "18063 2021-11-04     11             8                50                 0  \n",
       "18064 2021-11-16     11             8                50                 0  \n",
       "18065 2021-11-18     11             8                50                 0  \n",
       "18066 2021-11-27     11             8                50                 0  \n",
       "18067 2021-12-29     12             8                50                 0  \n",
       "\n",
       "[11568 rows x 12 columns]"
      ]
     },
     "execution_count": 33,
     "metadata": {},
     "output_type": "execute_result"
    }
   ],
   "source": [
    "free_go = data_go.query('subscription_type == \"free\"') #создаем датафрейм с бесплатной подпиской\n",
    "free_go"
   ]
  },
  {
   "cell_type": "code",
   "execution_count": 34,
   "id": "c58f1a53",
   "metadata": {},
   "outputs": [
    {
     "data": {
      "text/html": [
       "<div>\n",
       "<style scoped>\n",
       "    .dataframe tbody tr th:only-of-type {\n",
       "        vertical-align: middle;\n",
       "    }\n",
       "\n",
       "    .dataframe tbody tr th {\n",
       "        vertical-align: top;\n",
       "    }\n",
       "\n",
       "    .dataframe thead th {\n",
       "        text-align: right;\n",
       "    }\n",
       "</style>\n",
       "<table border=\"1\" class=\"dataframe\">\n",
       "  <thead>\n",
       "    <tr style=\"text-align: right;\">\n",
       "      <th></th>\n",
       "      <th>user_id</th>\n",
       "      <th>name</th>\n",
       "      <th>age</th>\n",
       "      <th>city</th>\n",
       "      <th>subscription_type</th>\n",
       "      <th>distance</th>\n",
       "      <th>duration</th>\n",
       "      <th>date</th>\n",
       "      <th>month</th>\n",
       "      <th>minute_price</th>\n",
       "      <th>start_ride_price</th>\n",
       "      <th>subscription_fee</th>\n",
       "    </tr>\n",
       "  </thead>\n",
       "  <tbody>\n",
       "    <tr>\n",
       "      <th>0</th>\n",
       "      <td>1</td>\n",
       "      <td>Кира</td>\n",
       "      <td>22</td>\n",
       "      <td>Тюмень</td>\n",
       "      <td>ultra</td>\n",
       "      <td>4409.92</td>\n",
       "      <td>26</td>\n",
       "      <td>2021-01-01</td>\n",
       "      <td>1</td>\n",
       "      <td>6</td>\n",
       "      <td>0</td>\n",
       "      <td>199</td>\n",
       "    </tr>\n",
       "    <tr>\n",
       "      <th>1</th>\n",
       "      <td>1</td>\n",
       "      <td>Кира</td>\n",
       "      <td>22</td>\n",
       "      <td>Тюмень</td>\n",
       "      <td>ultra</td>\n",
       "      <td>2617.59</td>\n",
       "      <td>16</td>\n",
       "      <td>2021-01-18</td>\n",
       "      <td>1</td>\n",
       "      <td>6</td>\n",
       "      <td>0</td>\n",
       "      <td>199</td>\n",
       "    </tr>\n",
       "    <tr>\n",
       "      <th>2</th>\n",
       "      <td>1</td>\n",
       "      <td>Кира</td>\n",
       "      <td>22</td>\n",
       "      <td>Тюмень</td>\n",
       "      <td>ultra</td>\n",
       "      <td>754.16</td>\n",
       "      <td>7</td>\n",
       "      <td>2021-04-20</td>\n",
       "      <td>4</td>\n",
       "      <td>6</td>\n",
       "      <td>0</td>\n",
       "      <td>199</td>\n",
       "    </tr>\n",
       "    <tr>\n",
       "      <th>3</th>\n",
       "      <td>1</td>\n",
       "      <td>Кира</td>\n",
       "      <td>22</td>\n",
       "      <td>Тюмень</td>\n",
       "      <td>ultra</td>\n",
       "      <td>2694.78</td>\n",
       "      <td>19</td>\n",
       "      <td>2021-08-11</td>\n",
       "      <td>8</td>\n",
       "      <td>6</td>\n",
       "      <td>0</td>\n",
       "      <td>199</td>\n",
       "    </tr>\n",
       "    <tr>\n",
       "      <th>4</th>\n",
       "      <td>1</td>\n",
       "      <td>Кира</td>\n",
       "      <td>22</td>\n",
       "      <td>Тюмень</td>\n",
       "      <td>ultra</td>\n",
       "      <td>4028.69</td>\n",
       "      <td>27</td>\n",
       "      <td>2021-08-28</td>\n",
       "      <td>8</td>\n",
       "      <td>6</td>\n",
       "      <td>0</td>\n",
       "      <td>199</td>\n",
       "    </tr>\n",
       "    <tr>\n",
       "      <th>...</th>\n",
       "      <td>...</td>\n",
       "      <td>...</td>\n",
       "      <td>...</td>\n",
       "      <td>...</td>\n",
       "      <td>...</td>\n",
       "      <td>...</td>\n",
       "      <td>...</td>\n",
       "      <td>...</td>\n",
       "      <td>...</td>\n",
       "      <td>...</td>\n",
       "      <td>...</td>\n",
       "      <td>...</td>\n",
       "    </tr>\n",
       "    <tr>\n",
       "      <th>6495</th>\n",
       "      <td>699</td>\n",
       "      <td>Оксана</td>\n",
       "      <td>22</td>\n",
       "      <td>Москва</td>\n",
       "      <td>ultra</td>\n",
       "      <td>3973.05</td>\n",
       "      <td>25</td>\n",
       "      <td>2021-08-29</td>\n",
       "      <td>8</td>\n",
       "      <td>6</td>\n",
       "      <td>0</td>\n",
       "      <td>199</td>\n",
       "    </tr>\n",
       "    <tr>\n",
       "      <th>6496</th>\n",
       "      <td>699</td>\n",
       "      <td>Оксана</td>\n",
       "      <td>22</td>\n",
       "      <td>Москва</td>\n",
       "      <td>ultra</td>\n",
       "      <td>3288.70</td>\n",
       "      <td>16</td>\n",
       "      <td>2021-09-12</td>\n",
       "      <td>9</td>\n",
       "      <td>6</td>\n",
       "      <td>0</td>\n",
       "      <td>199</td>\n",
       "    </tr>\n",
       "    <tr>\n",
       "      <th>6497</th>\n",
       "      <td>699</td>\n",
       "      <td>Оксана</td>\n",
       "      <td>22</td>\n",
       "      <td>Москва</td>\n",
       "      <td>ultra</td>\n",
       "      <td>3076.16</td>\n",
       "      <td>15</td>\n",
       "      <td>2021-09-26</td>\n",
       "      <td>9</td>\n",
       "      <td>6</td>\n",
       "      <td>0</td>\n",
       "      <td>199</td>\n",
       "    </tr>\n",
       "    <tr>\n",
       "      <th>6498</th>\n",
       "      <td>699</td>\n",
       "      <td>Оксана</td>\n",
       "      <td>22</td>\n",
       "      <td>Москва</td>\n",
       "      <td>ultra</td>\n",
       "      <td>4707.85</td>\n",
       "      <td>16</td>\n",
       "      <td>2021-10-17</td>\n",
       "      <td>10</td>\n",
       "      <td>6</td>\n",
       "      <td>0</td>\n",
       "      <td>199</td>\n",
       "    </tr>\n",
       "    <tr>\n",
       "      <th>6499</th>\n",
       "      <td>699</td>\n",
       "      <td>Оксана</td>\n",
       "      <td>22</td>\n",
       "      <td>Москва</td>\n",
       "      <td>ultra</td>\n",
       "      <td>3202.89</td>\n",
       "      <td>26</td>\n",
       "      <td>2021-12-03</td>\n",
       "      <td>12</td>\n",
       "      <td>6</td>\n",
       "      <td>0</td>\n",
       "      <td>199</td>\n",
       "    </tr>\n",
       "  </tbody>\n",
       "</table>\n",
       "<p>6500 rows × 12 columns</p>\n",
       "</div>"
      ],
      "text/plain": [
       "      user_id    name  age    city subscription_type  distance  duration  \\\n",
       "0           1    Кира   22  Тюмень             ultra   4409.92        26   \n",
       "1           1    Кира   22  Тюмень             ultra   2617.59        16   \n",
       "2           1    Кира   22  Тюмень             ultra    754.16         7   \n",
       "3           1    Кира   22  Тюмень             ultra   2694.78        19   \n",
       "4           1    Кира   22  Тюмень             ultra   4028.69        27   \n",
       "...       ...     ...  ...     ...               ...       ...       ...   \n",
       "6495      699  Оксана   22  Москва             ultra   3973.05        25   \n",
       "6496      699  Оксана   22  Москва             ultra   3288.70        16   \n",
       "6497      699  Оксана   22  Москва             ultra   3076.16        15   \n",
       "6498      699  Оксана   22  Москва             ultra   4707.85        16   \n",
       "6499      699  Оксана   22  Москва             ultra   3202.89        26   \n",
       "\n",
       "           date  month  minute_price  start_ride_price  subscription_fee  \n",
       "0    2021-01-01      1             6                 0               199  \n",
       "1    2021-01-18      1             6                 0               199  \n",
       "2    2021-04-20      4             6                 0               199  \n",
       "3    2021-08-11      8             6                 0               199  \n",
       "4    2021-08-28      8             6                 0               199  \n",
       "...         ...    ...           ...               ...               ...  \n",
       "6495 2021-08-29      8             6                 0               199  \n",
       "6496 2021-09-12      9             6                 0               199  \n",
       "6497 2021-09-26      9             6                 0               199  \n",
       "6498 2021-10-17     10             6                 0               199  \n",
       "6499 2021-12-03     12             6                 0               199  \n",
       "\n",
       "[6500 rows x 12 columns]"
      ]
     },
     "execution_count": 34,
     "metadata": {},
     "output_type": "execute_result"
    }
   ],
   "source": [
    "ultra_go = data_go.query('subscription_type == \"ultra\"') #создаем датафрейм с платной подпиской\n",
    "ultra_go"
   ]
  },
  {
   "cell_type": "markdown",
   "id": "39a7027d",
   "metadata": {},
   "source": [
    "##### Визуализируем информацию о расстоянии и времени в поездках для разных категорий подписок"
   ]
  },
  {
   "cell_type": "code",
   "execution_count": 35,
   "id": "bc83e209",
   "metadata": {},
   "outputs": [
    {
     "data": {
      "image/png": "[encoded data removed]",
      "text/plain": [
       "<Figure size 1080x720 with 1 Axes>"
      ]
     },
     "metadata": {
      "needs_background": "light"
     },
     "output_type": "display_data"
    }
   ],
   "source": [
    "(free_go['distance']\n",
    " .plot(kind='hist',\n",
    "       bins=30,\n",
    "       figsize=(15,10),\n",
    "       grid=True,\n",
    "       title='Расстояние, бесплатная подписка',\n",
    "       range=(0,7500)))\n",
    "(ultra_go['distance']\n",
    " .plot(kind='hist',\n",
    "       bins=30,\n",
    "       figsize=(15,10),\n",
    "       grid=True,\n",
    "       title='Расстояние, которое проезжают пользователи',\n",
    "       range=(0,6000)))\n",
    "plt.xlabel('Расстояние')\n",
    "plt.ylabel('Количество поездок')\n",
    "plt.legend(['Без подписки', 'С подпиской'])\n",
    "plt.show()"
   ]
  },
  {
   "cell_type": "code",
   "execution_count": 36,
   "id": "7d0abdce",
   "metadata": {},
   "outputs": [
    {
     "data": {
      "image/png": "[encoded data removed]",
      "text/plain": [
       "<Figure size 1080x720 with 1 Axes>"
      ]
     },
     "metadata": {
      "needs_background": "light"
     },
     "output_type": "display_data"
    }
   ],
   "source": [
    "(free_go['duration']\n",
    " .plot(kind='hist',\n",
    "       bins=20,\n",
    "       figsize=(15,10),\n",
    "       grid=True,\n",
    "       title='Время в поездках, бесплатная подписка',\n",
    "       range=(0,40)))\n",
    "(ultra_go['duration']\n",
    " .plot(kind='hist',\n",
    "       grid=True,\n",
    "       bins=25,\n",
    "       figsize=(15,10),\n",
    "       title='Время в поездках',\n",
    "       range=(0,45)))\n",
    "plt.xlabel('Продолжительность сессии в минутах')\n",
    "plt.ylabel('Количество поездок')\n",
    "plt.legend(['Без подписки','С подпиской'])\n",
    "plt.show()"
   ]
  },
  {
   "cell_type": "markdown",
   "id": "ed6f208f",
   "metadata": {},
   "source": [
    "***Пользователи с бесплатной подпиской проезжают расстояние от 2 до 5 км и тратят времени на поездки от 10 до 30 минут. С платной подпиской пользователи больше всего проезжают расстояние в 3 км, а времени трятят на поездки от 10 до 25 минут.***  \n",
    "***Получается пользователи с бесплатной подпиской проезжают более длинные дистанции до 5 км, по продожительности времени в поездках примерно одинаково, но с бесплатной подпиской бывают тратят около 30 минут времени на поездку, это скорей всего при проезде дистанции в 5 км.***"
   ]
  },
  {
   "cell_type": "markdown",
   "id": "f9ff2587",
   "metadata": {},
   "source": [
    "#### Шаг 5. Подсчёт выручки"
   ]
  },
  {
   "cell_type": "markdown",
   "id": "19f1471d",
   "metadata": {},
   "source": [
    "##### Найдем суммарное расстояние, кол-во поездок и суммарное время для каждого пользователя за месяц"
   ]
  },
  {
   "cell_type": "code",
   "execution_count": 37,
   "id": "bda931a4",
   "metadata": {},
   "outputs": [
    {
     "data": {
      "text/html": [
       "<div>\n",
       "<style scoped>\n",
       "    .dataframe tbody tr th:only-of-type {\n",
       "        vertical-align: middle;\n",
       "    }\n",
       "\n",
       "    .dataframe tbody tr th {\n",
       "        vertical-align: top;\n",
       "    }\n",
       "\n",
       "    .dataframe thead th {\n",
       "        text-align: right;\n",
       "    }\n",
       "</style>\n",
       "<table border=\"1\" class=\"dataframe\">\n",
       "  <thead>\n",
       "    <tr style=\"text-align: right;\">\n",
       "      <th></th>\n",
       "      <th></th>\n",
       "      <th>distance</th>\n",
       "      <th>duration</th>\n",
       "      <th>minute_price</th>\n",
       "      <th>number_trips</th>\n",
       "      <th>start_ride_price</th>\n",
       "      <th>subscription_fee</th>\n",
       "      <th>subscription_type</th>\n",
       "    </tr>\n",
       "    <tr>\n",
       "      <th>user_id</th>\n",
       "      <th>month</th>\n",
       "      <th></th>\n",
       "      <th></th>\n",
       "      <th></th>\n",
       "      <th></th>\n",
       "      <th></th>\n",
       "      <th></th>\n",
       "      <th></th>\n",
       "    </tr>\n",
       "  </thead>\n",
       "  <tbody>\n",
       "    <tr>\n",
       "      <th rowspan=\"5\" valign=\"top\">1</th>\n",
       "      <th>1</th>\n",
       "      <td>7027.51</td>\n",
       "      <td>42</td>\n",
       "      <td>6</td>\n",
       "      <td>2</td>\n",
       "      <td>0</td>\n",
       "      <td>199</td>\n",
       "      <td>ultra</td>\n",
       "    </tr>\n",
       "    <tr>\n",
       "      <th>4</th>\n",
       "      <td>754.16</td>\n",
       "      <td>7</td>\n",
       "      <td>6</td>\n",
       "      <td>1</td>\n",
       "      <td>0</td>\n",
       "      <td>199</td>\n",
       "      <td>ultra</td>\n",
       "    </tr>\n",
       "    <tr>\n",
       "      <th>8</th>\n",
       "      <td>6723.47</td>\n",
       "      <td>46</td>\n",
       "      <td>6</td>\n",
       "      <td>2</td>\n",
       "      <td>0</td>\n",
       "      <td>199</td>\n",
       "      <td>ultra</td>\n",
       "    </tr>\n",
       "    <tr>\n",
       "      <th>10</th>\n",
       "      <td>5809.91</td>\n",
       "      <td>32</td>\n",
       "      <td>6</td>\n",
       "      <td>2</td>\n",
       "      <td>0</td>\n",
       "      <td>199</td>\n",
       "      <td>ultra</td>\n",
       "    </tr>\n",
       "    <tr>\n",
       "      <th>11</th>\n",
       "      <td>7003.50</td>\n",
       "      <td>56</td>\n",
       "      <td>6</td>\n",
       "      <td>3</td>\n",
       "      <td>0</td>\n",
       "      <td>199</td>\n",
       "      <td>ultra</td>\n",
       "    </tr>\n",
       "    <tr>\n",
       "      <th>...</th>\n",
       "      <th>...</th>\n",
       "      <td>...</td>\n",
       "      <td>...</td>\n",
       "      <td>...</td>\n",
       "      <td>...</td>\n",
       "      <td>...</td>\n",
       "      <td>...</td>\n",
       "      <td>...</td>\n",
       "    </tr>\n",
       "    <tr>\n",
       "      <th rowspan=\"5\" valign=\"top\">1534</th>\n",
       "      <th>6</th>\n",
       "      <td>3409.47</td>\n",
       "      <td>26</td>\n",
       "      <td>8</td>\n",
       "      <td>2</td>\n",
       "      <td>50</td>\n",
       "      <td>0</td>\n",
       "      <td>free</td>\n",
       "    </tr>\n",
       "    <tr>\n",
       "      <th>8</th>\n",
       "      <td>7622.45</td>\n",
       "      <td>48</td>\n",
       "      <td>8</td>\n",
       "      <td>2</td>\n",
       "      <td>50</td>\n",
       "      <td>0</td>\n",
       "      <td>free</td>\n",
       "    </tr>\n",
       "    <tr>\n",
       "      <th>9</th>\n",
       "      <td>4928.17</td>\n",
       "      <td>23</td>\n",
       "      <td>8</td>\n",
       "      <td>1</td>\n",
       "      <td>50</td>\n",
       "      <td>0</td>\n",
       "      <td>free</td>\n",
       "    </tr>\n",
       "    <tr>\n",
       "      <th>11</th>\n",
       "      <td>13350.02</td>\n",
       "      <td>78</td>\n",
       "      <td>8</td>\n",
       "      <td>4</td>\n",
       "      <td>50</td>\n",
       "      <td>0</td>\n",
       "      <td>free</td>\n",
       "    </tr>\n",
       "    <tr>\n",
       "      <th>12</th>\n",
       "      <td>2371.71</td>\n",
       "      <td>16</td>\n",
       "      <td>8</td>\n",
       "      <td>1</td>\n",
       "      <td>50</td>\n",
       "      <td>0</td>\n",
       "      <td>free</td>\n",
       "    </tr>\n",
       "  </tbody>\n",
       "</table>\n",
       "<p>11331 rows × 7 columns</p>\n",
       "</div>"
      ],
      "text/plain": [
       "               distance  duration  minute_price  number_trips  \\\n",
       "user_id month                                                   \n",
       "1       1       7027.51        42             6             2   \n",
       "        4        754.16         7             6             1   \n",
       "        8       6723.47        46             6             2   \n",
       "        10      5809.91        32             6             2   \n",
       "        11      7003.50        56             6             3   \n",
       "...                 ...       ...           ...           ...   \n",
       "1534    6       3409.47        26             8             2   \n",
       "        8       7622.45        48             8             2   \n",
       "        9       4928.17        23             8             1   \n",
       "        11     13350.02        78             8             4   \n",
       "        12      2371.71        16             8             1   \n",
       "\n",
       "               start_ride_price  subscription_fee subscription_type  \n",
       "user_id month                                                        \n",
       "1       1                     0               199             ultra  \n",
       "        4                     0               199             ultra  \n",
       "        8                     0               199             ultra  \n",
       "        10                    0               199             ultra  \n",
       "        11                    0               199             ultra  \n",
       "...                         ...               ...               ...  \n",
       "1534    6                    50                 0              free  \n",
       "        8                    50                 0              free  \n",
       "        9                    50                 0              free  \n",
       "        11                   50                 0              free  \n",
       "        12                   50                 0              free  \n",
       "\n",
       "[11331 rows x 7 columns]"
      ]
     },
     "execution_count": 37,
     "metadata": {},
     "output_type": "execute_result"
    }
   ],
   "source": [
    "pivot_go = (data_go\n",
    "    .pivot_table(\n",
    "        index=('user_id','month'), \n",
    "        values=('name',\n",
    "                'distance',\n",
    "                'duration',\n",
    "                'subscription_type', \n",
    "                'start_ride_price', \n",
    "                'minute_price', \n",
    "                'subscription_fee'),\n",
    "        aggfunc={'name':len,\n",
    "                 'distance':sum,\n",
    "                 'duration':sum,\n",
    "                 'subscription_type':min,\n",
    "                 'start_ride_price':'mean',\n",
    "                 'minute_price':'mean',\n",
    "                 'subscription_fee':'mean'}\n",
    "                 )\n",
    "    .rename(columns={'name': 'number_trips'}\n",
    "           ))\n",
    "pivot_go"
   ]
  },
  {
   "cell_type": "markdown",
   "id": "68cae03b",
   "metadata": {},
   "source": [
    "##### Добавим столбец с помесячной выручкой, которую принес каждый пользователь"
   ]
  },
  {
   "cell_type": "code",
   "execution_count": 38,
   "id": "cf96f1f2",
   "metadata": {},
   "outputs": [
    {
     "data": {
      "text/html": [
       "<div>\n",
       "<style scoped>\n",
       "    .dataframe tbody tr th:only-of-type {\n",
       "        vertical-align: middle;\n",
       "    }\n",
       "\n",
       "    .dataframe tbody tr th {\n",
       "        vertical-align: top;\n",
       "    }\n",
       "\n",
       "    .dataframe thead th {\n",
       "        text-align: right;\n",
       "    }\n",
       "</style>\n",
       "<table border=\"1\" class=\"dataframe\">\n",
       "  <thead>\n",
       "    <tr style=\"text-align: right;\">\n",
       "      <th></th>\n",
       "      <th></th>\n",
       "      <th>distance</th>\n",
       "      <th>duration</th>\n",
       "      <th>minute_price</th>\n",
       "      <th>number_trips</th>\n",
       "      <th>start_ride_price</th>\n",
       "      <th>subscription_fee</th>\n",
       "      <th>subscription_type</th>\n",
       "      <th>revenue_month</th>\n",
       "    </tr>\n",
       "    <tr>\n",
       "      <th>user_id</th>\n",
       "      <th>month</th>\n",
       "      <th></th>\n",
       "      <th></th>\n",
       "      <th></th>\n",
       "      <th></th>\n",
       "      <th></th>\n",
       "      <th></th>\n",
       "      <th></th>\n",
       "      <th></th>\n",
       "    </tr>\n",
       "  </thead>\n",
       "  <tbody>\n",
       "    <tr>\n",
       "      <th rowspan=\"5\" valign=\"top\">1</th>\n",
       "      <th>1</th>\n",
       "      <td>7027.51</td>\n",
       "      <td>42</td>\n",
       "      <td>6</td>\n",
       "      <td>2</td>\n",
       "      <td>0</td>\n",
       "      <td>199</td>\n",
       "      <td>ultra</td>\n",
       "      <td>451</td>\n",
       "    </tr>\n",
       "    <tr>\n",
       "      <th>4</th>\n",
       "      <td>754.16</td>\n",
       "      <td>7</td>\n",
       "      <td>6</td>\n",
       "      <td>1</td>\n",
       "      <td>0</td>\n",
       "      <td>199</td>\n",
       "      <td>ultra</td>\n",
       "      <td>241</td>\n",
       "    </tr>\n",
       "    <tr>\n",
       "      <th>8</th>\n",
       "      <td>6723.47</td>\n",
       "      <td>46</td>\n",
       "      <td>6</td>\n",
       "      <td>2</td>\n",
       "      <td>0</td>\n",
       "      <td>199</td>\n",
       "      <td>ultra</td>\n",
       "      <td>475</td>\n",
       "    </tr>\n",
       "    <tr>\n",
       "      <th>10</th>\n",
       "      <td>5809.91</td>\n",
       "      <td>32</td>\n",
       "      <td>6</td>\n",
       "      <td>2</td>\n",
       "      <td>0</td>\n",
       "      <td>199</td>\n",
       "      <td>ultra</td>\n",
       "      <td>391</td>\n",
       "    </tr>\n",
       "    <tr>\n",
       "      <th>11</th>\n",
       "      <td>7003.50</td>\n",
       "      <td>56</td>\n",
       "      <td>6</td>\n",
       "      <td>3</td>\n",
       "      <td>0</td>\n",
       "      <td>199</td>\n",
       "      <td>ultra</td>\n",
       "      <td>535</td>\n",
       "    </tr>\n",
       "    <tr>\n",
       "      <th>...</th>\n",
       "      <th>...</th>\n",
       "      <td>...</td>\n",
       "      <td>...</td>\n",
       "      <td>...</td>\n",
       "      <td>...</td>\n",
       "      <td>...</td>\n",
       "      <td>...</td>\n",
       "      <td>...</td>\n",
       "      <td>...</td>\n",
       "    </tr>\n",
       "    <tr>\n",
       "      <th rowspan=\"5\" valign=\"top\">1534</th>\n",
       "      <th>6</th>\n",
       "      <td>3409.47</td>\n",
       "      <td>26</td>\n",
       "      <td>8</td>\n",
       "      <td>2</td>\n",
       "      <td>50</td>\n",
       "      <td>0</td>\n",
       "      <td>free</td>\n",
       "      <td>308</td>\n",
       "    </tr>\n",
       "    <tr>\n",
       "      <th>8</th>\n",
       "      <td>7622.45</td>\n",
       "      <td>48</td>\n",
       "      <td>8</td>\n",
       "      <td>2</td>\n",
       "      <td>50</td>\n",
       "      <td>0</td>\n",
       "      <td>free</td>\n",
       "      <td>484</td>\n",
       "    </tr>\n",
       "    <tr>\n",
       "      <th>9</th>\n",
       "      <td>4928.17</td>\n",
       "      <td>23</td>\n",
       "      <td>8</td>\n",
       "      <td>1</td>\n",
       "      <td>50</td>\n",
       "      <td>0</td>\n",
       "      <td>free</td>\n",
       "      <td>234</td>\n",
       "    </tr>\n",
       "    <tr>\n",
       "      <th>11</th>\n",
       "      <td>13350.02</td>\n",
       "      <td>78</td>\n",
       "      <td>8</td>\n",
       "      <td>4</td>\n",
       "      <td>50</td>\n",
       "      <td>0</td>\n",
       "      <td>free</td>\n",
       "      <td>824</td>\n",
       "    </tr>\n",
       "    <tr>\n",
       "      <th>12</th>\n",
       "      <td>2371.71</td>\n",
       "      <td>16</td>\n",
       "      <td>8</td>\n",
       "      <td>1</td>\n",
       "      <td>50</td>\n",
       "      <td>0</td>\n",
       "      <td>free</td>\n",
       "      <td>178</td>\n",
       "    </tr>\n",
       "  </tbody>\n",
       "</table>\n",
       "<p>11331 rows × 8 columns</p>\n",
       "</div>"
      ],
      "text/plain": [
       "               distance  duration  minute_price  number_trips  \\\n",
       "user_id month                                                   \n",
       "1       1       7027.51        42             6             2   \n",
       "        4        754.16         7             6             1   \n",
       "        8       6723.47        46             6             2   \n",
       "        10      5809.91        32             6             2   \n",
       "        11      7003.50        56             6             3   \n",
       "...                 ...       ...           ...           ...   \n",
       "1534    6       3409.47        26             8             2   \n",
       "        8       7622.45        48             8             2   \n",
       "        9       4928.17        23             8             1   \n",
       "        11     13350.02        78             8             4   \n",
       "        12      2371.71        16             8             1   \n",
       "\n",
       "               start_ride_price  subscription_fee subscription_type  \\\n",
       "user_id month                                                         \n",
       "1       1                     0               199             ultra   \n",
       "        4                     0               199             ultra   \n",
       "        8                     0               199             ultra   \n",
       "        10                    0               199             ultra   \n",
       "        11                    0               199             ultra   \n",
       "...                         ...               ...               ...   \n",
       "1534    6                    50                 0              free   \n",
       "        8                    50                 0              free   \n",
       "        9                    50                 0              free   \n",
       "        11                   50                 0              free   \n",
       "        12                   50                 0              free   \n",
       "\n",
       "               revenue_month  \n",
       "user_id month                 \n",
       "1       1                451  \n",
       "        4                241  \n",
       "        8                475  \n",
       "        10               391  \n",
       "        11               535  \n",
       "...                      ...  \n",
       "1534    6                308  \n",
       "        8                484  \n",
       "        9                234  \n",
       "        11               824  \n",
       "        12               178  \n",
       "\n",
       "[11331 rows x 8 columns]"
      ]
     },
     "execution_count": 38,
     "metadata": {},
     "output_type": "execute_result"
    }
   ],
   "source": [
    "pivot_go['revenue_month'] = (pivot_go['start_ride_price']*pivot_go['number_trips']\n",
    "   + pivot_go['minute_price']*pivot_go['duration'] + pivot_go['subscription_fee'])\n",
    "pivot_go"
   ]
  },
  {
   "cell_type": "markdown",
   "id": "663ce9ff",
   "metadata": {},
   "source": [
    "#### Шаг 6. Проверка гипотез"
   ]
  },
  {
   "cell_type": "markdown",
   "id": "9bb2b3b3",
   "metadata": {},
   "source": [
    "##### Тратят ли пользователи  с подпиской больше времени на поездки?"
   ]
  },
  {
   "cell_type": "markdown",
   "id": "f9f17c34",
   "metadata": {},
   "source": [
    "Нужно проверить гипотезу: \n",
    "- пользователи с подпиской трятят больше времени на поездки, чем без подписки  \n",
    "  \n",
    "H0 - Средняя продолжительность поездок с подпиской = Средней продолжительности поездок без подписки  \n",
    "H1 - Средняя продолжительность поездок с подпиской > Средней продолжительности поездок без подписки\n",
    "  \n",
    "уровень значимости 5%"
   ]
  },
  {
   "cell_type": "code",
   "execution_count": 39,
   "id": "94fa9b33",
   "metadata": {},
   "outputs": [
    {
     "name": "stdout",
     "output_type": "stream",
     "text": [
      "Р-значение: 2.4959453720736625e-34\n",
      "Отвергаем нулевую гипотезу\n"
     ]
    }
   ],
   "source": [
    "ultra = ultra_go['duration']\n",
    "free = free_go['duration']\n",
    "alpha = .05\n",
    "results = st.ttest_ind(ultra, \n",
    "           free,\n",
    "           equal_var=True, \n",
    "           alternative='greater')\n",
    "print('Р-значение:', results.pvalue)\n",
    "if results.pvalue < alpha:\n",
    "    print('Отвергаем нулевую гипотезу')\n",
    "else:\n",
    "    print('Не получилось отвергнуть нулевую гипотезу')"
   ]
  },
  {
   "cell_type": "markdown",
   "id": "49703ece",
   "metadata": {},
   "source": [
    "***Нулевая гипотеза отвергнута, можем предполагать, что время в поездках пользователей с подпиской больше, чем продолжительность поездок у пользователей без подписки.***"
   ]
  },
  {
   "cell_type": "markdown",
   "id": "ff62b36f",
   "metadata": {},
   "source": [
    "##### Можно ли сказать, что среднее расстояние, которое проезжают пользователи с подпиской за одну поездку, не превышает 3130 метра?"
   ]
  },
  {
   "cell_type": "markdown",
   "id": "b7fd1dee",
   "metadata": {},
   "source": [
    "Расстояние одной поездки в 3130 метров - оптимальное с точки зрения износа самоката.\n",
    "Проверяем гипотезу: \n",
    "- Можно ли сказать, что среднее расстояние, которое проезжают пользователи с подпиской за одну поездку, не превышает 3130 метра?    \n",
    "\n",
    "H0 - Среднее расстояние поездок = 3130 метра  \n",
    "H1 - Среднее расстояние поездок > 3130 метров  \n",
    "  \n",
    "уровень значимости 5%\n"
   ]
  },
  {
   "cell_type": "code",
   "execution_count": 40,
   "id": "024346b7",
   "metadata": {},
   "outputs": [
    {
     "name": "stdout",
     "output_type": "stream",
     "text": [
      "Р-значение: 0.9195362605842414\n",
      "Не получилось отвергнуть нулевую гипотезу\n"
     ]
    }
   ],
   "source": [
    "ultra = ultra_go['distance']\n",
    "dist = 3130\n",
    "alpha = .05\n",
    "results = st.ttest_1samp(ultra, \n",
    "                        dist,\n",
    "                        alternative='greater')\n",
    "print('Р-значение:', results.pvalue)\n",
    "if results.pvalue < alpha:\n",
    "    print('Отвергаем нулевую гипотезу')\n",
    "else:\n",
    "    print('Не получилось отвергнуть нулевую гипотезу')"
   ]
  },
  {
   "cell_type": "markdown",
   "id": "d4a4823c",
   "metadata": {},
   "source": [
    "***Нулевую гипотезу отвергнуть не удалось, значить можем предполагать, что среднее расстояние, которое проезжают пользователи с подпиской за одну поезду, не превышает 3130 метров.***"
   ]
  },
  {
   "cell_type": "markdown",
   "id": "1fb7f259",
   "metadata": {},
   "source": [
    "##### Будет ли помесячная выручка от пользователей с подпиской по месяцам выше, чем выручка у пользователей без подписки?"
   ]
  },
  {
   "cell_type": "markdown",
   "id": "0709b7e8",
   "metadata": {},
   "source": [
    "***Проверяем гипотезу: будет ли помесячная выручка от пользователей с подпиской по месяцам выше, чем выручка у пользователей без подписки?***  \n",
    "  \n",
    "H0 - Помесячная выручка пользователей с подпиской = Помесячная выручка пользователей без подписки  \n",
    "H1 - Помесячная выручка пользователей с подпиской > Помесячная выручка пользователей без подписки\n",
    "  \n",
    "уровень значимости 5%  "
   ]
  },
  {
   "cell_type": "code",
   "execution_count": 41,
   "id": "acdc8d93",
   "metadata": {},
   "outputs": [
    {
     "name": "stdout",
     "output_type": "stream",
     "text": [
      "Р-значение: 1.8850394384715216e-31\n",
      "Отвергаем нулевую гипотезу\n"
     ]
    }
   ],
   "source": [
    "ultra = pivot_go.loc[pivot_go['subscription_type']=='ultra', 'revenue_month']\n",
    "free = pivot_go.loc[pivot_go['subscription_type']=='free', 'revenue_month']\n",
    "alpha = .05\n",
    "results = st.ttest_ind(ultra, \n",
    "           free,\n",
    "           equal_var=True, \n",
    "           alternative='greater')\n",
    "print('Р-значение:', results.pvalue)\n",
    "if results.pvalue < alpha:\n",
    "    print('Отвергаем нулевую гипотезу')\n",
    "else:\n",
    "    print('Не получилось отвергнуть нулевую гипотезу')"
   ]
  },
  {
   "cell_type": "markdown",
   "id": "6a8ac8e4",
   "metadata": {},
   "source": [
    "***Нулевую гипотезу отвергнули, значит можем предполагать, что помесячная выручка от пользователей с подпиской по месяцам выше, чем у пользователей без подписки.***"
   ]
  },
  {
   "cell_type": "markdown",
   "id": "64765228",
   "metadata": {},
   "source": [
    "##### Техническая команда сервиса обновила сервера, с которыми взаимодействует мобильное приложение. Она надеется, что из-за этого количество обращений в техподдержку значимо снизилось. Некоторый файл содержит для каждого пользователя данные о количестве обращений до  обновлений и после него. Какой тест понадобится для проверки гипотезы?"
   ]
  },
  {
   "cell_type": "markdown",
   "id": "f14591da",
   "metadata": {},
   "source": [
    "***Дла проверки гипотезы:*** нужно использовать гипотезу о равенстве средних для зависимости(парных) выборок и применять метод:  **scipy.stats.ttest_rel**\n",
    "  \n",
    "H0 - u1 = u2  \n",
    "H1 - u1 > u2  \n",
    "u1 и u2 - средние значения до и после изменения."
   ]
  },
  {
   "cell_type": "markdown",
   "id": "1151d33b",
   "metadata": {},
   "source": [
    "#### Шаг 7. Общий вывод"
   ]
  },
  {
   "cell_type": "markdown",
   "id": "5fc8d053",
   "metadata": {},
   "source": [
    "***Исходя из общего анализа мы видим:***  \n",
    "*1. На первой позиции по пользователям город Пятигорск - 219 человек, затем Екатеринург - 204 человека, самое меньшее в Москве - 168 человек.*  \n",
    "*2. Большая часть пользователей с бесплатной подпиской - 835 человек, это 54.4% от общего количества. На платной подписке 699 пользователей - 45.6%.*  \n",
    "*3. В среднем преобладает количество пользователей от 20 до 30лет. Больше всего человек в возрасте 25 лет. Самые малдшие пользователи - 12 лет, а старшие - 43 года.*  \n",
    "*4. Основная дистанция у пользователей составляет от 2.5км до 4 км. Самая короткая дистанция - 860м, а самая длинная ~ 7.2км.*   \n",
    "*5. Основное время в поездках у пользователей занимает от 10 до 25 минут. Самая короткая поездка ~ 1 минута, долгая - 41 минуту.*  \n",
    "*6. Пользователи с бесплатной подпиской проезжают расстояние от 2 до 5 км и тратят времени на поездки от 10 до 30 минут. С платной подпиской пользователи больше всего проезжают расстояние в 3 км, а времени трятят на поездки от 10 до 25 минут.*    \n",
    "***Также проверили нектороые гипотезы:***  \n",
    "*1. Можем предполагать, что время в поездках пользователей с подпиской больше, чем продолжительность поездок у пользователей без подписки.*  \n",
    "*2. Можем предполагать, что среднее расстояние, которое проезжают пользователи с подпиской за одну поезду, не превышает 3130 метров.*  \n",
    "*3. Можем предполагать, что помесячная выручка от пользователей с подпиской по месяцам выше, чем у пользователей без подписки.*    \n",
    "  \n",
    "***Пользователи с подпиской являются более выгодными для компании, поэтому компании нужно принять меры для увеличения клиентов на платном тарифе.***"
   ]
  }
 ],
 "metadata": {
  "ExecuteTimeLog": [
   {
    "duration": 1267,
    "start_time": "2024-05-16T11:38:19.172Z"
   },
   {
    "duration": 97,
    "start_time": "2024-05-16T11:41:52.360Z"
   },
   {
    "duration": 81,
    "start_time": "2024-05-16T11:42:23.790Z"
   },
   {
    "duration": 33,
    "start_time": "2024-05-16T11:42:54.186Z"
   },
   {
    "duration": 32,
    "start_time": "2024-05-16T11:43:19.105Z"
   },
   {
    "duration": 31,
    "start_time": "2024-05-16T11:43:26.333Z"
   },
   {
    "duration": 34,
    "start_time": "2024-05-16T11:43:30.580Z"
   },
   {
    "duration": 33,
    "start_time": "2024-05-16T11:43:37.101Z"
   },
   {
    "duration": 139,
    "start_time": "2024-05-16T11:46:44.354Z"
   },
   {
    "duration": 117,
    "start_time": "2024-05-16T11:47:00.391Z"
   },
   {
    "duration": 79,
    "start_time": "2024-05-16T11:48:00.286Z"
   },
   {
    "duration": 78,
    "start_time": "2024-05-16T11:48:10.323Z"
   },
   {
    "duration": 79,
    "start_time": "2024-05-16T11:48:20.589Z"
   },
   {
    "duration": 78,
    "start_time": "2024-05-16T11:48:45.986Z"
   },
   {
    "duration": 78,
    "start_time": "2024-05-16T11:48:53.349Z"
   },
   {
    "duration": 69,
    "start_time": "2024-05-16T11:49:04.774Z"
   },
   {
    "duration": 69,
    "start_time": "2024-05-16T11:49:13.865Z"
   },
   {
    "duration": 68,
    "start_time": "2024-05-16T11:49:27.349Z"
   },
   {
    "duration": 81,
    "start_time": "2024-05-16T11:49:38.507Z"
   },
   {
    "duration": 86,
    "start_time": "2024-05-16T11:49:43.330Z"
   },
   {
    "duration": 1022,
    "start_time": "2024-05-16T11:50:01.787Z"
   },
   {
    "duration": 90,
    "start_time": "2024-05-16T11:50:02.811Z"
   },
   {
    "duration": 26,
    "start_time": "2024-05-16T11:53:52.727Z"
   },
   {
    "duration": 33,
    "start_time": "2024-05-16T11:54:24.135Z"
   },
   {
    "duration": 22,
    "start_time": "2024-05-16T11:54:51.529Z"
   },
   {
    "duration": 23,
    "start_time": "2024-05-16T11:55:42.991Z"
   },
   {
    "duration": 25,
    "start_time": "2024-05-16T11:56:01.732Z"
   },
   {
    "duration": 12,
    "start_time": "2024-05-16T11:56:23.962Z"
   },
   {
    "duration": 3,
    "start_time": "2024-05-16T11:56:56.952Z"
   },
   {
    "duration": 92,
    "start_time": "2024-05-16T11:56:58.145Z"
   },
   {
    "duration": 11,
    "start_time": "2024-05-16T11:57:00.239Z"
   },
   {
    "duration": 1093,
    "start_time": "2024-05-16T11:58:57.372Z"
   },
   {
    "duration": 84,
    "start_time": "2024-05-16T11:58:58.467Z"
   },
   {
    "duration": 12,
    "start_time": "2024-05-16T11:58:58.552Z"
   },
   {
    "duration": 10,
    "start_time": "2024-05-16T11:59:05.387Z"
   },
   {
    "duration": 16,
    "start_time": "2024-05-16T11:59:21.428Z"
   },
   {
    "duration": 17,
    "start_time": "2024-05-16T11:59:38.266Z"
   },
   {
    "duration": 17,
    "start_time": "2024-05-16T11:59:49.562Z"
   },
   {
    "duration": 52,
    "start_time": "2024-05-16T11:59:59.311Z"
   },
   {
    "duration": 54,
    "start_time": "2024-05-16T12:00:04.897Z"
   },
   {
    "duration": 23,
    "start_time": "2024-05-16T12:00:14.194Z"
   },
   {
    "duration": 20,
    "start_time": "2024-05-16T12:00:14.319Z"
   },
   {
    "duration": 16,
    "start_time": "2024-05-16T12:00:34.999Z"
   },
   {
    "duration": 16,
    "start_time": "2024-05-16T12:00:48.092Z"
   },
   {
    "duration": 27,
    "start_time": "2024-05-16T12:07:49.676Z"
   },
   {
    "duration": 25,
    "start_time": "2024-05-16T12:08:31.166Z"
   },
   {
    "duration": 10,
    "start_time": "2024-05-16T12:14:56.967Z"
   },
   {
    "duration": 15,
    "start_time": "2024-05-16T12:15:40.078Z"
   },
   {
    "duration": 18,
    "start_time": "2024-05-16T12:15:40.197Z"
   },
   {
    "duration": 16,
    "start_time": "2024-05-16T12:16:25.126Z"
   },
   {
    "duration": 10,
    "start_time": "2024-05-16T12:16:40.850Z"
   },
   {
    "duration": 12,
    "start_time": "2024-05-16T12:17:48.332Z"
   },
   {
    "duration": 13,
    "start_time": "2024-05-16T12:18:29.675Z"
   },
   {
    "duration": 79,
    "start_time": "2024-05-16T12:21:51.563Z"
   },
   {
    "duration": 150,
    "start_time": "2024-05-16T12:22:07.039Z"
   },
   {
    "duration": 82,
    "start_time": "2024-05-16T12:22:16.778Z"
   },
   {
    "duration": 352,
    "start_time": "2024-05-16T12:23:33.209Z"
   },
   {
    "duration": 89,
    "start_time": "2024-05-16T12:23:33.563Z"
   },
   {
    "duration": 14,
    "start_time": "2024-05-16T12:23:33.654Z"
   },
   {
    "duration": 72,
    "start_time": "2024-05-16T12:23:50.386Z"
   },
   {
    "duration": 70,
    "start_time": "2024-05-16T12:24:12.442Z"
   },
   {
    "duration": 81,
    "start_time": "2024-05-16T12:24:26.799Z"
   },
   {
    "duration": 11,
    "start_time": "2024-05-16T13:04:25.749Z"
   },
   {
    "duration": 11,
    "start_time": "2024-05-16T13:15:30.028Z"
   },
   {
    "duration": 66,
    "start_time": "2024-05-16T13:16:13.868Z"
   },
   {
    "duration": 18,
    "start_time": "2024-05-16T13:16:22.003Z"
   },
   {
    "duration": 58,
    "start_time": "2024-05-16T13:16:33.331Z"
   },
   {
    "duration": 21,
    "start_time": "2024-05-16T13:16:39.148Z"
   },
   {
    "duration": 17,
    "start_time": "2024-05-16T13:16:57.899Z"
   },
   {
    "duration": 17,
    "start_time": "2024-05-16T13:17:26.382Z"
   },
   {
    "duration": 6,
    "start_time": "2024-05-16T13:18:04.914Z"
   },
   {
    "duration": 7,
    "start_time": "2024-05-16T13:18:21.207Z"
   },
   {
    "duration": 6,
    "start_time": "2024-05-16T13:18:25.459Z"
   },
   {
    "duration": 10,
    "start_time": "2024-05-16T13:42:19.480Z"
   },
   {
    "duration": 624,
    "start_time": "2024-05-16T13:42:58.883Z"
   },
   {
    "duration": 15,
    "start_time": "2024-05-16T13:46:29.194Z"
   },
   {
    "duration": 1772,
    "start_time": "2024-05-16T13:46:56.330Z"
   },
   {
    "duration": 87,
    "start_time": "2024-05-16T13:46:58.104Z"
   },
   {
    "duration": 11,
    "start_time": "2024-05-16T13:46:58.193Z"
   },
   {
    "duration": 288,
    "start_time": "2024-05-16T13:46:58.206Z"
   },
   {
    "duration": 136,
    "start_time": "2024-05-16T13:47:21.172Z"
   },
   {
    "duration": 140,
    "start_time": "2024-05-16T13:47:36.621Z"
   },
   {
    "duration": 176,
    "start_time": "2024-05-16T13:53:29.342Z"
   },
   {
    "duration": 171,
    "start_time": "2024-05-16T13:53:51.234Z"
   },
   {
    "duration": 80,
    "start_time": "2024-05-16T13:56:00.000Z"
   },
   {
    "duration": 159,
    "start_time": "2024-05-16T13:56:08.755Z"
   },
   {
    "duration": 99,
    "start_time": "2024-05-16T13:56:30.905Z"
   },
   {
    "duration": 271,
    "start_time": "2024-05-16T13:57:31.059Z"
   },
   {
    "duration": 235,
    "start_time": "2024-05-16T13:57:46.305Z"
   },
   {
    "duration": 236,
    "start_time": "2024-05-16T13:58:06.209Z"
   },
   {
    "duration": 361,
    "start_time": "2024-05-16T13:59:39.723Z"
   },
   {
    "duration": 285,
    "start_time": "2024-05-16T14:00:13.294Z"
   },
   {
    "duration": 239,
    "start_time": "2024-05-16T14:00:33.380Z"
   },
   {
    "duration": 12,
    "start_time": "2024-05-16T14:03:44.749Z"
   },
   {
    "duration": 10,
    "start_time": "2024-05-16T14:03:51.135Z"
   },
   {
    "duration": 14,
    "start_time": "2024-05-16T14:04:01.246Z"
   },
   {
    "duration": 9,
    "start_time": "2024-05-16T14:04:32.834Z"
   },
   {
    "duration": 9,
    "start_time": "2024-05-16T14:04:44.288Z"
   },
   {
    "duration": 6,
    "start_time": "2024-05-16T14:05:20.103Z"
   },
   {
    "duration": 1434,
    "start_time": "2024-05-16T18:05:32.951Z"
   },
   {
    "duration": 262,
    "start_time": "2024-05-16T18:05:34.387Z"
   },
   {
    "duration": 15,
    "start_time": "2024-05-16T18:05:34.650Z"
   },
   {
    "duration": 200,
    "start_time": "2024-05-16T18:05:34.666Z"
   },
   {
    "duration": 340,
    "start_time": "2024-05-16T18:05:34.868Z"
   },
   {
    "duration": 6,
    "start_time": "2024-05-16T18:05:35.210Z"
   },
   {
    "duration": 146,
    "start_time": "2024-05-16T18:09:22.278Z"
   },
   {
    "duration": 140,
    "start_time": "2024-05-16T18:09:37.249Z"
   },
   {
    "duration": 12,
    "start_time": "2024-05-16T18:16:52.410Z"
   },
   {
    "duration": 12,
    "start_time": "2024-05-16T18:40:40.979Z"
   },
   {
    "duration": 1167,
    "start_time": "2024-05-16T18:44:56.041Z"
   },
   {
    "duration": 90,
    "start_time": "2024-05-16T18:44:57.210Z"
   },
   {
    "duration": 11,
    "start_time": "2024-05-16T18:44:57.302Z"
   },
   {
    "duration": 38,
    "start_time": "2024-05-16T18:44:57.315Z"
   },
   {
    "duration": 75,
    "start_time": "2024-05-16T18:44:57.355Z"
   },
   {
    "duration": 575,
    "start_time": "2024-05-16T18:52:04.114Z"
   },
   {
    "duration": 7,
    "start_time": "2024-05-16T18:54:20.940Z"
   },
   {
    "duration": 16,
    "start_time": "2024-05-16T18:54:58.662Z"
   },
   {
    "duration": 15,
    "start_time": "2024-05-16T18:55:07.410Z"
   },
   {
    "duration": 6,
    "start_time": "2024-05-16T18:59:13.643Z"
   },
   {
    "duration": 11,
    "start_time": "2024-05-16T18:59:27.945Z"
   },
   {
    "duration": 7,
    "start_time": "2024-05-16T19:02:09.947Z"
   },
   {
    "duration": 17,
    "start_time": "2024-05-16T19:03:19.064Z"
   },
   {
    "duration": 12,
    "start_time": "2024-05-16T19:04:15.683Z"
   },
   {
    "duration": 19,
    "start_time": "2024-05-16T19:04:26.313Z"
   },
   {
    "duration": 16,
    "start_time": "2024-05-16T19:04:43.438Z"
   },
   {
    "duration": 7,
    "start_time": "2024-05-16T19:05:27.847Z"
   },
   {
    "duration": 9,
    "start_time": "2024-05-16T19:06:03.190Z"
   },
   {
    "duration": 8,
    "start_time": "2024-05-16T19:06:10.129Z"
   },
   {
    "duration": 7,
    "start_time": "2024-05-16T19:06:17.109Z"
   },
   {
    "duration": 6,
    "start_time": "2024-05-16T19:08:44.271Z"
   },
   {
    "duration": 12,
    "start_time": "2024-05-16T19:09:06.344Z"
   },
   {
    "duration": 14,
    "start_time": "2024-05-16T19:10:19.719Z"
   },
   {
    "duration": 5,
    "start_time": "2024-05-16T19:10:37.981Z"
   },
   {
    "duration": 5,
    "start_time": "2024-05-16T19:11:01.751Z"
   },
   {
    "duration": 1308,
    "start_time": "2024-05-17T11:32:07.924Z"
   },
   {
    "duration": 245,
    "start_time": "2024-05-17T11:32:09.234Z"
   },
   {
    "duration": 12,
    "start_time": "2024-05-17T11:32:09.480Z"
   },
   {
    "duration": 30,
    "start_time": "2024-05-17T11:32:09.495Z"
   },
   {
    "duration": 26,
    "start_time": "2024-05-17T11:32:09.527Z"
   },
   {
    "duration": 20,
    "start_time": "2024-05-17T11:32:09.554Z"
   },
   {
    "duration": 31,
    "start_time": "2024-05-17T11:32:09.575Z"
   },
   {
    "duration": 12,
    "start_time": "2024-05-17T11:32:09.608Z"
   },
   {
    "duration": 22,
    "start_time": "2024-05-17T11:32:09.621Z"
   },
   {
    "duration": 24,
    "start_time": "2024-05-17T11:32:09.645Z"
   },
   {
    "duration": 22,
    "start_time": "2024-05-17T11:32:09.671Z"
   },
   {
    "duration": 36,
    "start_time": "2024-05-17T11:32:09.695Z"
   },
   {
    "duration": 6,
    "start_time": "2024-05-17T11:40:42.121Z"
   },
   {
    "duration": 5,
    "start_time": "2024-05-17T11:40:57.991Z"
   },
   {
    "duration": 5,
    "start_time": "2024-05-17T11:44:36.988Z"
   },
   {
    "duration": 6,
    "start_time": "2024-05-17T11:44:59.430Z"
   },
   {
    "duration": 10,
    "start_time": "2024-05-17T11:45:19.485Z"
   },
   {
    "duration": 5,
    "start_time": "2024-05-17T11:45:33.143Z"
   },
   {
    "duration": 10,
    "start_time": "2024-05-17T11:47:24.806Z"
   },
   {
    "duration": 9,
    "start_time": "2024-05-17T11:47:40.212Z"
   },
   {
    "duration": 1169,
    "start_time": "2024-05-17T11:47:58.077Z"
   },
   {
    "duration": 85,
    "start_time": "2024-05-17T11:47:59.248Z"
   },
   {
    "duration": 12,
    "start_time": "2024-05-17T11:47:59.334Z"
   },
   {
    "duration": 18,
    "start_time": "2024-05-17T11:47:59.348Z"
   },
   {
    "duration": 10,
    "start_time": "2024-05-17T11:47:59.368Z"
   },
   {
    "duration": 10,
    "start_time": "2024-05-17T11:47:59.380Z"
   },
   {
    "duration": 22,
    "start_time": "2024-05-17T11:47:59.391Z"
   },
   {
    "duration": 6,
    "start_time": "2024-05-17T11:47:59.414Z"
   },
   {
    "duration": 6,
    "start_time": "2024-05-17T11:47:59.421Z"
   },
   {
    "duration": 28,
    "start_time": "2024-05-17T11:47:59.429Z"
   },
   {
    "duration": 5,
    "start_time": "2024-05-17T11:47:59.459Z"
   },
   {
    "duration": 8,
    "start_time": "2024-05-17T11:47:59.465Z"
   },
   {
    "duration": 7,
    "start_time": "2024-05-17T11:47:59.474Z"
   },
   {
    "duration": 9,
    "start_time": "2024-05-17T11:47:59.482Z"
   },
   {
    "duration": 5,
    "start_time": "2024-05-17T11:47:59.493Z"
   },
   {
    "duration": 258,
    "start_time": "2024-05-17T11:49:37.826Z"
   },
   {
    "duration": 5,
    "start_time": "2024-05-17T11:53:21.476Z"
   },
   {
    "duration": 137,
    "start_time": "2024-05-17T11:54:52.028Z"
   },
   {
    "duration": 136,
    "start_time": "2024-05-17T11:55:19.460Z"
   },
   {
    "duration": 267,
    "start_time": "2024-05-17T11:55:26.475Z"
   },
   {
    "duration": 270,
    "start_time": "2024-05-17T11:55:34.354Z"
   },
   {
    "duration": 153,
    "start_time": "2024-05-17T11:55:43.113Z"
   },
   {
    "duration": 128,
    "start_time": "2024-05-17T11:58:12.660Z"
   },
   {
    "duration": 144,
    "start_time": "2024-05-17T11:59:18.183Z"
   },
   {
    "duration": 10,
    "start_time": "2024-05-17T12:09:34.625Z"
   },
   {
    "duration": 3,
    "start_time": "2024-05-17T12:10:28.506Z"
   },
   {
    "duration": 9,
    "start_time": "2024-05-17T12:10:41.948Z"
   },
   {
    "duration": 11,
    "start_time": "2024-05-17T12:11:15.109Z"
   },
   {
    "duration": 3,
    "start_time": "2024-05-17T12:12:16.299Z"
   },
   {
    "duration": 10,
    "start_time": "2024-05-17T12:12:27.318Z"
   },
   {
    "duration": 8,
    "start_time": "2024-05-17T12:12:39.357Z"
   },
   {
    "duration": 5,
    "start_time": "2024-05-17T12:46:04.994Z"
   },
   {
    "duration": 14,
    "start_time": "2024-05-17T12:46:17.001Z"
   },
   {
    "duration": 9,
    "start_time": "2024-05-17T12:46:39.406Z"
   },
   {
    "duration": 1113,
    "start_time": "2024-05-17T12:46:47.133Z"
   },
   {
    "duration": 83,
    "start_time": "2024-05-17T12:46:48.248Z"
   },
   {
    "duration": 11,
    "start_time": "2024-05-17T12:46:48.332Z"
   },
   {
    "duration": 11,
    "start_time": "2024-05-17T12:46:48.345Z"
   },
   {
    "duration": 9,
    "start_time": "2024-05-17T12:46:48.358Z"
   },
   {
    "duration": 9,
    "start_time": "2024-05-17T12:46:48.368Z"
   },
   {
    "duration": 10,
    "start_time": "2024-05-17T12:46:48.379Z"
   },
   {
    "duration": 5,
    "start_time": "2024-05-17T12:46:48.391Z"
   },
   {
    "duration": 5,
    "start_time": "2024-05-17T12:46:48.398Z"
   },
   {
    "duration": 5,
    "start_time": "2024-05-17T12:46:48.405Z"
   },
   {
    "duration": 5,
    "start_time": "2024-05-17T12:46:48.412Z"
   },
   {
    "duration": 6,
    "start_time": "2024-05-17T12:46:48.456Z"
   },
   {
    "duration": 15,
    "start_time": "2024-05-17T12:46:48.463Z"
   },
   {
    "duration": 8,
    "start_time": "2024-05-17T12:46:48.479Z"
   },
   {
    "duration": 5,
    "start_time": "2024-05-17T12:46:48.488Z"
   },
   {
    "duration": 286,
    "start_time": "2024-05-17T12:46:48.494Z"
   },
   {
    "duration": 5,
    "start_time": "2024-05-17T12:46:48.782Z"
   },
   {
    "duration": 153,
    "start_time": "2024-05-17T12:46:48.789Z"
   },
   {
    "duration": 155,
    "start_time": "2024-05-17T12:46:48.943Z"
   },
   {
    "duration": 12,
    "start_time": "2024-05-17T12:46:49.099Z"
   },
   {
    "duration": 8,
    "start_time": "2024-05-17T12:46:49.112Z"
   },
   {
    "duration": 114,
    "start_time": "2024-05-17T12:55:07.461Z"
   },
   {
    "duration": 789,
    "start_time": "2024-05-17T12:55:19.596Z"
   },
   {
    "duration": 215,
    "start_time": "2024-05-17T12:56:58.299Z"
   },
   {
    "duration": 105,
    "start_time": "2024-05-17T12:57:56.647Z"
   },
   {
    "duration": 103,
    "start_time": "2024-05-17T12:58:32.356Z"
   },
   {
    "duration": 106,
    "start_time": "2024-05-17T12:58:46.889Z"
   },
   {
    "duration": 108,
    "start_time": "2024-05-17T12:59:14.059Z"
   },
   {
    "duration": 5,
    "start_time": "2024-05-17T13:00:04.636Z"
   },
   {
    "duration": 7,
    "start_time": "2024-05-17T13:00:40.827Z"
   },
   {
    "duration": 7,
    "start_time": "2024-05-17T13:01:28.296Z"
   },
   {
    "duration": 8,
    "start_time": "2024-05-17T13:02:09.618Z"
   },
   {
    "duration": 14,
    "start_time": "2024-05-17T13:04:28.011Z"
   },
   {
    "duration": 11,
    "start_time": "2024-05-17T13:04:32.970Z"
   },
   {
    "duration": 1051,
    "start_time": "2024-05-17T13:04:40.891Z"
   },
   {
    "duration": 84,
    "start_time": "2024-05-17T13:04:41.944Z"
   },
   {
    "duration": 11,
    "start_time": "2024-05-17T13:04:42.030Z"
   },
   {
    "duration": 11,
    "start_time": "2024-05-17T13:04:42.043Z"
   },
   {
    "duration": 8,
    "start_time": "2024-05-17T13:04:42.056Z"
   },
   {
    "duration": 13,
    "start_time": "2024-05-17T13:04:42.066Z"
   },
   {
    "duration": 11,
    "start_time": "2024-05-17T13:04:42.080Z"
   },
   {
    "duration": 7,
    "start_time": "2024-05-17T13:04:42.092Z"
   },
   {
    "duration": 7,
    "start_time": "2024-05-17T13:04:42.100Z"
   },
   {
    "duration": 5,
    "start_time": "2024-05-17T13:04:42.110Z"
   },
   {
    "duration": 41,
    "start_time": "2024-05-17T13:04:42.116Z"
   },
   {
    "duration": 5,
    "start_time": "2024-05-17T13:04:42.159Z"
   },
   {
    "duration": 5,
    "start_time": "2024-05-17T13:04:42.165Z"
   },
   {
    "duration": 11,
    "start_time": "2024-05-17T13:04:42.172Z"
   },
   {
    "duration": 5,
    "start_time": "2024-05-17T13:04:42.184Z"
   },
   {
    "duration": 289,
    "start_time": "2024-05-17T13:04:42.190Z"
   },
   {
    "duration": 6,
    "start_time": "2024-05-17T13:04:42.480Z"
   },
   {
    "duration": 145,
    "start_time": "2024-05-17T13:04:42.487Z"
   },
   {
    "duration": 157,
    "start_time": "2024-05-17T13:04:42.633Z"
   },
   {
    "duration": 12,
    "start_time": "2024-05-17T13:04:42.792Z"
   },
   {
    "duration": 46,
    "start_time": "2024-05-17T13:04:42.806Z"
   },
   {
    "duration": 48,
    "start_time": "2024-05-17T13:04:42.854Z"
   },
   {
    "duration": 36,
    "start_time": "2024-05-17T13:04:42.903Z"
   },
   {
    "duration": 104,
    "start_time": "2024-05-17T13:04:42.941Z"
   },
   {
    "duration": 4,
    "start_time": "2024-05-17T13:10:33.541Z"
   },
   {
    "duration": 8,
    "start_time": "2024-05-17T13:10:36.504Z"
   },
   {
    "duration": 1088,
    "start_time": "2024-05-17T13:10:42.757Z"
   },
   {
    "duration": 86,
    "start_time": "2024-05-17T13:10:43.847Z"
   },
   {
    "duration": 9,
    "start_time": "2024-05-17T13:10:43.935Z"
   },
   {
    "duration": 27,
    "start_time": "2024-05-17T13:10:43.946Z"
   },
   {
    "duration": 16,
    "start_time": "2024-05-17T13:10:43.975Z"
   },
   {
    "duration": 12,
    "start_time": "2024-05-17T13:10:43.992Z"
   },
   {
    "duration": 11,
    "start_time": "2024-05-17T13:10:44.006Z"
   },
   {
    "duration": 6,
    "start_time": "2024-05-17T13:10:44.018Z"
   },
   {
    "duration": 31,
    "start_time": "2024-05-17T13:10:44.026Z"
   },
   {
    "duration": 8,
    "start_time": "2024-05-17T13:10:44.060Z"
   },
   {
    "duration": 6,
    "start_time": "2024-05-17T13:10:44.070Z"
   },
   {
    "duration": 7,
    "start_time": "2024-05-17T13:10:44.078Z"
   },
   {
    "duration": 8,
    "start_time": "2024-05-17T13:10:44.088Z"
   },
   {
    "duration": 8,
    "start_time": "2024-05-17T13:10:44.098Z"
   },
   {
    "duration": 4,
    "start_time": "2024-05-17T13:10:44.108Z"
   },
   {
    "duration": 316,
    "start_time": "2024-05-17T13:10:44.158Z"
   },
   {
    "duration": 5,
    "start_time": "2024-05-17T13:10:44.476Z"
   },
   {
    "duration": 165,
    "start_time": "2024-05-17T13:10:44.482Z"
   },
   {
    "duration": 153,
    "start_time": "2024-05-17T13:10:44.648Z"
   },
   {
    "duration": 3,
    "start_time": "2024-05-17T13:10:44.803Z"
   },
   {
    "duration": 10,
    "start_time": "2024-05-17T13:10:44.807Z"
   },
   {
    "duration": 11,
    "start_time": "2024-05-17T13:10:44.819Z"
   },
   {
    "duration": 7,
    "start_time": "2024-05-17T13:10:44.831Z"
   },
   {
    "duration": 124,
    "start_time": "2024-05-17T13:10:44.857Z"
   },
   {
    "duration": 127,
    "start_time": "2024-05-17T13:14:23.676Z"
   },
   {
    "duration": 120,
    "start_time": "2024-05-17T13:14:58.358Z"
   },
   {
    "duration": 110,
    "start_time": "2024-05-17T13:15:23.172Z"
   },
   {
    "duration": 111,
    "start_time": "2024-05-17T13:15:32.648Z"
   },
   {
    "duration": 120,
    "start_time": "2024-05-17T13:16:10.451Z"
   },
   {
    "duration": 6,
    "start_time": "2024-05-17T13:23:54.197Z"
   },
   {
    "duration": 6,
    "start_time": "2024-05-17T13:24:05.414Z"
   },
   {
    "duration": 5,
    "start_time": "2024-05-17T13:24:18.372Z"
   },
   {
    "duration": 4,
    "start_time": "2024-05-17T13:24:27.398Z"
   },
   {
    "duration": 339,
    "start_time": "2024-05-17T13:26:14.042Z"
   },
   {
    "duration": 268,
    "start_time": "2024-05-17T13:27:37.838Z"
   },
   {
    "duration": 114,
    "start_time": "2024-05-17T13:30:57.979Z"
   },
   {
    "duration": 10,
    "start_time": "2024-05-17T13:41:25.353Z"
   },
   {
    "duration": 12,
    "start_time": "2024-05-17T13:42:16.602Z"
   },
   {
    "duration": 96,
    "start_time": "2024-05-17T13:44:57.245Z"
   },
   {
    "duration": 383,
    "start_time": "2024-05-17T13:45:09.618Z"
   },
   {
    "duration": 388,
    "start_time": "2024-05-17T13:46:15.556Z"
   },
   {
    "duration": 347,
    "start_time": "2024-05-17T13:46:27.072Z"
   },
   {
    "duration": 460,
    "start_time": "2024-05-17T13:48:05.123Z"
   },
   {
    "duration": 11,
    "start_time": "2024-05-17T13:48:19.533Z"
   },
   {
    "duration": 11,
    "start_time": "2024-05-17T13:48:31.195Z"
   },
   {
    "duration": 6,
    "start_time": "2024-05-17T13:53:14.790Z"
   },
   {
    "duration": 7,
    "start_time": "2024-05-17T13:53:44.251Z"
   },
   {
    "duration": 5,
    "start_time": "2024-05-17T13:54:18.644Z"
   },
   {
    "duration": 113,
    "start_time": "2024-05-17T13:56:26.785Z"
   },
   {
    "duration": 104,
    "start_time": "2024-05-17T13:57:00.242Z"
   },
   {
    "duration": 128,
    "start_time": "2024-05-17T13:57:13.378Z"
   },
   {
    "duration": 128,
    "start_time": "2024-05-17T13:57:28.104Z"
   },
   {
    "duration": 104,
    "start_time": "2024-05-17T13:57:37.957Z"
   },
   {
    "duration": 1079,
    "start_time": "2024-05-17T14:08:14.320Z"
   },
   {
    "duration": 85,
    "start_time": "2024-05-17T14:08:15.401Z"
   },
   {
    "duration": 11,
    "start_time": "2024-05-17T14:08:15.487Z"
   },
   {
    "duration": 46,
    "start_time": "2024-05-17T14:08:15.499Z"
   },
   {
    "duration": 12,
    "start_time": "2024-05-17T14:08:15.547Z"
   },
   {
    "duration": 12,
    "start_time": "2024-05-17T14:08:15.560Z"
   },
   {
    "duration": 10,
    "start_time": "2024-05-17T14:08:15.573Z"
   },
   {
    "duration": 12,
    "start_time": "2024-05-17T14:08:15.584Z"
   },
   {
    "duration": 37,
    "start_time": "2024-05-17T14:08:15.597Z"
   },
   {
    "duration": 18,
    "start_time": "2024-05-17T14:08:15.636Z"
   },
   {
    "duration": 12,
    "start_time": "2024-05-17T14:08:15.655Z"
   },
   {
    "duration": 32,
    "start_time": "2024-05-17T14:08:15.668Z"
   },
   {
    "duration": 26,
    "start_time": "2024-05-17T14:08:15.702Z"
   },
   {
    "duration": 9,
    "start_time": "2024-05-17T14:08:15.729Z"
   },
   {
    "duration": 4,
    "start_time": "2024-05-17T14:08:15.739Z"
   },
   {
    "duration": 280,
    "start_time": "2024-05-17T14:08:15.744Z"
   },
   {
    "duration": 5,
    "start_time": "2024-05-17T14:08:16.026Z"
   },
   {
    "duration": 154,
    "start_time": "2024-05-17T14:08:16.032Z"
   },
   {
    "duration": 297,
    "start_time": "2024-05-17T14:08:16.188Z"
   },
   {
    "duration": 4,
    "start_time": "2024-05-17T14:08:16.486Z"
   },
   {
    "duration": 27,
    "start_time": "2024-05-17T14:08:16.491Z"
   },
   {
    "duration": 17,
    "start_time": "2024-05-17T14:08:16.521Z"
   },
   {
    "duration": 7,
    "start_time": "2024-05-17T14:08:16.542Z"
   },
   {
    "duration": 122,
    "start_time": "2024-05-17T14:08:16.551Z"
   },
   {
    "duration": 13,
    "start_time": "2024-05-17T14:08:16.675Z"
   },
   {
    "duration": 7,
    "start_time": "2024-05-17T14:08:16.689Z"
   },
   {
    "duration": 6,
    "start_time": "2024-05-17T14:08:16.698Z"
   },
   {
    "duration": 129,
    "start_time": "2024-05-17T14:08:16.707Z"
   },
   {
    "duration": 99,
    "start_time": "2024-05-17T14:25:23.210Z"
   },
   {
    "duration": 10,
    "start_time": "2024-05-17T14:25:37.568Z"
   },
   {
    "duration": 18,
    "start_time": "2024-05-17T14:25:46.482Z"
   },
   {
    "duration": 21,
    "start_time": "2024-05-17T14:25:59.526Z"
   },
   {
    "duration": 25,
    "start_time": "2024-05-17T14:27:05.894Z"
   },
   {
    "duration": 21,
    "start_time": "2024-05-17T14:27:12.917Z"
   },
   {
    "duration": 23,
    "start_time": "2024-05-17T14:27:22.456Z"
   },
   {
    "duration": 32,
    "start_time": "2024-05-17T14:29:24.850Z"
   },
   {
    "duration": 30,
    "start_time": "2024-05-17T14:36:08.278Z"
   },
   {
    "duration": 594,
    "start_time": "2024-05-17T14:36:52.673Z"
   },
   {
    "duration": 997,
    "start_time": "2024-05-17T14:37:16.619Z"
   },
   {
    "duration": 85,
    "start_time": "2024-05-17T14:37:17.618Z"
   },
   {
    "duration": 10,
    "start_time": "2024-05-17T14:37:17.705Z"
   },
   {
    "duration": 11,
    "start_time": "2024-05-17T14:37:17.717Z"
   },
   {
    "duration": 9,
    "start_time": "2024-05-17T14:37:17.729Z"
   },
   {
    "duration": 20,
    "start_time": "2024-05-17T14:37:17.740Z"
   },
   {
    "duration": 10,
    "start_time": "2024-05-17T14:37:17.762Z"
   },
   {
    "duration": 5,
    "start_time": "2024-05-17T14:37:17.774Z"
   },
   {
    "duration": 7,
    "start_time": "2024-05-17T14:37:17.781Z"
   },
   {
    "duration": 5,
    "start_time": "2024-05-17T14:37:17.791Z"
   },
   {
    "duration": 6,
    "start_time": "2024-05-17T14:37:17.798Z"
   },
   {
    "duration": 50,
    "start_time": "2024-05-17T14:37:17.806Z"
   },
   {
    "duration": 7,
    "start_time": "2024-05-17T14:37:17.858Z"
   },
   {
    "duration": 8,
    "start_time": "2024-05-17T14:37:17.867Z"
   },
   {
    "duration": 5,
    "start_time": "2024-05-17T14:37:17.876Z"
   },
   {
    "duration": 312,
    "start_time": "2024-05-17T14:37:17.882Z"
   },
   {
    "duration": 6,
    "start_time": "2024-05-17T14:37:18.195Z"
   },
   {
    "duration": 148,
    "start_time": "2024-05-17T14:37:18.202Z"
   },
   {
    "duration": 274,
    "start_time": "2024-05-17T14:37:18.355Z"
   },
   {
    "duration": 4,
    "start_time": "2024-05-17T14:37:18.630Z"
   },
   {
    "duration": 22,
    "start_time": "2024-05-17T14:37:18.635Z"
   },
   {
    "duration": 7,
    "start_time": "2024-05-17T14:37:18.658Z"
   },
   {
    "duration": 8,
    "start_time": "2024-05-17T14:37:18.666Z"
   },
   {
    "duration": 129,
    "start_time": "2024-05-17T14:37:18.675Z"
   },
   {
    "duration": 10,
    "start_time": "2024-05-17T14:37:18.805Z"
   },
   {
    "duration": 5,
    "start_time": "2024-05-17T14:37:18.817Z"
   },
   {
    "duration": 5,
    "start_time": "2024-05-17T14:37:18.824Z"
   },
   {
    "duration": 133,
    "start_time": "2024-05-17T14:37:18.832Z"
   },
   {
    "duration": 31,
    "start_time": "2024-05-17T14:37:18.966Z"
   },
   {
    "duration": 733,
    "start_time": "2024-05-17T14:37:18.998Z"
   },
   {
    "duration": 79,
    "start_time": "2024-05-17T14:40:37.915Z"
   },
   {
    "duration": 19,
    "start_time": "2024-05-17T14:40:46.349Z"
   },
   {
    "duration": 19,
    "start_time": "2024-05-17T14:42:34.665Z"
   },
   {
    "duration": 20,
    "start_time": "2024-05-17T14:43:40.008Z"
   },
   {
    "duration": 1008,
    "start_time": "2024-05-17T14:48:18.408Z"
   },
   {
    "duration": 86,
    "start_time": "2024-05-17T14:48:19.418Z"
   },
   {
    "duration": 10,
    "start_time": "2024-05-17T14:48:19.505Z"
   },
   {
    "duration": 11,
    "start_time": "2024-05-17T14:48:19.517Z"
   },
   {
    "duration": 8,
    "start_time": "2024-05-17T14:48:19.530Z"
   },
   {
    "duration": 17,
    "start_time": "2024-05-17T14:48:19.540Z"
   },
   {
    "duration": 11,
    "start_time": "2024-05-17T14:48:19.558Z"
   },
   {
    "duration": 5,
    "start_time": "2024-05-17T14:48:19.570Z"
   },
   {
    "duration": 13,
    "start_time": "2024-05-17T14:48:19.577Z"
   },
   {
    "duration": 5,
    "start_time": "2024-05-17T14:48:19.593Z"
   },
   {
    "duration": 5,
    "start_time": "2024-05-17T14:48:19.599Z"
   },
   {
    "duration": 5,
    "start_time": "2024-05-17T14:48:19.605Z"
   },
   {
    "duration": 6,
    "start_time": "2024-05-17T14:48:19.611Z"
   },
   {
    "duration": 40,
    "start_time": "2024-05-17T14:48:19.618Z"
   },
   {
    "duration": 5,
    "start_time": "2024-05-17T14:48:19.660Z"
   },
   {
    "duration": 292,
    "start_time": "2024-05-17T14:48:19.666Z"
   },
   {
    "duration": 6,
    "start_time": "2024-05-17T14:48:19.960Z"
   },
   {
    "duration": 143,
    "start_time": "2024-05-17T14:48:19.968Z"
   },
   {
    "duration": 295,
    "start_time": "2024-05-17T14:48:20.113Z"
   },
   {
    "duration": 3,
    "start_time": "2024-05-17T14:48:20.410Z"
   },
   {
    "duration": 18,
    "start_time": "2024-05-17T14:48:20.414Z"
   },
   {
    "duration": 33,
    "start_time": "2024-05-17T14:48:20.434Z"
   },
   {
    "duration": 23,
    "start_time": "2024-05-17T14:48:20.468Z"
   },
   {
    "duration": 148,
    "start_time": "2024-05-17T14:48:20.492Z"
   },
   {
    "duration": 9,
    "start_time": "2024-05-17T14:48:20.641Z"
   },
   {
    "duration": 35,
    "start_time": "2024-05-17T14:48:20.656Z"
   },
   {
    "duration": 26,
    "start_time": "2024-05-17T14:48:20.692Z"
   },
   {
    "duration": 134,
    "start_time": "2024-05-17T14:48:20.721Z"
   },
   {
    "duration": 30,
    "start_time": "2024-05-17T14:48:20.856Z"
   },
   {
    "duration": 21,
    "start_time": "2024-05-17T14:48:20.887Z"
   },
   {
    "duration": 22,
    "start_time": "2024-05-17T14:48:20.909Z"
   },
   {
    "duration": 895,
    "start_time": "2024-05-17T14:48:20.932Z"
   },
   {
    "duration": 54,
    "start_time": "2024-05-17T14:51:40.954Z"
   },
   {
    "duration": 142,
    "start_time": "2024-05-17T14:51:50.372Z"
   },
   {
    "duration": 151,
    "start_time": "2024-05-17T14:52:13.307Z"
   },
   {
    "duration": 146,
    "start_time": "2024-05-17T14:52:42.068Z"
   },
   {
    "duration": 215,
    "start_time": "2024-05-17T14:54:08.422Z"
   },
   {
    "duration": 140,
    "start_time": "2024-05-17T14:54:14.450Z"
   },
   {
    "duration": 138,
    "start_time": "2024-05-17T14:55:04.874Z"
   },
   {
    "duration": 119,
    "start_time": "2024-05-17T14:55:56.650Z"
   },
   {
    "duration": 166,
    "start_time": "2024-05-17T14:57:12.258Z"
   },
   {
    "duration": 186,
    "start_time": "2024-05-17T14:57:19.071Z"
   },
   {
    "duration": 185,
    "start_time": "2024-05-17T14:57:23.629Z"
   },
   {
    "duration": 215,
    "start_time": "2024-05-17T14:57:51.389Z"
   },
   {
    "duration": 209,
    "start_time": "2024-05-17T14:58:02.178Z"
   },
   {
    "duration": 243,
    "start_time": "2024-05-17T14:58:09.723Z"
   },
   {
    "duration": 287,
    "start_time": "2024-05-17T14:58:18.934Z"
   },
   {
    "duration": 209,
    "start_time": "2024-05-17T14:58:47.075Z"
   },
   {
    "duration": 233,
    "start_time": "2024-05-17T14:59:14.938Z"
   },
   {
    "duration": 222,
    "start_time": "2024-05-17T14:59:35.222Z"
   },
   {
    "duration": 204,
    "start_time": "2024-05-17T14:59:47.833Z"
   },
   {
    "duration": 189,
    "start_time": "2024-05-17T14:59:57.229Z"
   },
   {
    "duration": 201,
    "start_time": "2024-05-17T15:00:23.629Z"
   },
   {
    "duration": 192,
    "start_time": "2024-05-17T15:00:29.433Z"
   },
   {
    "duration": 189,
    "start_time": "2024-05-17T15:00:48.413Z"
   },
   {
    "duration": 180,
    "start_time": "2024-05-17T15:00:56.044Z"
   },
   {
    "duration": 1225,
    "start_time": "2024-05-18T10:02:10.620Z"
   },
   {
    "duration": 213,
    "start_time": "2024-05-18T10:02:11.847Z"
   },
   {
    "duration": 9,
    "start_time": "2024-05-18T10:02:12.062Z"
   },
   {
    "duration": 25,
    "start_time": "2024-05-18T10:02:12.073Z"
   },
   {
    "duration": 8,
    "start_time": "2024-05-18T10:02:12.099Z"
   },
   {
    "duration": 8,
    "start_time": "2024-05-18T10:02:12.109Z"
   },
   {
    "duration": 9,
    "start_time": "2024-05-18T10:02:12.118Z"
   },
   {
    "duration": 4,
    "start_time": "2024-05-18T10:02:12.129Z"
   },
   {
    "duration": 10,
    "start_time": "2024-05-18T10:02:12.134Z"
   },
   {
    "duration": 4,
    "start_time": "2024-05-18T10:02:12.146Z"
   },
   {
    "duration": 6,
    "start_time": "2024-05-18T10:02:12.151Z"
   },
   {
    "duration": 4,
    "start_time": "2024-05-18T10:02:12.158Z"
   },
   {
    "duration": 10,
    "start_time": "2024-05-18T10:02:12.163Z"
   },
   {
    "duration": 38,
    "start_time": "2024-05-18T10:02:12.174Z"
   },
   {
    "duration": 4,
    "start_time": "2024-05-18T10:02:12.213Z"
   },
   {
    "duration": 255,
    "start_time": "2024-05-18T10:02:12.219Z"
   },
   {
    "duration": 5,
    "start_time": "2024-05-18T10:02:12.476Z"
   },
   {
    "duration": 136,
    "start_time": "2024-05-18T10:02:12.482Z"
   },
   {
    "duration": 268,
    "start_time": "2024-05-18T10:02:12.620Z"
   },
   {
    "duration": 3,
    "start_time": "2024-05-18T10:02:12.889Z"
   },
   {
    "duration": 11,
    "start_time": "2024-05-18T10:02:12.894Z"
   },
   {
    "duration": 6,
    "start_time": "2024-05-18T10:02:12.912Z"
   },
   {
    "duration": 6,
    "start_time": "2024-05-18T10:02:12.920Z"
   },
   {
    "duration": 123,
    "start_time": "2024-05-18T10:02:12.927Z"
   },
   {
    "duration": 9,
    "start_time": "2024-05-18T10:02:13.052Z"
   },
   {
    "duration": 5,
    "start_time": "2024-05-18T10:02:13.063Z"
   },
   {
    "duration": 12,
    "start_time": "2024-05-18T10:02:13.069Z"
   },
   {
    "duration": 118,
    "start_time": "2024-05-18T10:02:13.083Z"
   },
   {
    "duration": 32,
    "start_time": "2024-05-18T10:02:13.202Z"
   },
   {
    "duration": 21,
    "start_time": "2024-05-18T10:02:13.235Z"
   },
   {
    "duration": 19,
    "start_time": "2024-05-18T10:02:13.257Z"
   },
   {
    "duration": 219,
    "start_time": "2024-05-18T10:02:13.278Z"
   },
   {
    "duration": 225,
    "start_time": "2024-05-18T10:02:13.499Z"
   },
   {
    "duration": 203,
    "start_time": "2024-05-18T10:02:13.725Z"
   },
   {
    "duration": 234,
    "start_time": "2024-05-18T10:02:13.930Z"
   },
   {
    "duration": 235,
    "start_time": "2024-05-18T10:44:03.661Z"
   },
   {
    "duration": 237,
    "start_time": "2024-05-18T10:44:41.575Z"
   },
   {
    "duration": 231,
    "start_time": "2024-05-18T10:45:44.382Z"
   },
   {
    "duration": 255,
    "start_time": "2024-05-18T10:46:32.082Z"
   },
   {
    "duration": 269,
    "start_time": "2024-05-18T10:46:49.079Z"
   },
   {
    "duration": 313,
    "start_time": "2024-05-18T10:48:07.691Z"
   },
   {
    "duration": 241,
    "start_time": "2024-05-18T10:48:47.638Z"
   },
   {
    "duration": 57,
    "start_time": "2024-05-18T11:07:17.349Z"
   },
   {
    "duration": 120,
    "start_time": "2024-05-18T11:08:58.654Z"
   },
   {
    "duration": 27,
    "start_time": "2024-05-18T11:09:20.320Z"
   },
   {
    "duration": 25,
    "start_time": "2024-05-18T11:10:53.410Z"
   },
   {
    "duration": 31,
    "start_time": "2024-05-18T11:11:13.589Z"
   },
   {
    "duration": 32,
    "start_time": "2024-05-18T11:12:17.038Z"
   },
   {
    "duration": 57,
    "start_time": "2024-05-18T11:14:20.270Z"
   },
   {
    "duration": 71,
    "start_time": "2024-05-18T11:14:29.979Z"
   },
   {
    "duration": 33,
    "start_time": "2024-05-18T11:14:43.328Z"
   },
   {
    "duration": 33,
    "start_time": "2024-05-18T11:16:37.667Z"
   },
   {
    "duration": 31,
    "start_time": "2024-05-18T11:23:14.331Z"
   },
   {
    "duration": 31,
    "start_time": "2024-05-18T11:23:47.546Z"
   },
   {
    "duration": 1035,
    "start_time": "2024-05-18T11:34:41.201Z"
   },
   {
    "duration": 82,
    "start_time": "2024-05-18T11:34:42.238Z"
   },
   {
    "duration": 9,
    "start_time": "2024-05-18T11:34:42.321Z"
   },
   {
    "duration": 16,
    "start_time": "2024-05-18T11:34:42.332Z"
   },
   {
    "duration": 8,
    "start_time": "2024-05-18T11:34:42.349Z"
   },
   {
    "duration": 10,
    "start_time": "2024-05-18T11:34:42.358Z"
   },
   {
    "duration": 9,
    "start_time": "2024-05-18T11:34:42.369Z"
   },
   {
    "duration": 14,
    "start_time": "2024-05-18T11:34:42.379Z"
   },
   {
    "duration": 20,
    "start_time": "2024-05-18T11:34:42.394Z"
   },
   {
    "duration": 5,
    "start_time": "2024-05-18T11:34:42.416Z"
   },
   {
    "duration": 5,
    "start_time": "2024-05-18T11:34:42.422Z"
   },
   {
    "duration": 4,
    "start_time": "2024-05-18T11:34:42.428Z"
   },
   {
    "duration": 5,
    "start_time": "2024-05-18T11:34:42.433Z"
   },
   {
    "duration": 11,
    "start_time": "2024-05-18T11:34:42.439Z"
   },
   {
    "duration": 3,
    "start_time": "2024-05-18T11:34:42.451Z"
   },
   {
    "duration": 278,
    "start_time": "2024-05-18T11:34:42.456Z"
   },
   {
    "duration": 5,
    "start_time": "2024-05-18T11:34:42.735Z"
   },
   {
    "duration": 132,
    "start_time": "2024-05-18T11:34:42.741Z"
   },
   {
    "duration": 268,
    "start_time": "2024-05-18T11:34:42.875Z"
   },
   {
    "duration": 4,
    "start_time": "2024-05-18T11:34:43.145Z"
   },
   {
    "duration": 14,
    "start_time": "2024-05-18T11:34:43.150Z"
   },
   {
    "duration": 7,
    "start_time": "2024-05-18T11:34:43.166Z"
   },
   {
    "duration": 6,
    "start_time": "2024-05-18T11:34:43.174Z"
   },
   {
    "duration": 130,
    "start_time": "2024-05-18T11:34:43.182Z"
   },
   {
    "duration": 9,
    "start_time": "2024-05-18T11:34:43.313Z"
   },
   {
    "duration": 6,
    "start_time": "2024-05-18T11:34:43.324Z"
   },
   {
    "duration": 4,
    "start_time": "2024-05-18T11:34:43.331Z"
   },
   {
    "duration": 114,
    "start_time": "2024-05-18T11:34:43.338Z"
   },
   {
    "duration": 28,
    "start_time": "2024-05-18T11:34:43.453Z"
   },
   {
    "duration": 33,
    "start_time": "2024-05-18T11:34:43.483Z"
   },
   {
    "duration": 19,
    "start_time": "2024-05-18T11:34:43.518Z"
   },
   {
    "duration": 307,
    "start_time": "2024-05-18T11:34:43.538Z"
   },
   {
    "duration": 249,
    "start_time": "2024-05-18T11:34:43.847Z"
   },
   {
    "duration": 39,
    "start_time": "2024-05-18T11:34:44.097Z"
   },
   {
    "duration": 32,
    "start_time": "2024-05-18T11:35:52.421Z"
   },
   {
    "duration": 97,
    "start_time": "2024-05-18T11:36:57.908Z"
   },
   {
    "duration": 31,
    "start_time": "2024-05-18T11:37:12.904Z"
   },
   {
    "duration": 89,
    "start_time": "2024-05-18T11:38:42.583Z"
   },
   {
    "duration": 52,
    "start_time": "2024-05-18T11:39:15.765Z"
   },
   {
    "duration": 69,
    "start_time": "2024-05-18T11:39:25.165Z"
   },
   {
    "duration": 56,
    "start_time": "2024-05-18T11:39:31.477Z"
   },
   {
    "duration": 31,
    "start_time": "2024-05-18T11:39:49.896Z"
   },
   {
    "duration": 32,
    "start_time": "2024-05-18T11:45:08.433Z"
   },
   {
    "duration": 24,
    "start_time": "2024-05-18T11:46:43.226Z"
   },
   {
    "duration": 53,
    "start_time": "2024-05-18T11:48:08.656Z"
   },
   {
    "duration": 22,
    "start_time": "2024-05-18T11:48:24.577Z"
   },
   {
    "duration": 72,
    "start_time": "2024-05-18T11:49:35.396Z"
   },
   {
    "duration": 72,
    "start_time": "2024-05-18T11:49:41.685Z"
   },
   {
    "duration": 36,
    "start_time": "2024-05-18T11:50:23.155Z"
   },
   {
    "duration": 46,
    "start_time": "2024-05-18T11:51:24.412Z"
   },
   {
    "duration": 22,
    "start_time": "2024-05-18T11:52:23.746Z"
   },
   {
    "duration": 9,
    "start_time": "2024-05-18T11:52:59.559Z"
   },
   {
    "duration": 30,
    "start_time": "2024-05-18T11:53:11.438Z"
   },
   {
    "duration": 111,
    "start_time": "2024-05-18T11:55:11.763Z"
   },
   {
    "duration": 130,
    "start_time": "2024-05-18T11:56:38.220Z"
   },
   {
    "duration": 111,
    "start_time": "2024-05-18T12:06:33.076Z"
   },
   {
    "duration": 114,
    "start_time": "2024-05-18T12:06:48.991Z"
   },
   {
    "duration": 2047,
    "start_time": "2024-05-18T12:06:59.651Z"
   },
   {
    "duration": 110,
    "start_time": "2024-05-18T12:07:01.699Z"
   },
   {
    "duration": 31,
    "start_time": "2024-05-18T12:07:01.810Z"
   },
   {
    "duration": 41,
    "start_time": "2024-05-18T12:07:01.844Z"
   },
   {
    "duration": 50,
    "start_time": "2024-05-18T12:07:01.886Z"
   },
   {
    "duration": 16,
    "start_time": "2024-05-18T12:07:01.937Z"
   },
   {
    "duration": 45,
    "start_time": "2024-05-18T12:07:01.955Z"
   },
   {
    "duration": 8,
    "start_time": "2024-05-18T12:07:02.001Z"
   },
   {
    "duration": 33,
    "start_time": "2024-05-18T12:07:02.010Z"
   },
   {
    "duration": 17,
    "start_time": "2024-05-18T12:07:02.046Z"
   },
   {
    "duration": 14,
    "start_time": "2024-05-18T12:07:02.064Z"
   },
   {
    "duration": 12,
    "start_time": "2024-05-18T12:07:02.079Z"
   },
   {
    "duration": 45,
    "start_time": "2024-05-18T12:07:02.092Z"
   },
   {
    "duration": 13,
    "start_time": "2024-05-18T12:07:02.140Z"
   },
   {
    "duration": 6,
    "start_time": "2024-05-18T12:07:02.155Z"
   },
   {
    "duration": 291,
    "start_time": "2024-05-18T12:07:02.163Z"
   },
   {
    "duration": 6,
    "start_time": "2024-05-18T12:07:02.456Z"
   },
   {
    "duration": 187,
    "start_time": "2024-05-18T12:07:02.464Z"
   },
   {
    "duration": 299,
    "start_time": "2024-05-18T12:07:02.653Z"
   },
   {
    "duration": 4,
    "start_time": "2024-05-18T12:07:02.954Z"
   },
   {
    "duration": 12,
    "start_time": "2024-05-18T12:07:02.959Z"
   },
   {
    "duration": 24,
    "start_time": "2024-05-18T12:07:02.973Z"
   },
   {
    "duration": 47,
    "start_time": "2024-05-18T12:07:02.999Z"
   },
   {
    "duration": 157,
    "start_time": "2024-05-18T12:07:03.048Z"
   },
   {
    "duration": 38,
    "start_time": "2024-05-18T12:07:03.206Z"
   },
   {
    "duration": 7,
    "start_time": "2024-05-18T12:07:03.246Z"
   },
   {
    "duration": 15,
    "start_time": "2024-05-18T12:07:03.255Z"
   },
   {
    "duration": 152,
    "start_time": "2024-05-18T12:07:03.273Z"
   },
   {
    "duration": 47,
    "start_time": "2024-05-18T12:07:03.426Z"
   },
   {
    "duration": 22,
    "start_time": "2024-05-18T12:07:03.474Z"
   },
   {
    "duration": 35,
    "start_time": "2024-05-18T12:07:03.498Z"
   },
   {
    "duration": 334,
    "start_time": "2024-05-18T12:07:03.534Z"
   },
   {
    "duration": 292,
    "start_time": "2024-05-18T12:07:03.870Z"
   },
   {
    "duration": 116,
    "start_time": "2024-05-18T12:07:04.164Z"
   },
   {
    "duration": 52,
    "start_time": "2024-05-18T12:09:33.146Z"
   },
   {
    "duration": 125,
    "start_time": "2024-05-18T12:09:47.916Z"
   },
   {
    "duration": 8,
    "start_time": "2024-05-18T12:13:29.074Z"
   },
   {
    "duration": 116,
    "start_time": "2024-05-18T12:16:22.779Z"
   },
   {
    "duration": 6,
    "start_time": "2024-05-18T12:16:40.363Z"
   },
   {
    "duration": 18,
    "start_time": "2024-05-18T12:17:34.548Z"
   },
   {
    "duration": 119,
    "start_time": "2024-05-18T12:22:17.388Z"
   },
   {
    "duration": 13,
    "start_time": "2024-05-18T12:24:33.451Z"
   },
   {
    "duration": 187,
    "start_time": "2024-05-18T12:24:54.250Z"
   },
   {
    "duration": 1110,
    "start_time": "2024-05-18T12:25:06.000Z"
   },
   {
    "duration": 120,
    "start_time": "2024-05-18T12:25:07.112Z"
   },
   {
    "duration": 11,
    "start_time": "2024-05-18T12:25:07.241Z"
   },
   {
    "duration": 18,
    "start_time": "2024-05-18T12:25:07.254Z"
   },
   {
    "duration": 16,
    "start_time": "2024-05-18T12:25:07.274Z"
   },
   {
    "duration": 10,
    "start_time": "2024-05-18T12:25:07.291Z"
   },
   {
    "duration": 10,
    "start_time": "2024-05-18T12:25:07.302Z"
   },
   {
    "duration": 9,
    "start_time": "2024-05-18T12:25:07.313Z"
   },
   {
    "duration": 22,
    "start_time": "2024-05-18T12:25:07.323Z"
   },
   {
    "duration": 5,
    "start_time": "2024-05-18T12:25:07.348Z"
   },
   {
    "duration": 5,
    "start_time": "2024-05-18T12:25:07.355Z"
   },
   {
    "duration": 4,
    "start_time": "2024-05-18T12:25:07.362Z"
   },
   {
    "duration": 5,
    "start_time": "2024-05-18T12:25:07.368Z"
   },
   {
    "duration": 13,
    "start_time": "2024-05-18T12:25:07.374Z"
   },
   {
    "duration": 5,
    "start_time": "2024-05-18T12:25:07.388Z"
   },
   {
    "duration": 299,
    "start_time": "2024-05-18T12:25:07.394Z"
   },
   {
    "duration": 5,
    "start_time": "2024-05-18T12:25:07.694Z"
   },
   {
    "duration": 146,
    "start_time": "2024-05-18T12:25:07.714Z"
   },
   {
    "duration": 295,
    "start_time": "2024-05-18T12:25:07.861Z"
   },
   {
    "duration": 3,
    "start_time": "2024-05-18T12:25:08.158Z"
   },
   {
    "duration": 12,
    "start_time": "2024-05-18T12:25:08.163Z"
   },
   {
    "duration": 9,
    "start_time": "2024-05-18T12:25:08.177Z"
   },
   {
    "duration": 38,
    "start_time": "2024-05-18T12:25:08.187Z"
   },
   {
    "duration": 140,
    "start_time": "2024-05-18T12:25:08.228Z"
   },
   {
    "duration": 9,
    "start_time": "2024-05-18T12:25:08.370Z"
   },
   {
    "duration": 5,
    "start_time": "2024-05-18T12:25:08.381Z"
   },
   {
    "duration": 10,
    "start_time": "2024-05-18T12:25:08.388Z"
   },
   {
    "duration": 116,
    "start_time": "2024-05-18T12:25:08.425Z"
   },
   {
    "duration": 33,
    "start_time": "2024-05-18T12:25:08.542Z"
   },
   {
    "duration": 21,
    "start_time": "2024-05-18T12:25:08.577Z"
   },
   {
    "duration": 47,
    "start_time": "2024-05-18T12:25:08.599Z"
   },
   {
    "duration": 312,
    "start_time": "2024-05-18T12:25:08.648Z"
   },
   {
    "duration": 287,
    "start_time": "2024-05-18T12:25:08.962Z"
   },
   {
    "duration": 108,
    "start_time": "2024-05-18T12:25:09.251Z"
   },
   {
    "duration": 950,
    "start_time": "2024-05-18T12:25:09.360Z"
   },
   {
    "duration": 8,
    "start_time": "2024-05-18T12:31:31.278Z"
   },
   {
    "duration": 1031,
    "start_time": "2024-05-18T12:31:49.264Z"
   },
   {
    "duration": 1094,
    "start_time": "2024-05-18T12:32:07.866Z"
   },
   {
    "duration": 1019,
    "start_time": "2024-05-18T12:32:28.206Z"
   },
   {
    "duration": 1040,
    "start_time": "2024-05-18T12:32:44.720Z"
   },
   {
    "duration": 1056,
    "start_time": "2024-05-18T12:32:55.823Z"
   },
   {
    "duration": 1268,
    "start_time": "2024-05-18T12:33:04.271Z"
   },
   {
    "duration": 1081,
    "start_time": "2024-05-18T12:33:43.560Z"
   },
   {
    "duration": 1061,
    "start_time": "2024-05-18T12:33:56.232Z"
   },
   {
    "duration": 102,
    "start_time": "2024-05-18T12:33:57.295Z"
   },
   {
    "duration": 10,
    "start_time": "2024-05-18T12:33:57.399Z"
   },
   {
    "duration": 38,
    "start_time": "2024-05-18T12:33:57.411Z"
   },
   {
    "duration": 17,
    "start_time": "2024-05-18T12:33:57.451Z"
   },
   {
    "duration": 16,
    "start_time": "2024-05-18T12:33:57.469Z"
   },
   {
    "duration": 10,
    "start_time": "2024-05-18T12:33:57.486Z"
   },
   {
    "duration": 5,
    "start_time": "2024-05-18T12:33:57.497Z"
   },
   {
    "duration": 5,
    "start_time": "2024-05-18T12:33:57.504Z"
   },
   {
    "duration": 22,
    "start_time": "2024-05-18T12:33:57.511Z"
   },
   {
    "duration": 15,
    "start_time": "2024-05-18T12:33:57.534Z"
   },
   {
    "duration": 6,
    "start_time": "2024-05-18T12:33:57.557Z"
   },
   {
    "duration": 14,
    "start_time": "2024-05-18T12:33:57.564Z"
   },
   {
    "duration": 6,
    "start_time": "2024-05-18T12:33:57.581Z"
   },
   {
    "duration": 31,
    "start_time": "2024-05-18T12:33:57.589Z"
   },
   {
    "duration": 284,
    "start_time": "2024-05-18T12:33:57.622Z"
   },
   {
    "duration": 26,
    "start_time": "2024-05-18T12:33:57.907Z"
   },
   {
    "duration": 151,
    "start_time": "2024-05-18T12:33:57.935Z"
   },
   {
    "duration": 313,
    "start_time": "2024-05-18T12:33:58.088Z"
   },
   {
    "duration": 3,
    "start_time": "2024-05-18T12:33:58.403Z"
   },
   {
    "duration": 38,
    "start_time": "2024-05-18T12:33:58.407Z"
   },
   {
    "duration": 9,
    "start_time": "2024-05-18T12:33:58.446Z"
   },
   {
    "duration": 14,
    "start_time": "2024-05-18T12:33:58.456Z"
   },
   {
    "duration": 178,
    "start_time": "2024-05-18T12:33:58.471Z"
   },
   {
    "duration": 10,
    "start_time": "2024-05-18T12:33:58.651Z"
   },
   {
    "duration": 5,
    "start_time": "2024-05-18T12:33:58.662Z"
   },
   {
    "duration": 21,
    "start_time": "2024-05-18T12:33:58.668Z"
   },
   {
    "duration": 113,
    "start_time": "2024-05-18T12:33:58.690Z"
   },
   {
    "duration": 49,
    "start_time": "2024-05-18T12:33:58.805Z"
   },
   {
    "duration": 21,
    "start_time": "2024-05-18T12:33:58.855Z"
   },
   {
    "duration": 18,
    "start_time": "2024-05-18T12:33:58.878Z"
   },
   {
    "duration": 338,
    "start_time": "2024-05-18T12:33:58.897Z"
   },
   {
    "duration": 271,
    "start_time": "2024-05-18T12:33:59.236Z"
   },
   {
    "duration": 1101,
    "start_time": "2024-05-18T12:33:59.509Z"
   },
   {
    "duration": 934,
    "start_time": "2024-05-18T12:34:00.611Z"
   },
   {
    "duration": 4,
    "start_time": "2024-05-18T12:43:59.151Z"
   },
   {
    "duration": 55,
    "start_time": "2024-05-18T12:46:28.298Z"
   },
   {
    "duration": 55,
    "start_time": "2024-05-18T12:46:37.948Z"
   },
   {
    "duration": 5,
    "start_time": "2024-05-18T12:46:59.160Z"
   },
   {
    "duration": 42,
    "start_time": "2024-05-18T12:47:09.710Z"
   },
   {
    "duration": 16,
    "start_time": "2024-05-18T12:49:29.787Z"
   },
   {
    "duration": 7,
    "start_time": "2024-05-18T12:50:04.947Z"
   },
   {
    "duration": 47,
    "start_time": "2024-05-18T12:50:22.900Z"
   },
   {
    "duration": 1103,
    "start_time": "2024-05-18T12:50:30.701Z"
   },
   {
    "duration": 94,
    "start_time": "2024-05-18T12:50:31.805Z"
   },
   {
    "duration": 9,
    "start_time": "2024-05-18T12:50:31.901Z"
   },
   {
    "duration": 38,
    "start_time": "2024-05-18T12:50:31.912Z"
   },
   {
    "duration": 11,
    "start_time": "2024-05-18T12:50:31.952Z"
   },
   {
    "duration": 10,
    "start_time": "2024-05-18T12:50:31.965Z"
   },
   {
    "duration": 10,
    "start_time": "2024-05-18T12:50:31.977Z"
   },
   {
    "duration": 6,
    "start_time": "2024-05-18T12:50:31.989Z"
   },
   {
    "duration": 44,
    "start_time": "2024-05-18T12:50:31.997Z"
   },
   {
    "duration": 6,
    "start_time": "2024-05-18T12:50:32.051Z"
   },
   {
    "duration": 7,
    "start_time": "2024-05-18T12:50:32.058Z"
   },
   {
    "duration": 6,
    "start_time": "2024-05-18T12:50:32.066Z"
   },
   {
    "duration": 18,
    "start_time": "2024-05-18T12:50:32.073Z"
   },
   {
    "duration": 12,
    "start_time": "2024-05-18T12:50:32.092Z"
   },
   {
    "duration": 4,
    "start_time": "2024-05-18T12:50:32.105Z"
   },
   {
    "duration": 293,
    "start_time": "2024-05-18T12:50:32.111Z"
   },
   {
    "duration": 21,
    "start_time": "2024-05-18T12:50:32.405Z"
   },
   {
    "duration": 142,
    "start_time": "2024-05-18T12:50:32.427Z"
   },
   {
    "duration": 308,
    "start_time": "2024-05-18T12:50:32.571Z"
   },
   {
    "duration": 3,
    "start_time": "2024-05-18T12:50:32.881Z"
   },
   {
    "duration": 34,
    "start_time": "2024-05-18T12:50:32.885Z"
   },
   {
    "duration": 20,
    "start_time": "2024-05-18T12:50:32.920Z"
   },
   {
    "duration": 14,
    "start_time": "2024-05-18T12:50:32.942Z"
   },
   {
    "duration": 128,
    "start_time": "2024-05-18T12:50:32.957Z"
   },
   {
    "duration": 9,
    "start_time": "2024-05-18T12:50:33.086Z"
   },
   {
    "duration": 11,
    "start_time": "2024-05-18T12:50:33.097Z"
   },
   {
    "duration": 40,
    "start_time": "2024-05-18T12:50:33.109Z"
   },
   {
    "duration": 114,
    "start_time": "2024-05-18T12:50:33.153Z"
   },
   {
    "duration": 31,
    "start_time": "2024-05-18T12:50:33.269Z"
   },
   {
    "duration": 39,
    "start_time": "2024-05-18T12:50:33.302Z"
   },
   {
    "duration": 23,
    "start_time": "2024-05-18T12:50:33.342Z"
   },
   {
    "duration": 334,
    "start_time": "2024-05-18T12:50:33.366Z"
   },
   {
    "duration": 286,
    "start_time": "2024-05-18T12:50:33.701Z"
   },
   {
    "duration": 1091,
    "start_time": "2024-05-18T12:50:33.988Z"
   },
   {
    "duration": 18,
    "start_time": "2024-05-18T12:50:35.081Z"
   },
   {
    "duration": 18,
    "start_time": "2024-05-18T12:52:07.146Z"
   },
   {
    "duration": 11,
    "start_time": "2024-05-18T12:52:37.579Z"
   },
   {
    "duration": 20,
    "start_time": "2024-05-18T12:52:55.330Z"
   },
   {
    "duration": 37,
    "start_time": "2024-05-18T12:53:43.200Z"
   },
   {
    "duration": 1070,
    "start_time": "2024-05-18T12:54:19.695Z"
   },
   {
    "duration": 90,
    "start_time": "2024-05-18T12:54:20.766Z"
   },
   {
    "duration": 11,
    "start_time": "2024-05-18T12:54:20.857Z"
   },
   {
    "duration": 28,
    "start_time": "2024-05-18T12:54:20.870Z"
   },
   {
    "duration": 45,
    "start_time": "2024-05-18T12:54:20.900Z"
   },
   {
    "duration": 33,
    "start_time": "2024-05-18T12:54:20.947Z"
   },
   {
    "duration": 24,
    "start_time": "2024-05-18T12:54:20.981Z"
   },
   {
    "duration": 34,
    "start_time": "2024-05-18T12:54:21.006Z"
   },
   {
    "duration": 28,
    "start_time": "2024-05-18T12:54:21.042Z"
   },
   {
    "duration": 26,
    "start_time": "2024-05-18T12:54:21.072Z"
   },
   {
    "duration": 39,
    "start_time": "2024-05-18T12:54:21.100Z"
   },
   {
    "duration": 37,
    "start_time": "2024-05-18T12:54:21.140Z"
   },
   {
    "duration": 44,
    "start_time": "2024-05-18T12:54:21.179Z"
   },
   {
    "duration": 20,
    "start_time": "2024-05-18T12:54:21.224Z"
   },
   {
    "duration": 16,
    "start_time": "2024-05-18T12:54:21.246Z"
   },
   {
    "duration": 291,
    "start_time": "2024-05-18T12:54:21.264Z"
   },
   {
    "duration": 5,
    "start_time": "2024-05-18T12:54:21.556Z"
   },
   {
    "duration": 175,
    "start_time": "2024-05-18T12:54:21.562Z"
   },
   {
    "duration": 299,
    "start_time": "2024-05-18T12:54:21.739Z"
   },
   {
    "duration": 4,
    "start_time": "2024-05-18T12:54:22.039Z"
   },
   {
    "duration": 18,
    "start_time": "2024-05-18T12:54:22.044Z"
   },
   {
    "duration": 10,
    "start_time": "2024-05-18T12:54:22.063Z"
   },
   {
    "duration": 7,
    "start_time": "2024-05-18T12:54:22.074Z"
   },
   {
    "duration": 151,
    "start_time": "2024-05-18T12:54:22.083Z"
   },
   {
    "duration": 11,
    "start_time": "2024-05-18T12:54:22.235Z"
   },
   {
    "duration": 5,
    "start_time": "2024-05-18T12:54:22.248Z"
   },
   {
    "duration": 6,
    "start_time": "2024-05-18T12:54:22.254Z"
   },
   {
    "duration": 124,
    "start_time": "2024-05-18T12:54:22.263Z"
   },
   {
    "duration": 47,
    "start_time": "2024-05-18T12:54:22.388Z"
   },
   {
    "duration": 24,
    "start_time": "2024-05-18T12:54:22.436Z"
   },
   {
    "duration": 19,
    "start_time": "2024-05-18T12:54:22.461Z"
   },
   {
    "duration": 360,
    "start_time": "2024-05-18T12:54:22.481Z"
   },
   {
    "duration": 259,
    "start_time": "2024-05-18T12:54:22.843Z"
   },
   {
    "duration": 1095,
    "start_time": "2024-05-18T12:54:23.104Z"
   },
   {
    "duration": 37,
    "start_time": "2024-05-18T12:54:24.201Z"
   },
   {
    "duration": 60,
    "start_time": "2024-05-18T13:21:03.497Z"
   },
   {
    "duration": 7,
    "start_time": "2024-05-18T13:21:20.091Z"
   },
   {
    "duration": 992,
    "start_time": "2024-05-18T13:21:41.760Z"
   },
   {
    "duration": 83,
    "start_time": "2024-05-18T13:21:42.755Z"
   },
   {
    "duration": 10,
    "start_time": "2024-05-18T13:21:42.840Z"
   },
   {
    "duration": 15,
    "start_time": "2024-05-18T13:21:42.852Z"
   },
   {
    "duration": 21,
    "start_time": "2024-05-18T13:21:42.868Z"
   },
   {
    "duration": 11,
    "start_time": "2024-05-18T13:21:42.890Z"
   },
   {
    "duration": 9,
    "start_time": "2024-05-18T13:21:42.903Z"
   },
   {
    "duration": 8,
    "start_time": "2024-05-18T13:21:42.914Z"
   },
   {
    "duration": 6,
    "start_time": "2024-05-18T13:21:42.923Z"
   },
   {
    "duration": 4,
    "start_time": "2024-05-18T13:21:42.933Z"
   },
   {
    "duration": 5,
    "start_time": "2024-05-18T13:21:42.938Z"
   },
   {
    "duration": 4,
    "start_time": "2024-05-18T13:21:42.945Z"
   },
   {
    "duration": 8,
    "start_time": "2024-05-18T13:21:42.950Z"
   },
   {
    "duration": 11,
    "start_time": "2024-05-18T13:21:42.959Z"
   },
   {
    "duration": 14,
    "start_time": "2024-05-18T13:21:42.971Z"
   },
   {
    "duration": 263,
    "start_time": "2024-05-18T13:21:43.011Z"
   },
   {
    "duration": 6,
    "start_time": "2024-05-18T13:21:43.275Z"
   },
   {
    "duration": 142,
    "start_time": "2024-05-18T13:21:43.283Z"
   },
   {
    "duration": 297,
    "start_time": "2024-05-18T13:21:43.427Z"
   },
   {
    "duration": 3,
    "start_time": "2024-05-18T13:21:43.726Z"
   },
   {
    "duration": 17,
    "start_time": "2024-05-18T13:21:43.730Z"
   },
   {
    "duration": 15,
    "start_time": "2024-05-18T13:21:43.749Z"
   },
   {
    "duration": 7,
    "start_time": "2024-05-18T13:21:43.765Z"
   },
   {
    "duration": 136,
    "start_time": "2024-05-18T13:21:43.774Z"
   },
   {
    "duration": 9,
    "start_time": "2024-05-18T13:21:43.911Z"
   },
   {
    "duration": 16,
    "start_time": "2024-05-18T13:21:43.922Z"
   },
   {
    "duration": 5,
    "start_time": "2024-05-18T13:21:43.939Z"
   },
   {
    "duration": 103,
    "start_time": "2024-05-18T13:21:43.947Z"
   },
   {
    "duration": 29,
    "start_time": "2024-05-18T13:21:44.051Z"
   },
   {
    "duration": 35,
    "start_time": "2024-05-18T13:21:44.082Z"
   },
   {
    "duration": 17,
    "start_time": "2024-05-18T13:21:44.118Z"
   },
   {
    "duration": 289,
    "start_time": "2024-05-18T13:21:44.136Z"
   },
   {
    "duration": 251,
    "start_time": "2024-05-18T13:21:44.427Z"
   },
   {
    "duration": 965,
    "start_time": "2024-05-18T13:21:44.679Z"
   },
   {
    "duration": 18,
    "start_time": "2024-05-18T13:21:45.645Z"
   },
   {
    "duration": 7,
    "start_time": "2024-05-18T13:21:45.664Z"
   },
   {
    "duration": 5,
    "start_time": "2024-05-18T13:21:55.841Z"
   },
   {
    "duration": 5,
    "start_time": "2024-05-18T13:22:25.885Z"
   },
   {
    "duration": 6,
    "start_time": "2024-05-18T13:24:20.388Z"
   },
   {
    "duration": 991,
    "start_time": "2024-05-18T13:25:02.556Z"
   },
   {
    "duration": 87,
    "start_time": "2024-05-18T13:25:03.549Z"
   },
   {
    "duration": 10,
    "start_time": "2024-05-18T13:25:03.638Z"
   },
   {
    "duration": 11,
    "start_time": "2024-05-18T13:25:03.650Z"
   },
   {
    "duration": 9,
    "start_time": "2024-05-18T13:25:03.662Z"
   },
   {
    "duration": 11,
    "start_time": "2024-05-18T13:25:03.672Z"
   },
   {
    "duration": 33,
    "start_time": "2024-05-18T13:25:03.684Z"
   },
   {
    "duration": 5,
    "start_time": "2024-05-18T13:25:03.719Z"
   },
   {
    "duration": 10,
    "start_time": "2024-05-18T13:25:03.725Z"
   },
   {
    "duration": 11,
    "start_time": "2024-05-18T13:25:03.738Z"
   },
   {
    "duration": 33,
    "start_time": "2024-05-18T13:25:03.750Z"
   },
   {
    "duration": 4,
    "start_time": "2024-05-18T13:25:03.784Z"
   },
   {
    "duration": 7,
    "start_time": "2024-05-18T13:25:03.790Z"
   },
   {
    "duration": 8,
    "start_time": "2024-05-18T13:25:03.798Z"
   },
   {
    "duration": 4,
    "start_time": "2024-05-18T13:25:03.807Z"
   },
   {
    "duration": 259,
    "start_time": "2024-05-18T13:25:03.812Z"
   },
   {
    "duration": 6,
    "start_time": "2024-05-18T13:25:04.072Z"
   },
   {
    "duration": 141,
    "start_time": "2024-05-18T13:25:04.079Z"
   },
   {
    "duration": 265,
    "start_time": "2024-05-18T13:25:04.221Z"
   },
   {
    "duration": 3,
    "start_time": "2024-05-18T13:25:04.487Z"
   },
   {
    "duration": 18,
    "start_time": "2024-05-18T13:25:04.492Z"
   },
   {
    "duration": 7,
    "start_time": "2024-05-18T13:25:04.511Z"
   },
   {
    "duration": 17,
    "start_time": "2024-05-18T13:25:04.519Z"
   },
   {
    "duration": 114,
    "start_time": "2024-05-18T13:25:04.538Z"
   },
   {
    "duration": 10,
    "start_time": "2024-05-18T13:25:04.653Z"
   },
   {
    "duration": 6,
    "start_time": "2024-05-18T13:25:04.665Z"
   },
   {
    "duration": 10,
    "start_time": "2024-05-18T13:25:04.673Z"
   },
   {
    "duration": 129,
    "start_time": "2024-05-18T13:25:04.686Z"
   },
   {
    "duration": 30,
    "start_time": "2024-05-18T13:25:04.817Z"
   },
   {
    "duration": 21,
    "start_time": "2024-05-18T13:25:04.849Z"
   },
   {
    "duration": 41,
    "start_time": "2024-05-18T13:25:04.872Z"
   },
   {
    "duration": 289,
    "start_time": "2024-05-18T13:25:04.915Z"
   },
   {
    "duration": 254,
    "start_time": "2024-05-18T13:25:05.205Z"
   },
   {
    "duration": 968,
    "start_time": "2024-05-18T13:25:05.461Z"
   },
   {
    "duration": 16,
    "start_time": "2024-05-18T13:25:06.430Z"
   },
   {
    "duration": 5,
    "start_time": "2024-05-18T13:25:06.447Z"
   },
   {
    "duration": 1495,
    "start_time": "2024-05-18T18:13:17.400Z"
   },
   {
    "duration": 255,
    "start_time": "2024-05-18T18:13:18.897Z"
   },
   {
    "duration": 15,
    "start_time": "2024-05-18T18:13:19.154Z"
   },
   {
    "duration": 26,
    "start_time": "2024-05-18T18:13:19.171Z"
   },
   {
    "duration": 10,
    "start_time": "2024-05-18T18:13:19.202Z"
   },
   {
    "duration": 11,
    "start_time": "2024-05-18T18:13:19.213Z"
   },
   {
    "duration": 12,
    "start_time": "2024-05-18T18:13:19.226Z"
   },
   {
    "duration": 7,
    "start_time": "2024-05-18T18:13:19.240Z"
   },
   {
    "duration": 11,
    "start_time": "2024-05-18T18:13:19.290Z"
   },
   {
    "duration": 11,
    "start_time": "2024-05-18T18:13:19.303Z"
   },
   {
    "duration": 23,
    "start_time": "2024-05-18T18:13:19.316Z"
   },
   {
    "duration": 4,
    "start_time": "2024-05-18T18:13:19.342Z"
   },
   {
    "duration": 11,
    "start_time": "2024-05-18T18:13:19.348Z"
   },
   {
    "duration": 8,
    "start_time": "2024-05-18T18:13:19.362Z"
   },
   {
    "duration": 25,
    "start_time": "2024-05-18T18:13:19.372Z"
   },
   {
    "duration": 327,
    "start_time": "2024-05-18T18:13:19.400Z"
   },
   {
    "duration": 6,
    "start_time": "2024-05-18T18:13:19.729Z"
   },
   {
    "duration": 188,
    "start_time": "2024-05-18T18:13:19.736Z"
   },
   {
    "duration": 349,
    "start_time": "2024-05-18T18:13:19.926Z"
   },
   {
    "duration": 11,
    "start_time": "2024-05-18T18:13:20.277Z"
   },
   {
    "duration": 15,
    "start_time": "2024-05-18T18:13:20.296Z"
   },
   {
    "duration": 19,
    "start_time": "2024-05-18T18:13:20.313Z"
   },
   {
    "duration": 25,
    "start_time": "2024-05-18T18:13:20.334Z"
   },
   {
    "duration": 157,
    "start_time": "2024-05-18T18:13:20.362Z"
   },
   {
    "duration": 15,
    "start_time": "2024-05-18T18:13:20.521Z"
   },
   {
    "duration": 11,
    "start_time": "2024-05-18T18:13:20.537Z"
   },
   {
    "duration": 7,
    "start_time": "2024-05-18T18:13:20.551Z"
   },
   {
    "duration": 160,
    "start_time": "2024-05-18T18:13:20.560Z"
   },
   {
    "duration": 50,
    "start_time": "2024-05-18T18:13:20.722Z"
   },
   {
    "duration": 44,
    "start_time": "2024-05-18T18:13:20.774Z"
   },
   {
    "duration": 23,
    "start_time": "2024-05-18T18:13:20.820Z"
   },
   {
    "duration": 378,
    "start_time": "2024-05-18T18:13:20.846Z"
   },
   {
    "duration": 310,
    "start_time": "2024-05-18T18:13:21.226Z"
   },
   {
    "duration": 1178,
    "start_time": "2024-05-18T18:13:21.538Z"
   },
   {
    "duration": 31,
    "start_time": "2024-05-18T18:13:22.718Z"
   },
   {
    "duration": 8,
    "start_time": "2024-05-18T18:13:22.750Z"
   },
   {
    "duration": 123,
    "start_time": "2024-05-18T18:24:45.282Z"
   },
   {
    "duration": 13,
    "start_time": "2024-05-18T18:27:15.608Z"
   },
   {
    "duration": 7,
    "start_time": "2024-05-18T18:27:36.831Z"
   },
   {
    "duration": 1255,
    "start_time": "2024-05-18T18:31:44.253Z"
   },
   {
    "duration": 101,
    "start_time": "2024-05-18T18:31:45.510Z"
   },
   {
    "duration": 16,
    "start_time": "2024-05-18T18:31:45.612Z"
   },
   {
    "duration": 12,
    "start_time": "2024-05-18T18:31:45.630Z"
   },
   {
    "duration": 14,
    "start_time": "2024-05-18T18:31:45.644Z"
   },
   {
    "duration": 22,
    "start_time": "2024-05-18T18:31:45.683Z"
   },
   {
    "duration": 19,
    "start_time": "2024-05-18T18:31:45.707Z"
   },
   {
    "duration": 6,
    "start_time": "2024-05-18T18:31:45.728Z"
   },
   {
    "duration": 8,
    "start_time": "2024-05-18T18:31:45.736Z"
   },
   {
    "duration": 5,
    "start_time": "2024-05-18T18:31:45.747Z"
   },
   {
    "duration": 37,
    "start_time": "2024-05-18T18:31:45.754Z"
   },
   {
    "duration": 13,
    "start_time": "2024-05-18T18:31:45.797Z"
   },
   {
    "duration": 17,
    "start_time": "2024-05-18T18:31:45.812Z"
   },
   {
    "duration": 9,
    "start_time": "2024-05-18T18:31:45.831Z"
   },
   {
    "duration": 5,
    "start_time": "2024-05-18T18:31:45.842Z"
   },
   {
    "duration": 389,
    "start_time": "2024-05-18T18:31:45.849Z"
   },
   {
    "duration": 6,
    "start_time": "2024-05-18T18:31:46.240Z"
   },
   {
    "duration": 209,
    "start_time": "2024-05-18T18:31:46.248Z"
   },
   {
    "duration": 363,
    "start_time": "2024-05-18T18:31:46.459Z"
   },
   {
    "duration": 4,
    "start_time": "2024-05-18T18:31:46.824Z"
   },
   {
    "duration": 12,
    "start_time": "2024-05-18T18:31:46.830Z"
   },
   {
    "duration": 7,
    "start_time": "2024-05-18T18:31:46.844Z"
   },
   {
    "duration": 49,
    "start_time": "2024-05-18T18:31:46.853Z"
   },
   {
    "duration": 135,
    "start_time": "2024-05-18T18:31:46.904Z"
   },
   {
    "duration": 12,
    "start_time": "2024-05-18T18:31:47.041Z"
   },
   {
    "duration": 7,
    "start_time": "2024-05-18T18:31:47.055Z"
   },
   {
    "duration": 16,
    "start_time": "2024-05-18T18:31:47.083Z"
   },
   {
    "duration": 124,
    "start_time": "2024-05-18T18:31:47.103Z"
   },
   {
    "duration": 35,
    "start_time": "2024-05-18T18:31:47.229Z"
   },
   {
    "duration": 44,
    "start_time": "2024-05-18T18:31:47.266Z"
   },
   {
    "duration": 21,
    "start_time": "2024-05-18T18:31:47.312Z"
   },
   {
    "duration": 386,
    "start_time": "2024-05-18T18:31:47.335Z"
   },
   {
    "duration": 368,
    "start_time": "2024-05-18T18:31:47.723Z"
   },
   {
    "duration": 1132,
    "start_time": "2024-05-18T18:31:48.092Z"
   },
   {
    "duration": 20,
    "start_time": "2024-05-18T18:31:49.226Z"
   },
   {
    "duration": 7,
    "start_time": "2024-05-18T18:31:49.248Z"
   },
   {
    "duration": 28,
    "start_time": "2024-05-18T18:31:49.257Z"
   },
   {
    "duration": 1529,
    "start_time": "2024-05-20T12:51:53.467Z"
   },
   {
    "duration": 249,
    "start_time": "2024-05-20T12:51:54.998Z"
   },
   {
    "duration": 11,
    "start_time": "2024-05-20T12:51:55.249Z"
   },
   {
    "duration": 14,
    "start_time": "2024-05-20T12:51:55.262Z"
   },
   {
    "duration": 12,
    "start_time": "2024-05-20T12:51:55.277Z"
   },
   {
    "duration": 11,
    "start_time": "2024-05-20T12:51:55.291Z"
   },
   {
    "duration": 17,
    "start_time": "2024-05-20T12:51:55.303Z"
   },
   {
    "duration": 14,
    "start_time": "2024-05-20T12:51:55.322Z"
   },
   {
    "duration": 14,
    "start_time": "2024-05-20T12:51:55.337Z"
   },
   {
    "duration": 9,
    "start_time": "2024-05-20T12:51:55.354Z"
   },
   {
    "duration": 24,
    "start_time": "2024-05-20T12:51:55.365Z"
   },
   {
    "duration": 20,
    "start_time": "2024-05-20T12:51:55.390Z"
   },
   {
    "duration": 8,
    "start_time": "2024-05-20T12:51:55.411Z"
   },
   {
    "duration": 8,
    "start_time": "2024-05-20T12:51:55.420Z"
   },
   {
    "duration": 4,
    "start_time": "2024-05-20T12:51:55.430Z"
   },
   {
    "duration": 288,
    "start_time": "2024-05-20T12:51:55.436Z"
   },
   {
    "duration": 6,
    "start_time": "2024-05-20T12:51:55.725Z"
   },
   {
    "duration": 160,
    "start_time": "2024-05-20T12:51:55.732Z"
   },
   {
    "duration": 317,
    "start_time": "2024-05-20T12:51:55.894Z"
   },
   {
    "duration": 3,
    "start_time": "2024-05-20T12:51:56.213Z"
   },
   {
    "duration": 27,
    "start_time": "2024-05-20T12:51:56.218Z"
   },
   {
    "duration": 21,
    "start_time": "2024-05-20T12:51:56.247Z"
   },
   {
    "duration": 9,
    "start_time": "2024-05-20T12:51:56.270Z"
   },
   {
    "duration": 128,
    "start_time": "2024-05-20T12:51:56.281Z"
   },
   {
    "duration": 11,
    "start_time": "2024-05-20T12:51:56.411Z"
   },
   {
    "duration": 6,
    "start_time": "2024-05-20T12:51:56.424Z"
   },
   {
    "duration": 6,
    "start_time": "2024-05-20T12:51:56.432Z"
   },
   {
    "duration": 128,
    "start_time": "2024-05-20T12:51:56.441Z"
   },
   {
    "duration": 40,
    "start_time": "2024-05-20T12:51:56.570Z"
   },
   {
    "duration": 22,
    "start_time": "2024-05-20T12:51:56.612Z"
   },
   {
    "duration": 19,
    "start_time": "2024-05-20T12:51:56.635Z"
   },
   {
    "duration": 356,
    "start_time": "2024-05-20T12:51:56.656Z"
   },
   {
    "duration": 276,
    "start_time": "2024-05-20T12:51:57.014Z"
   },
   {
    "duration": 929,
    "start_time": "2024-05-20T12:51:57.292Z"
   },
   {
    "duration": 17,
    "start_time": "2024-05-20T12:51:58.223Z"
   },
   {
    "duration": 5,
    "start_time": "2024-05-20T12:51:58.242Z"
   },
   {
    "duration": 6,
    "start_time": "2024-05-20T12:51:58.249Z"
   },
   {
    "duration": 15,
    "start_time": "2024-05-20T13:53:41.925Z"
   },
   {
    "duration": 1078,
    "start_time": "2024-05-20T15:01:22.972Z"
   },
   {
    "duration": 86,
    "start_time": "2024-05-20T15:01:24.052Z"
   },
   {
    "duration": 10,
    "start_time": "2024-05-20T15:01:24.140Z"
   },
   {
    "duration": 33,
    "start_time": "2024-05-20T15:01:24.152Z"
   },
   {
    "duration": 9,
    "start_time": "2024-05-20T15:01:24.187Z"
   },
   {
    "duration": 11,
    "start_time": "2024-05-20T15:01:24.198Z"
   },
   {
    "duration": 23,
    "start_time": "2024-05-20T15:01:24.211Z"
   },
   {
    "duration": 6,
    "start_time": "2024-05-20T15:01:24.236Z"
   },
   {
    "duration": 9,
    "start_time": "2024-05-20T15:01:24.244Z"
   },
   {
    "duration": 31,
    "start_time": "2024-05-20T15:01:24.255Z"
   },
   {
    "duration": 7,
    "start_time": "2024-05-20T15:01:24.288Z"
   },
   {
    "duration": 10,
    "start_time": "2024-05-20T15:01:24.296Z"
   },
   {
    "duration": 28,
    "start_time": "2024-05-20T15:01:24.308Z"
   },
   {
    "duration": 11,
    "start_time": "2024-05-20T15:01:24.338Z"
   },
   {
    "duration": 17,
    "start_time": "2024-05-20T15:01:24.351Z"
   },
   {
    "duration": 326,
    "start_time": "2024-05-20T15:01:24.370Z"
   },
   {
    "duration": 7,
    "start_time": "2024-05-20T15:01:24.698Z"
   },
   {
    "duration": 161,
    "start_time": "2024-05-20T15:01:24.706Z"
   },
   {
    "duration": 302,
    "start_time": "2024-05-20T15:01:24.868Z"
   },
   {
    "duration": 4,
    "start_time": "2024-05-20T15:01:25.172Z"
   },
   {
    "duration": 20,
    "start_time": "2024-05-20T15:01:25.182Z"
   },
   {
    "duration": 21,
    "start_time": "2024-05-20T15:01:25.204Z"
   },
   {
    "duration": 16,
    "start_time": "2024-05-20T15:01:25.227Z"
   },
   {
    "duration": 119,
    "start_time": "2024-05-20T15:01:25.244Z"
   },
   {
    "duration": 18,
    "start_time": "2024-05-20T15:01:25.364Z"
   },
   {
    "duration": 16,
    "start_time": "2024-05-20T15:01:25.384Z"
   },
   {
    "duration": 12,
    "start_time": "2024-05-20T15:01:25.401Z"
   },
   {
    "duration": 107,
    "start_time": "2024-05-20T15:01:25.416Z"
   },
   {
    "duration": 31,
    "start_time": "2024-05-20T15:01:25.524Z"
   },
   {
    "duration": 30,
    "start_time": "2024-05-20T15:01:25.557Z"
   },
   {
    "duration": 20,
    "start_time": "2024-05-20T15:01:25.589Z"
   },
   {
    "duration": 356,
    "start_time": "2024-05-20T15:01:25.610Z"
   },
   {
    "duration": 304,
    "start_time": "2024-05-20T15:01:25.969Z"
   },
   {
    "duration": 992,
    "start_time": "2024-05-20T15:01:26.282Z"
   },
   {
    "duration": 21,
    "start_time": "2024-05-20T15:01:27.275Z"
   },
   {
    "duration": 6,
    "start_time": "2024-05-20T15:01:27.297Z"
   },
   {
    "duration": 8,
    "start_time": "2024-05-20T15:01:27.305Z"
   },
   {
    "duration": 14,
    "start_time": "2024-05-20T15:01:27.315Z"
   },
   {
    "duration": 964,
    "start_time": "2024-05-20T15:50:08.932Z"
   },
   {
    "duration": 84,
    "start_time": "2024-05-20T15:50:09.897Z"
   },
   {
    "duration": 10,
    "start_time": "2024-05-20T15:50:09.982Z"
   },
   {
    "duration": 26,
    "start_time": "2024-05-20T15:50:09.993Z"
   },
   {
    "duration": 22,
    "start_time": "2024-05-20T15:50:10.020Z"
   },
   {
    "duration": 28,
    "start_time": "2024-05-20T15:50:10.044Z"
   },
   {
    "duration": 34,
    "start_time": "2024-05-20T15:50:10.073Z"
   },
   {
    "duration": 13,
    "start_time": "2024-05-20T15:50:10.108Z"
   },
   {
    "duration": 26,
    "start_time": "2024-05-20T15:50:10.122Z"
   },
   {
    "duration": 22,
    "start_time": "2024-05-20T15:50:10.151Z"
   },
   {
    "duration": 6,
    "start_time": "2024-05-20T15:50:10.175Z"
   },
   {
    "duration": 27,
    "start_time": "2024-05-20T15:50:10.182Z"
   },
   {
    "duration": 13,
    "start_time": "2024-05-20T15:50:10.210Z"
   },
   {
    "duration": 14,
    "start_time": "2024-05-20T15:50:10.224Z"
   },
   {
    "duration": 11,
    "start_time": "2024-05-20T15:50:10.239Z"
   },
   {
    "duration": 237,
    "start_time": "2024-05-20T15:50:10.251Z"
   },
   {
    "duration": 5,
    "start_time": "2024-05-20T15:50:10.489Z"
   },
   {
    "duration": 115,
    "start_time": "2024-05-20T15:50:10.501Z"
   },
   {
    "duration": 243,
    "start_time": "2024-05-20T15:50:10.617Z"
   },
   {
    "duration": 4,
    "start_time": "2024-05-20T15:50:10.862Z"
   },
   {
    "duration": 14,
    "start_time": "2024-05-20T15:50:10.867Z"
   },
   {
    "duration": 14,
    "start_time": "2024-05-20T15:50:10.882Z"
   },
   {
    "duration": 7,
    "start_time": "2024-05-20T15:50:10.901Z"
   },
   {
    "duration": 114,
    "start_time": "2024-05-20T15:50:10.909Z"
   },
   {
    "duration": 9,
    "start_time": "2024-05-20T15:50:11.024Z"
   },
   {
    "duration": 11,
    "start_time": "2024-05-20T15:50:11.034Z"
   },
   {
    "duration": 10,
    "start_time": "2024-05-20T15:50:11.046Z"
   },
   {
    "duration": 92,
    "start_time": "2024-05-20T15:50:11.058Z"
   },
   {
    "duration": 31,
    "start_time": "2024-05-20T15:50:11.151Z"
   },
   {
    "duration": 30,
    "start_time": "2024-05-20T15:50:11.183Z"
   },
   {
    "duration": 16,
    "start_time": "2024-05-20T15:50:11.215Z"
   },
   {
    "duration": 264,
    "start_time": "2024-05-20T15:50:11.232Z"
   },
   {
    "duration": 225,
    "start_time": "2024-05-20T15:50:11.497Z"
   },
   {
    "duration": 879,
    "start_time": "2024-05-20T15:50:11.723Z"
   },
   {
    "duration": 13,
    "start_time": "2024-05-20T15:50:12.604Z"
   },
   {
    "duration": 20,
    "start_time": "2024-05-20T15:50:12.618Z"
   },
   {
    "duration": 17,
    "start_time": "2024-05-20T15:50:12.640Z"
   },
   {
    "duration": 26,
    "start_time": "2024-05-20T15:50:12.658Z"
   },
   {
    "duration": 5,
    "start_time": "2024-05-20T15:54:47.654Z"
   },
   {
    "duration": 927,
    "start_time": "2024-05-20T15:57:08.463Z"
   },
   {
    "duration": 77,
    "start_time": "2024-05-20T15:57:09.391Z"
   },
   {
    "duration": 9,
    "start_time": "2024-05-20T15:57:09.469Z"
   },
   {
    "duration": 14,
    "start_time": "2024-05-20T15:57:09.480Z"
   },
   {
    "duration": 7,
    "start_time": "2024-05-20T15:57:09.495Z"
   },
   {
    "duration": 8,
    "start_time": "2024-05-20T15:57:09.504Z"
   },
   {
    "duration": 17,
    "start_time": "2024-05-20T15:57:09.513Z"
   },
   {
    "duration": 4,
    "start_time": "2024-05-20T15:57:09.531Z"
   },
   {
    "duration": 6,
    "start_time": "2024-05-20T15:57:09.536Z"
   },
   {
    "duration": 4,
    "start_time": "2024-05-20T15:57:09.544Z"
   },
   {
    "duration": 5,
    "start_time": "2024-05-20T15:57:09.549Z"
   },
   {
    "duration": 3,
    "start_time": "2024-05-20T15:57:09.556Z"
   },
   {
    "duration": 5,
    "start_time": "2024-05-20T15:57:09.560Z"
   },
   {
    "duration": 26,
    "start_time": "2024-05-20T15:57:09.566Z"
   },
   {
    "duration": 10,
    "start_time": "2024-05-20T15:57:09.593Z"
   },
   {
    "duration": 220,
    "start_time": "2024-05-20T15:57:09.605Z"
   },
   {
    "duration": 4,
    "start_time": "2024-05-20T15:57:09.827Z"
   },
   {
    "duration": 132,
    "start_time": "2024-05-20T15:57:09.832Z"
   },
   {
    "duration": 232,
    "start_time": "2024-05-20T15:57:09.966Z"
   },
   {
    "duration": 4,
    "start_time": "2024-05-20T15:57:10.199Z"
   },
   {
    "duration": 126,
    "start_time": "2024-05-20T15:57:10.204Z"
   },
   {
    "duration": 106,
    "start_time": "2024-05-20T15:57:10.332Z"
   },
   {
    "duration": 48,
    "start_time": "2024-05-20T15:57:10.440Z"
   },
   {
    "duration": 99,
    "start_time": "2024-05-20T15:57:10.490Z"
   },
   {
    "duration": 11,
    "start_time": "2024-05-20T15:57:10.591Z"
   },
   {
    "duration": 5,
    "start_time": "2024-05-20T15:57:10.603Z"
   },
   {
    "duration": 21,
    "start_time": "2024-05-20T15:57:10.609Z"
   },
   {
    "duration": 91,
    "start_time": "2024-05-20T15:57:10.633Z"
   },
   {
    "duration": 27,
    "start_time": "2024-05-20T15:57:10.725Z"
   },
   {
    "duration": 21,
    "start_time": "2024-05-20T15:57:10.753Z"
   },
   {
    "duration": 30,
    "start_time": "2024-05-20T15:57:10.776Z"
   },
   {
    "duration": 244,
    "start_time": "2024-05-20T15:57:10.807Z"
   },
   {
    "duration": 245,
    "start_time": "2024-05-20T15:57:11.052Z"
   },
   {
    "duration": 848,
    "start_time": "2024-05-20T15:57:11.298Z"
   },
   {
    "duration": 14,
    "start_time": "2024-05-20T15:57:12.147Z"
   },
   {
    "duration": 4,
    "start_time": "2024-05-20T15:57:12.162Z"
   },
   {
    "duration": 5,
    "start_time": "2024-05-20T15:57:12.167Z"
   },
   {
    "duration": 29,
    "start_time": "2024-05-20T15:57:12.173Z"
   },
   {
    "duration": 50,
    "start_time": "2024-05-20T18:41:05.432Z"
   },
   {
    "duration": 1375,
    "start_time": "2024-05-20T18:41:17.665Z"
   },
   {
    "duration": 321,
    "start_time": "2024-05-20T18:41:19.042Z"
   },
   {
    "duration": 11,
    "start_time": "2024-05-20T18:41:19.365Z"
   },
   {
    "duration": 27,
    "start_time": "2024-05-20T18:41:19.379Z"
   },
   {
    "duration": 14,
    "start_time": "2024-05-20T18:41:19.408Z"
   },
   {
    "duration": 29,
    "start_time": "2024-05-20T18:41:19.424Z"
   },
   {
    "duration": 178,
    "start_time": "2024-05-20T18:41:19.455Z"
   },
   {
    "duration": 18,
    "start_time": "2024-05-20T18:41:19.635Z"
   },
   {
    "duration": 5,
    "start_time": "2024-05-20T18:41:19.655Z"
   },
   {
    "duration": 9,
    "start_time": "2024-05-20T18:41:19.663Z"
   },
   {
    "duration": 12,
    "start_time": "2024-05-20T18:41:19.674Z"
   },
   {
    "duration": 6,
    "start_time": "2024-05-20T18:41:19.687Z"
   },
   {
    "duration": 5,
    "start_time": "2024-05-20T18:41:19.694Z"
   },
   {
    "duration": 8,
    "start_time": "2024-05-20T18:41:19.700Z"
   },
   {
    "duration": 11,
    "start_time": "2024-05-20T18:41:19.710Z"
   },
   {
    "duration": 4,
    "start_time": "2024-05-20T18:41:19.722Z"
   },
   {
    "duration": 304,
    "start_time": "2024-05-20T18:41:19.727Z"
   },
   {
    "duration": 5,
    "start_time": "2024-05-20T18:41:20.033Z"
   },
   {
    "duration": 247,
    "start_time": "2024-05-20T18:41:20.040Z"
   },
   {
    "duration": 320,
    "start_time": "2024-05-20T18:41:20.289Z"
   },
   {
    "duration": 4,
    "start_time": "2024-05-20T18:41:20.611Z"
   },
   {
    "duration": 81,
    "start_time": "2024-05-20T18:41:20.617Z"
   },
   {
    "duration": 42,
    "start_time": "2024-05-20T18:41:20.700Z"
   },
   {
    "duration": 12,
    "start_time": "2024-05-20T18:41:20.743Z"
   },
   {
    "duration": 136,
    "start_time": "2024-05-20T18:41:20.757Z"
   },
   {
    "duration": 11,
    "start_time": "2024-05-20T18:41:20.894Z"
   },
   {
    "duration": 6,
    "start_time": "2024-05-20T18:41:20.906Z"
   },
   {
    "duration": 23,
    "start_time": "2024-05-20T18:41:20.916Z"
   },
   {
    "duration": 114,
    "start_time": "2024-05-20T18:41:20.941Z"
   },
   {
    "duration": 41,
    "start_time": "2024-05-20T18:41:21.057Z"
   },
   {
    "duration": 23,
    "start_time": "2024-05-20T18:41:21.100Z"
   },
   {
    "duration": 21,
    "start_time": "2024-05-20T18:41:21.125Z"
   },
   {
    "duration": 338,
    "start_time": "2024-05-20T18:41:21.148Z"
   },
   {
    "duration": 283,
    "start_time": "2024-05-20T18:41:21.488Z"
   },
   {
    "duration": 1017,
    "start_time": "2024-05-20T18:41:21.780Z"
   },
   {
    "duration": 19,
    "start_time": "2024-05-20T18:41:22.799Z"
   },
   {
    "duration": 6,
    "start_time": "2024-05-20T18:41:22.820Z"
   },
   {
    "duration": 5,
    "start_time": "2024-05-20T18:41:22.828Z"
   },
   {
    "duration": 45,
    "start_time": "2024-05-20T18:41:22.835Z"
   },
   {
    "duration": 49,
    "start_time": "2024-05-20T18:43:05.854Z"
   },
   {
    "duration": 1183,
    "start_time": "2024-05-20T18:46:32.375Z"
   },
   {
    "duration": 86,
    "start_time": "2024-05-20T18:46:33.560Z"
   },
   {
    "duration": 11,
    "start_time": "2024-05-20T18:46:33.648Z"
   },
   {
    "duration": 26,
    "start_time": "2024-05-20T18:46:33.661Z"
   },
   {
    "duration": 9,
    "start_time": "2024-05-20T18:46:33.689Z"
   },
   {
    "duration": 11,
    "start_time": "2024-05-20T18:46:33.700Z"
   },
   {
    "duration": 7,
    "start_time": "2024-05-20T18:46:33.713Z"
   },
   {
    "duration": 23,
    "start_time": "2024-05-20T18:46:33.722Z"
   },
   {
    "duration": 6,
    "start_time": "2024-05-20T18:46:33.747Z"
   },
   {
    "duration": 6,
    "start_time": "2024-05-20T18:46:33.782Z"
   },
   {
    "duration": 6,
    "start_time": "2024-05-20T18:46:33.790Z"
   },
   {
    "duration": 12,
    "start_time": "2024-05-20T18:46:33.797Z"
   },
   {
    "duration": 12,
    "start_time": "2024-05-20T18:46:33.811Z"
   },
   {
    "duration": 6,
    "start_time": "2024-05-20T18:46:33.825Z"
   },
   {
    "duration": 20,
    "start_time": "2024-05-20T18:46:33.833Z"
   },
   {
    "duration": 6,
    "start_time": "2024-05-20T18:46:33.854Z"
   },
   {
    "duration": 20,
    "start_time": "2024-05-20T18:46:33.861Z"
   },
   {
    "duration": 319,
    "start_time": "2024-05-20T18:46:33.883Z"
   },
   {
    "duration": 6,
    "start_time": "2024-05-20T18:46:34.204Z"
   },
   {
    "duration": 171,
    "start_time": "2024-05-20T18:46:34.211Z"
   },
   {
    "duration": 325,
    "start_time": "2024-05-20T18:46:34.383Z"
   },
   {
    "duration": 4,
    "start_time": "2024-05-20T18:46:34.709Z"
   },
   {
    "duration": 14,
    "start_time": "2024-05-20T18:46:34.714Z"
   },
   {
    "duration": 8,
    "start_time": "2024-05-20T18:46:34.730Z"
   },
   {
    "duration": 12,
    "start_time": "2024-05-20T18:46:34.740Z"
   },
   {
    "duration": 136,
    "start_time": "2024-05-20T18:46:34.754Z"
   },
   {
    "duration": 11,
    "start_time": "2024-05-20T18:46:34.892Z"
   },
   {
    "duration": 37,
    "start_time": "2024-05-20T18:46:34.906Z"
   },
   {
    "duration": 7,
    "start_time": "2024-05-20T18:46:34.945Z"
   },
   {
    "duration": 122,
    "start_time": "2024-05-20T18:46:34.953Z"
   },
   {
    "duration": 33,
    "start_time": "2024-05-20T18:46:35.079Z"
   },
   {
    "duration": 46,
    "start_time": "2024-05-20T18:46:35.114Z"
   },
   {
    "duration": 20,
    "start_time": "2024-05-20T18:46:35.161Z"
   },
   {
    "duration": 307,
    "start_time": "2024-05-20T18:46:35.183Z"
   },
   {
    "duration": 296,
    "start_time": "2024-05-20T18:46:35.491Z"
   },
   {
    "duration": 1000,
    "start_time": "2024-05-20T18:46:35.789Z"
   },
   {
    "duration": 15,
    "start_time": "2024-05-20T18:46:36.791Z"
   },
   {
    "duration": 13,
    "start_time": "2024-05-20T18:46:36.808Z"
   },
   {
    "duration": 6,
    "start_time": "2024-05-20T18:46:36.823Z"
   },
   {
    "duration": 11,
    "start_time": "2024-05-20T18:46:36.830Z"
   },
   {
    "duration": 1047,
    "start_time": "2024-05-20T18:48:43.800Z"
   },
   {
    "duration": 85,
    "start_time": "2024-05-20T18:48:44.849Z"
   },
   {
    "duration": 11,
    "start_time": "2024-05-20T18:48:44.935Z"
   },
   {
    "duration": 13,
    "start_time": "2024-05-20T18:48:44.947Z"
   },
   {
    "duration": 9,
    "start_time": "2024-05-20T18:48:44.961Z"
   },
   {
    "duration": 14,
    "start_time": "2024-05-20T18:48:44.972Z"
   },
   {
    "duration": 5,
    "start_time": "2024-05-20T18:48:44.988Z"
   },
   {
    "duration": 11,
    "start_time": "2024-05-20T18:48:44.995Z"
   },
   {
    "duration": 134,
    "start_time": "2024-05-20T18:48:45.007Z"
   },
   {
    "duration": 138,
    "start_time": "2024-05-20T18:48:45.143Z"
   },
   {
    "duration": 235,
    "start_time": "2024-05-20T18:48:45.282Z"
   },
   {
    "duration": 125,
    "start_time": "2024-05-20T18:48:45.518Z"
   },
   {
    "duration": 12,
    "start_time": "2024-05-20T18:48:45.645Z"
   },
   {
    "duration": 13,
    "start_time": "2024-05-20T18:48:45.658Z"
   },
   {
    "duration": 9,
    "start_time": "2024-05-20T18:48:45.672Z"
   },
   {
    "duration": 4,
    "start_time": "2024-05-20T18:48:45.683Z"
   },
   {
    "duration": 5,
    "start_time": "2024-05-20T18:48:45.689Z"
   },
   {
    "duration": 53,
    "start_time": "2024-05-20T18:48:45.696Z"
   },
   {
    "duration": 0,
    "start_time": "2024-05-20T18:48:45.751Z"
   },
   {
    "duration": 0,
    "start_time": "2024-05-20T18:48:45.752Z"
   },
   {
    "duration": 0,
    "start_time": "2024-05-20T18:48:45.754Z"
   },
   {
    "duration": 0,
    "start_time": "2024-05-20T18:48:45.755Z"
   },
   {
    "duration": 0,
    "start_time": "2024-05-20T18:48:45.756Z"
   },
   {
    "duration": 0,
    "start_time": "2024-05-20T18:48:45.757Z"
   },
   {
    "duration": 0,
    "start_time": "2024-05-20T18:48:45.759Z"
   },
   {
    "duration": 0,
    "start_time": "2024-05-20T18:48:45.759Z"
   },
   {
    "duration": 0,
    "start_time": "2024-05-20T18:48:45.761Z"
   },
   {
    "duration": 0,
    "start_time": "2024-05-20T18:48:45.762Z"
   },
   {
    "duration": 0,
    "start_time": "2024-05-20T18:48:45.763Z"
   },
   {
    "duration": 0,
    "start_time": "2024-05-20T18:48:45.764Z"
   },
   {
    "duration": 0,
    "start_time": "2024-05-20T18:48:45.765Z"
   },
   {
    "duration": 0,
    "start_time": "2024-05-20T18:48:45.766Z"
   },
   {
    "duration": 0,
    "start_time": "2024-05-20T18:48:45.767Z"
   },
   {
    "duration": 0,
    "start_time": "2024-05-20T18:48:45.768Z"
   },
   {
    "duration": 0,
    "start_time": "2024-05-20T18:48:45.769Z"
   },
   {
    "duration": 0,
    "start_time": "2024-05-20T18:48:45.770Z"
   },
   {
    "duration": 0,
    "start_time": "2024-05-20T18:48:45.771Z"
   },
   {
    "duration": 0,
    "start_time": "2024-05-20T18:48:45.772Z"
   },
   {
    "duration": 0,
    "start_time": "2024-05-20T18:48:45.773Z"
   },
   {
    "duration": 0,
    "start_time": "2024-05-20T18:48:45.774Z"
   },
   {
    "duration": 0,
    "start_time": "2024-05-20T18:48:45.780Z"
   },
   {
    "duration": 122,
    "start_time": "2024-05-20T18:49:02.011Z"
   },
   {
    "duration": 1004,
    "start_time": "2024-05-20T18:49:15.424Z"
   },
   {
    "duration": 97,
    "start_time": "2024-05-20T18:49:16.430Z"
   },
   {
    "duration": 11,
    "start_time": "2024-05-20T18:49:16.530Z"
   },
   {
    "duration": 18,
    "start_time": "2024-05-20T18:49:16.543Z"
   },
   {
    "duration": 17,
    "start_time": "2024-05-20T18:49:16.562Z"
   },
   {
    "duration": 19,
    "start_time": "2024-05-20T18:49:16.581Z"
   },
   {
    "duration": 9,
    "start_time": "2024-05-20T18:49:16.602Z"
   },
   {
    "duration": 18,
    "start_time": "2024-05-20T18:49:16.613Z"
   },
   {
    "duration": 17,
    "start_time": "2024-05-20T18:49:16.632Z"
   },
   {
    "duration": 86,
    "start_time": "2024-05-20T18:49:16.652Z"
   },
   {
    "duration": 12,
    "start_time": "2024-05-20T18:49:16.740Z"
   },
   {
    "duration": 28,
    "start_time": "2024-05-20T18:49:16.753Z"
   },
   {
    "duration": 55,
    "start_time": "2024-05-20T18:49:16.782Z"
   },
   {
    "duration": 18,
    "start_time": "2024-05-20T18:49:16.839Z"
   },
   {
    "duration": 29,
    "start_time": "2024-05-20T18:49:16.858Z"
   },
   {
    "duration": 24,
    "start_time": "2024-05-20T18:49:16.889Z"
   },
   {
    "duration": 16,
    "start_time": "2024-05-20T18:49:16.914Z"
   },
   {
    "duration": 124,
    "start_time": "2024-05-20T18:49:16.931Z"
   },
   {
    "duration": 0,
    "start_time": "2024-05-20T18:49:17.057Z"
   },
   {
    "duration": 0,
    "start_time": "2024-05-20T18:49:17.058Z"
   },
   {
    "duration": 0,
    "start_time": "2024-05-20T18:49:17.059Z"
   },
   {
    "duration": 0,
    "start_time": "2024-05-20T18:49:17.061Z"
   },
   {
    "duration": 0,
    "start_time": "2024-05-20T18:49:17.062Z"
   },
   {
    "duration": 0,
    "start_time": "2024-05-20T18:49:17.063Z"
   },
   {
    "duration": 0,
    "start_time": "2024-05-20T18:49:17.064Z"
   },
   {
    "duration": 0,
    "start_time": "2024-05-20T18:49:17.065Z"
   },
   {
    "duration": 0,
    "start_time": "2024-05-20T18:49:17.082Z"
   },
   {
    "duration": 0,
    "start_time": "2024-05-20T18:49:17.083Z"
   },
   {
    "duration": 0,
    "start_time": "2024-05-20T18:49:17.084Z"
   },
   {
    "duration": 0,
    "start_time": "2024-05-20T18:49:17.086Z"
   },
   {
    "duration": 0,
    "start_time": "2024-05-20T18:49:17.088Z"
   },
   {
    "duration": 0,
    "start_time": "2024-05-20T18:49:17.089Z"
   },
   {
    "duration": 0,
    "start_time": "2024-05-20T18:49:17.090Z"
   },
   {
    "duration": 0,
    "start_time": "2024-05-20T18:49:17.092Z"
   },
   {
    "duration": 0,
    "start_time": "2024-05-20T18:49:17.093Z"
   },
   {
    "duration": 0,
    "start_time": "2024-05-20T18:49:17.094Z"
   },
   {
    "duration": 0,
    "start_time": "2024-05-20T18:49:17.096Z"
   },
   {
    "duration": 0,
    "start_time": "2024-05-20T18:49:17.097Z"
   },
   {
    "duration": 0,
    "start_time": "2024-05-20T18:49:17.098Z"
   },
   {
    "duration": 0,
    "start_time": "2024-05-20T18:49:17.100Z"
   },
   {
    "duration": 0,
    "start_time": "2024-05-20T18:49:17.101Z"
   },
   {
    "duration": 55,
    "start_time": "2024-05-20T18:49:41.566Z"
   },
   {
    "duration": 15,
    "start_time": "2024-05-20T18:50:42.425Z"
   },
   {
    "duration": 15,
    "start_time": "2024-05-20T18:50:53.238Z"
   },
   {
    "duration": 12,
    "start_time": "2024-05-20T18:51:03.115Z"
   },
   {
    "duration": 1141,
    "start_time": "2024-05-20T18:53:40.724Z"
   },
   {
    "duration": 86,
    "start_time": "2024-05-20T18:53:41.867Z"
   },
   {
    "duration": 12,
    "start_time": "2024-05-20T18:53:41.954Z"
   },
   {
    "duration": 16,
    "start_time": "2024-05-20T18:53:41.969Z"
   },
   {
    "duration": 9,
    "start_time": "2024-05-20T18:53:41.987Z"
   },
   {
    "duration": 10,
    "start_time": "2024-05-20T18:53:41.998Z"
   },
   {
    "duration": 6,
    "start_time": "2024-05-20T18:53:42.009Z"
   },
   {
    "duration": 15,
    "start_time": "2024-05-20T18:53:42.016Z"
   },
   {
    "duration": 13,
    "start_time": "2024-05-20T18:53:42.033Z"
   },
   {
    "duration": 32,
    "start_time": "2024-05-20T18:53:42.048Z"
   },
   {
    "duration": 7,
    "start_time": "2024-05-20T18:53:42.082Z"
   },
   {
    "duration": 10,
    "start_time": "2024-05-20T18:53:42.090Z"
   },
   {
    "duration": 6,
    "start_time": "2024-05-20T18:53:42.102Z"
   },
   {
    "duration": 8,
    "start_time": "2024-05-20T18:53:42.110Z"
   },
   {
    "duration": 25,
    "start_time": "2024-05-20T18:53:42.119Z"
   },
   {
    "duration": 5,
    "start_time": "2024-05-20T18:53:42.146Z"
   },
   {
    "duration": 29,
    "start_time": "2024-05-20T18:53:42.153Z"
   },
   {
    "duration": 139,
    "start_time": "2024-05-20T18:53:42.183Z"
   },
   {
    "duration": 276,
    "start_time": "2024-05-20T18:53:42.323Z"
   },
   {
    "duration": 5,
    "start_time": "2024-05-20T18:53:42.600Z"
   },
   {
    "duration": 158,
    "start_time": "2024-05-20T18:53:42.607Z"
   },
   {
    "duration": 303,
    "start_time": "2024-05-20T18:53:42.767Z"
   },
   {
    "duration": 11,
    "start_time": "2024-05-20T18:53:43.071Z"
   },
   {
    "duration": 19,
    "start_time": "2024-05-20T18:53:43.083Z"
   },
   {
    "duration": 7,
    "start_time": "2024-05-20T18:53:43.104Z"
   },
   {
    "duration": 75,
    "start_time": "2024-05-20T18:53:43.112Z"
   },
   {
    "duration": 130,
    "start_time": "2024-05-20T18:53:43.189Z"
   },
   {
    "duration": 10,
    "start_time": "2024-05-20T18:53:43.323Z"
   },
   {
    "duration": 8,
    "start_time": "2024-05-20T18:53:43.335Z"
   },
   {
    "duration": 7,
    "start_time": "2024-05-20T18:53:43.344Z"
   },
   {
    "duration": 129,
    "start_time": "2024-05-20T18:53:43.353Z"
   },
   {
    "duration": 31,
    "start_time": "2024-05-20T18:53:43.484Z"
   },
   {
    "duration": 21,
    "start_time": "2024-05-20T18:53:43.516Z"
   },
   {
    "duration": 42,
    "start_time": "2024-05-20T18:53:43.539Z"
   },
   {
    "duration": 310,
    "start_time": "2024-05-20T18:53:43.583Z"
   },
   {
    "duration": 276,
    "start_time": "2024-05-20T18:53:43.895Z"
   },
   {
    "duration": 995,
    "start_time": "2024-05-20T18:53:44.180Z"
   },
   {
    "duration": 18,
    "start_time": "2024-05-20T18:53:45.180Z"
   },
   {
    "duration": 26,
    "start_time": "2024-05-20T18:53:45.199Z"
   },
   {
    "duration": 14,
    "start_time": "2024-05-20T18:53:45.227Z"
   },
   {
    "duration": 17,
    "start_time": "2024-05-20T18:53:45.243Z"
   },
   {
    "duration": 179,
    "start_time": "2024-05-20T18:55:21.648Z"
   },
   {
    "duration": 189,
    "start_time": "2024-05-20T18:56:19.949Z"
   },
   {
    "duration": 216,
    "start_time": "2024-05-20T18:56:34.369Z"
   },
   {
    "duration": 207,
    "start_time": "2024-05-20T18:56:44.122Z"
   },
   {
    "duration": 193,
    "start_time": "2024-05-20T18:56:52.164Z"
   },
   {
    "duration": 178,
    "start_time": "2024-05-20T18:57:12.254Z"
   },
   {
    "duration": 189,
    "start_time": "2024-05-20T18:58:19.054Z"
   },
   {
    "duration": 56,
    "start_time": "2024-05-20T19:02:26.487Z"
   },
   {
    "duration": 56,
    "start_time": "2024-05-20T19:02:50.765Z"
   },
   {
    "duration": 194,
    "start_time": "2024-05-20T19:04:02.197Z"
   },
   {
    "duration": 183,
    "start_time": "2024-05-20T19:05:49.082Z"
   },
   {
    "duration": 1092,
    "start_time": "2024-05-20T19:05:56.761Z"
   },
   {
    "duration": 86,
    "start_time": "2024-05-20T19:05:57.855Z"
   },
   {
    "duration": 11,
    "start_time": "2024-05-20T19:05:57.943Z"
   },
   {
    "duration": 15,
    "start_time": "2024-05-20T19:05:57.956Z"
   },
   {
    "duration": 10,
    "start_time": "2024-05-20T19:05:57.972Z"
   },
   {
    "duration": 10,
    "start_time": "2024-05-20T19:05:57.983Z"
   },
   {
    "duration": 11,
    "start_time": "2024-05-20T19:05:57.995Z"
   },
   {
    "duration": 17,
    "start_time": "2024-05-20T19:05:58.008Z"
   },
   {
    "duration": 7,
    "start_time": "2024-05-20T19:05:58.027Z"
   },
   {
    "duration": 8,
    "start_time": "2024-05-20T19:05:58.038Z"
   },
   {
    "duration": 13,
    "start_time": "2024-05-20T19:05:58.079Z"
   },
   {
    "duration": 18,
    "start_time": "2024-05-20T19:05:58.093Z"
   },
   {
    "duration": 6,
    "start_time": "2024-05-20T19:05:58.113Z"
   },
   {
    "duration": 10,
    "start_time": "2024-05-20T19:05:58.121Z"
   },
   {
    "duration": 13,
    "start_time": "2024-05-20T19:05:58.133Z"
   },
   {
    "duration": 14,
    "start_time": "2024-05-20T19:05:58.148Z"
   },
   {
    "duration": 5,
    "start_time": "2024-05-20T19:05:58.164Z"
   },
   {
    "duration": 17,
    "start_time": "2024-05-20T19:05:58.181Z"
   },
   {
    "duration": 255,
    "start_time": "2024-05-20T19:05:58.199Z"
   },
   {
    "duration": 5,
    "start_time": "2024-05-20T19:05:58.455Z"
   },
   {
    "duration": 165,
    "start_time": "2024-05-20T19:05:58.461Z"
   },
   {
    "duration": 313,
    "start_time": "2024-05-20T19:05:58.627Z"
   },
   {
    "duration": 4,
    "start_time": "2024-05-20T19:05:58.941Z"
   },
   {
    "duration": 10,
    "start_time": "2024-05-20T19:05:58.946Z"
   },
   {
    "duration": 23,
    "start_time": "2024-05-20T19:05:58.957Z"
   },
   {
    "duration": 7,
    "start_time": "2024-05-20T19:05:58.981Z"
   },
   {
    "duration": 130,
    "start_time": "2024-05-20T19:05:58.990Z"
   },
   {
    "duration": 11,
    "start_time": "2024-05-20T19:05:59.123Z"
   },
   {
    "duration": 54,
    "start_time": "2024-05-20T19:05:59.135Z"
   },
   {
    "duration": 56,
    "start_time": "2024-05-20T19:05:59.190Z"
   },
   {
    "duration": 128,
    "start_time": "2024-05-20T19:05:59.248Z"
   },
   {
    "duration": 32,
    "start_time": "2024-05-20T19:05:59.380Z"
   },
   {
    "duration": 30,
    "start_time": "2024-05-20T19:05:59.413Z"
   },
   {
    "duration": 42,
    "start_time": "2024-05-20T19:05:59.444Z"
   },
   {
    "duration": 325,
    "start_time": "2024-05-20T19:05:59.488Z"
   },
   {
    "duration": 296,
    "start_time": "2024-05-20T19:05:59.815Z"
   },
   {
    "duration": 989,
    "start_time": "2024-05-20T19:06:00.113Z"
   },
   {
    "duration": 18,
    "start_time": "2024-05-20T19:06:01.103Z"
   },
   {
    "duration": 128,
    "start_time": "2024-05-20T19:06:01.123Z"
   },
   {
    "duration": 36,
    "start_time": "2024-05-20T19:06:01.253Z"
   },
   {
    "duration": 98,
    "start_time": "2024-05-20T19:06:01.290Z"
   },
   {
    "duration": 1137,
    "start_time": "2024-05-20T19:13:56.611Z"
   },
   {
    "duration": 86,
    "start_time": "2024-05-20T19:13:57.749Z"
   },
   {
    "duration": 11,
    "start_time": "2024-05-20T19:13:57.837Z"
   },
   {
    "duration": 11,
    "start_time": "2024-05-20T19:13:57.850Z"
   },
   {
    "duration": 10,
    "start_time": "2024-05-20T19:13:57.863Z"
   },
   {
    "duration": 13,
    "start_time": "2024-05-20T19:13:57.874Z"
   },
   {
    "duration": 6,
    "start_time": "2024-05-20T19:13:57.888Z"
   },
   {
    "duration": 20,
    "start_time": "2024-05-20T19:13:57.895Z"
   },
   {
    "duration": 7,
    "start_time": "2024-05-20T19:13:57.916Z"
   },
   {
    "duration": 7,
    "start_time": "2024-05-20T19:13:57.925Z"
   },
   {
    "duration": 6,
    "start_time": "2024-05-20T19:13:57.934Z"
   },
   {
    "duration": 39,
    "start_time": "2024-05-20T19:13:57.942Z"
   },
   {
    "duration": 7,
    "start_time": "2024-05-20T19:13:57.983Z"
   },
   {
    "duration": 7,
    "start_time": "2024-05-20T19:13:57.991Z"
   },
   {
    "duration": 19,
    "start_time": "2024-05-20T19:13:57.999Z"
   },
   {
    "duration": 5,
    "start_time": "2024-05-20T19:13:58.020Z"
   },
   {
    "duration": 7,
    "start_time": "2024-05-20T19:13:58.026Z"
   },
   {
    "duration": 237,
    "start_time": "2024-05-20T19:13:58.035Z"
   },
   {
    "duration": 6,
    "start_time": "2024-05-20T19:13:58.280Z"
   },
   {
    "duration": 165,
    "start_time": "2024-05-20T19:13:58.287Z"
   },
   {
    "duration": 329,
    "start_time": "2024-05-20T19:13:58.453Z"
   },
   {
    "duration": 3,
    "start_time": "2024-05-20T19:13:58.784Z"
   },
   {
    "duration": 66,
    "start_time": "2024-05-20T19:13:58.789Z"
   },
   {
    "duration": 19,
    "start_time": "2024-05-20T19:13:58.857Z"
   },
   {
    "duration": 7,
    "start_time": "2024-05-20T19:13:58.877Z"
   },
   {
    "duration": 128,
    "start_time": "2024-05-20T19:13:58.885Z"
   },
   {
    "duration": 10,
    "start_time": "2024-05-20T19:13:59.015Z"
   },
   {
    "duration": 6,
    "start_time": "2024-05-20T19:13:59.028Z"
   },
   {
    "duration": 11,
    "start_time": "2024-05-20T19:13:59.035Z"
   },
   {
    "duration": 123,
    "start_time": "2024-05-20T19:13:59.047Z"
   },
   {
    "duration": 36,
    "start_time": "2024-05-20T19:13:59.172Z"
   },
   {
    "duration": 22,
    "start_time": "2024-05-20T19:13:59.210Z"
   },
   {
    "duration": 89,
    "start_time": "2024-05-20T19:13:59.233Z"
   },
   {
    "duration": 296,
    "start_time": "2024-05-20T19:13:59.323Z"
   },
   {
    "duration": 283,
    "start_time": "2024-05-20T19:13:59.621Z"
   },
   {
    "duration": 974,
    "start_time": "2024-05-20T19:13:59.906Z"
   },
   {
    "duration": 18,
    "start_time": "2024-05-20T19:14:00.882Z"
   },
   {
    "duration": 197,
    "start_time": "2024-05-20T19:14:00.901Z"
   },
   {
    "duration": 351,
    "start_time": "2024-05-20T19:14:01.100Z"
   },
   {
    "duration": 542,
    "start_time": "2024-05-20T19:14:01.454Z"
   },
   {
    "duration": 101,
    "start_time": "2024-05-20T19:16:33.149Z"
   },
   {
    "duration": 148,
    "start_time": "2024-05-20T19:16:41.243Z"
   },
   {
    "duration": 140,
    "start_time": "2024-05-20T19:16:49.319Z"
   },
   {
    "duration": 146,
    "start_time": "2024-05-20T19:17:12.492Z"
   },
   {
    "duration": 183,
    "start_time": "2024-05-20T19:18:31.945Z"
   },
   {
    "duration": 163,
    "start_time": "2024-05-20T19:18:48.447Z"
   },
   {
    "duration": 142,
    "start_time": "2024-05-20T19:18:53.529Z"
   },
   {
    "duration": 16,
    "start_time": "2024-05-20T19:21:42.142Z"
   },
   {
    "duration": 150,
    "start_time": "2024-05-20T19:21:51.212Z"
   },
   {
    "duration": 149,
    "start_time": "2024-05-20T19:25:08.100Z"
   },
   {
    "duration": 135,
    "start_time": "2024-05-20T19:25:18.886Z"
   },
   {
    "duration": 141,
    "start_time": "2024-05-20T19:26:06.749Z"
   },
   {
    "duration": 142,
    "start_time": "2024-05-20T19:26:37.728Z"
   },
   {
    "duration": 50,
    "start_time": "2024-05-20T19:30:15.763Z"
   },
   {
    "duration": 151,
    "start_time": "2024-05-20T19:30:34.271Z"
   },
   {
    "duration": 1162,
    "start_time": "2024-05-20T19:30:44.683Z"
   },
   {
    "duration": 91,
    "start_time": "2024-05-20T19:30:45.846Z"
   },
   {
    "duration": 68,
    "start_time": "2024-05-20T19:30:45.938Z"
   },
   {
    "duration": 198,
    "start_time": "2024-05-20T19:30:46.009Z"
   },
   {
    "duration": 11,
    "start_time": "2024-05-20T19:30:46.208Z"
   },
   {
    "duration": 18,
    "start_time": "2024-05-20T19:30:46.220Z"
   },
   {
    "duration": 6,
    "start_time": "2024-05-20T19:30:46.239Z"
   },
   {
    "duration": 14,
    "start_time": "2024-05-20T19:30:46.246Z"
   },
   {
    "duration": 52,
    "start_time": "2024-05-20T19:30:46.262Z"
   },
   {
    "duration": 36,
    "start_time": "2024-05-20T19:30:46.317Z"
   },
   {
    "duration": 14,
    "start_time": "2024-05-20T19:30:46.355Z"
   },
   {
    "duration": 11,
    "start_time": "2024-05-20T19:30:46.371Z"
   },
   {
    "duration": 5,
    "start_time": "2024-05-20T19:30:46.383Z"
   },
   {
    "duration": 9,
    "start_time": "2024-05-20T19:30:46.390Z"
   },
   {
    "duration": 9,
    "start_time": "2024-05-20T19:30:46.400Z"
   },
   {
    "duration": 5,
    "start_time": "2024-05-20T19:30:46.410Z"
   },
   {
    "duration": 86,
    "start_time": "2024-05-20T19:30:46.416Z"
   },
   {
    "duration": 225,
    "start_time": "2024-05-20T19:30:46.504Z"
   },
   {
    "duration": 5,
    "start_time": "2024-05-20T19:30:46.731Z"
   },
   {
    "duration": 159,
    "start_time": "2024-05-20T19:30:46.738Z"
   },
   {
    "duration": 326,
    "start_time": "2024-05-20T19:30:46.899Z"
   },
   {
    "duration": 3,
    "start_time": "2024-05-20T19:30:47.227Z"
   },
   {
    "duration": 12,
    "start_time": "2024-05-20T19:30:47.232Z"
   },
   {
    "duration": 16,
    "start_time": "2024-05-20T19:30:47.246Z"
   },
   {
    "duration": 19,
    "start_time": "2024-05-20T19:30:47.264Z"
   },
   {
    "duration": 135,
    "start_time": "2024-05-20T19:30:47.285Z"
   },
   {
    "duration": 11,
    "start_time": "2024-05-20T19:30:47.421Z"
   },
   {
    "duration": 14,
    "start_time": "2024-05-20T19:30:47.435Z"
   },
   {
    "duration": 14,
    "start_time": "2024-05-20T19:30:47.451Z"
   },
   {
    "duration": 115,
    "start_time": "2024-05-20T19:30:47.466Z"
   },
   {
    "duration": 33,
    "start_time": "2024-05-20T19:30:47.583Z"
   },
   {
    "duration": 22,
    "start_time": "2024-05-20T19:30:47.617Z"
   },
   {
    "duration": 40,
    "start_time": "2024-05-20T19:30:47.640Z"
   },
   {
    "duration": 362,
    "start_time": "2024-05-20T19:30:47.682Z"
   },
   {
    "duration": 0,
    "start_time": "2024-05-20T19:30:48.045Z"
   },
   {
    "duration": 0,
    "start_time": "2024-05-20T19:30:48.047Z"
   },
   {
    "duration": 0,
    "start_time": "2024-05-20T19:30:48.048Z"
   },
   {
    "duration": 0,
    "start_time": "2024-05-20T19:30:48.049Z"
   },
   {
    "duration": 0,
    "start_time": "2024-05-20T19:30:48.050Z"
   },
   {
    "duration": 0,
    "start_time": "2024-05-20T19:30:48.051Z"
   },
   {
    "duration": 96,
    "start_time": "2024-05-20T19:32:50.735Z"
   },
   {
    "duration": 169,
    "start_time": "2024-05-20T19:33:17.463Z"
   },
   {
    "duration": 1137,
    "start_time": "2024-05-20T19:33:52.818Z"
   },
   {
    "duration": 88,
    "start_time": "2024-05-20T19:33:53.957Z"
   },
   {
    "duration": 11,
    "start_time": "2024-05-20T19:33:54.047Z"
   },
   {
    "duration": 25,
    "start_time": "2024-05-20T19:33:54.059Z"
   },
   {
    "duration": 15,
    "start_time": "2024-05-20T19:33:54.086Z"
   },
   {
    "duration": 12,
    "start_time": "2024-05-20T19:33:54.103Z"
   },
   {
    "duration": 7,
    "start_time": "2024-05-20T19:33:54.116Z"
   },
   {
    "duration": 11,
    "start_time": "2024-05-20T19:33:54.124Z"
   },
   {
    "duration": 6,
    "start_time": "2024-05-20T19:33:54.137Z"
   },
   {
    "duration": 37,
    "start_time": "2024-05-20T19:33:54.144Z"
   },
   {
    "duration": 6,
    "start_time": "2024-05-20T19:33:54.183Z"
   },
   {
    "duration": 10,
    "start_time": "2024-05-20T19:33:54.191Z"
   },
   {
    "duration": 6,
    "start_time": "2024-05-20T19:33:54.202Z"
   },
   {
    "duration": 5,
    "start_time": "2024-05-20T19:33:54.211Z"
   },
   {
    "duration": 9,
    "start_time": "2024-05-20T19:33:54.217Z"
   },
   {
    "duration": 5,
    "start_time": "2024-05-20T19:33:54.227Z"
   },
   {
    "duration": 11,
    "start_time": "2024-05-20T19:33:54.234Z"
   },
   {
    "duration": 263,
    "start_time": "2024-05-20T19:33:54.246Z"
   },
   {
    "duration": 7,
    "start_time": "2024-05-20T19:33:54.511Z"
   },
   {
    "duration": 129,
    "start_time": "2024-05-20T19:33:54.520Z"
   },
   {
    "duration": 316,
    "start_time": "2024-05-20T19:33:54.651Z"
   },
   {
    "duration": 4,
    "start_time": "2024-05-20T19:33:54.969Z"
   },
   {
    "duration": 14,
    "start_time": "2024-05-20T19:33:54.974Z"
   },
   {
    "duration": 12,
    "start_time": "2024-05-20T19:33:54.990Z"
   },
   {
    "duration": 9,
    "start_time": "2024-05-20T19:33:55.003Z"
   },
   {
    "duration": 131,
    "start_time": "2024-05-20T19:33:55.013Z"
   },
   {
    "duration": 11,
    "start_time": "2024-05-20T19:33:55.146Z"
   },
   {
    "duration": 73,
    "start_time": "2024-05-20T19:33:55.159Z"
   },
   {
    "duration": 8,
    "start_time": "2024-05-20T19:33:55.234Z"
   },
   {
    "duration": 112,
    "start_time": "2024-05-20T19:33:55.244Z"
   },
   {
    "duration": 41,
    "start_time": "2024-05-20T19:33:55.357Z"
   },
   {
    "duration": 24,
    "start_time": "2024-05-20T19:33:55.399Z"
   },
   {
    "duration": 19,
    "start_time": "2024-05-20T19:33:55.425Z"
   },
   {
    "duration": 340,
    "start_time": "2024-05-20T19:33:55.446Z"
   },
   {
    "duration": 316,
    "start_time": "2024-05-20T19:33:55.788Z"
   },
   {
    "duration": 981,
    "start_time": "2024-05-20T19:33:56.105Z"
   },
   {
    "duration": 19,
    "start_time": "2024-05-20T19:33:57.088Z"
   },
   {
    "duration": 6,
    "start_time": "2024-05-20T19:33:57.108Z"
   },
   {
    "duration": 10,
    "start_time": "2024-05-20T19:33:57.116Z"
   },
   {
    "duration": 9,
    "start_time": "2024-05-20T19:33:57.128Z"
   },
   {
    "duration": 1373,
    "start_time": "2024-05-21T11:46:55.825Z"
   },
   {
    "duration": 344,
    "start_time": "2024-05-21T11:46:57.201Z"
   },
   {
    "duration": 14,
    "start_time": "2024-05-21T11:46:57.546Z"
   },
   {
    "duration": 103,
    "start_time": "2024-05-21T11:46:57.562Z"
   },
   {
    "duration": 15,
    "start_time": "2024-05-21T11:46:57.667Z"
   },
   {
    "duration": 19,
    "start_time": "2024-05-21T11:46:57.684Z"
   },
   {
    "duration": 7,
    "start_time": "2024-05-21T11:46:57.705Z"
   },
   {
    "duration": 15,
    "start_time": "2024-05-21T11:46:57.713Z"
   },
   {
    "duration": 13,
    "start_time": "2024-05-21T11:46:57.730Z"
   },
   {
    "duration": 14,
    "start_time": "2024-05-21T11:46:57.746Z"
   },
   {
    "duration": 16,
    "start_time": "2024-05-21T11:46:57.762Z"
   },
   {
    "duration": 15,
    "start_time": "2024-05-21T11:46:57.779Z"
   },
   {
    "duration": 14,
    "start_time": "2024-05-21T11:46:57.795Z"
   },
   {
    "duration": 6,
    "start_time": "2024-05-21T11:46:57.811Z"
   },
   {
    "duration": 11,
    "start_time": "2024-05-21T11:46:57.819Z"
   },
   {
    "duration": 18,
    "start_time": "2024-05-21T11:46:57.832Z"
   },
   {
    "duration": 8,
    "start_time": "2024-05-21T11:46:57.852Z"
   },
   {
    "duration": 230,
    "start_time": "2024-05-21T11:46:57.861Z"
   },
   {
    "duration": 6,
    "start_time": "2024-05-21T11:46:58.093Z"
   },
   {
    "duration": 150,
    "start_time": "2024-05-21T11:46:58.101Z"
   },
   {
    "duration": 321,
    "start_time": "2024-05-21T11:46:58.253Z"
   },
   {
    "duration": 3,
    "start_time": "2024-05-21T11:46:58.576Z"
   },
   {
    "duration": 56,
    "start_time": "2024-05-21T11:46:58.581Z"
   },
   {
    "duration": 10,
    "start_time": "2024-05-21T11:46:58.638Z"
   },
   {
    "duration": 8,
    "start_time": "2024-05-21T11:46:58.649Z"
   },
   {
    "duration": 128,
    "start_time": "2024-05-21T11:46:58.658Z"
   },
   {
    "duration": 13,
    "start_time": "2024-05-21T11:46:58.788Z"
   },
   {
    "duration": 17,
    "start_time": "2024-05-21T11:46:58.805Z"
   },
   {
    "duration": 7,
    "start_time": "2024-05-21T11:46:58.824Z"
   },
   {
    "duration": 130,
    "start_time": "2024-05-21T11:46:58.833Z"
   },
   {
    "duration": 38,
    "start_time": "2024-05-21T11:46:58.972Z"
   },
   {
    "duration": 24,
    "start_time": "2024-05-21T11:46:59.011Z"
   },
   {
    "duration": 68,
    "start_time": "2024-05-21T11:46:59.037Z"
   },
   {
    "duration": 322,
    "start_time": "2024-05-21T11:46:59.106Z"
   },
   {
    "duration": 286,
    "start_time": "2024-05-21T11:46:59.429Z"
   },
   {
    "duration": 1044,
    "start_time": "2024-05-21T11:46:59.717Z"
   },
   {
    "duration": 22,
    "start_time": "2024-05-21T11:47:00.763Z"
   },
   {
    "duration": 53,
    "start_time": "2024-05-21T11:47:00.786Z"
   },
   {
    "duration": 206,
    "start_time": "2024-05-21T11:47:00.840Z"
   },
   {
    "duration": 208,
    "start_time": "2024-05-21T11:47:01.047Z"
   },
   {
    "duration": 320,
    "start_time": "2024-05-21T11:50:02.435Z"
   },
   {
    "duration": 322,
    "start_time": "2024-05-21T11:50:09.724Z"
   },
   {
    "duration": 316,
    "start_time": "2024-05-21T11:50:26.385Z"
   },
   {
    "duration": 1215,
    "start_time": "2024-05-21T11:52:12.947Z"
   },
   {
    "duration": 89,
    "start_time": "2024-05-21T11:52:14.164Z"
   },
   {
    "duration": 11,
    "start_time": "2024-05-21T11:52:14.254Z"
   },
   {
    "duration": 18,
    "start_time": "2024-05-21T11:52:14.267Z"
   },
   {
    "duration": 11,
    "start_time": "2024-05-21T11:52:14.287Z"
   },
   {
    "duration": 115,
    "start_time": "2024-05-21T11:52:14.299Z"
   },
   {
    "duration": 57,
    "start_time": "2024-05-21T11:52:14.416Z"
   },
   {
    "duration": 183,
    "start_time": "2024-05-21T11:52:14.475Z"
   },
   {
    "duration": 7,
    "start_time": "2024-05-21T11:52:14.659Z"
   },
   {
    "duration": 31,
    "start_time": "2024-05-21T11:52:14.668Z"
   },
   {
    "duration": 9,
    "start_time": "2024-05-21T11:52:14.701Z"
   },
   {
    "duration": 10,
    "start_time": "2024-05-21T11:52:14.712Z"
   },
   {
    "duration": 82,
    "start_time": "2024-05-21T11:52:14.723Z"
   },
   {
    "duration": 34,
    "start_time": "2024-05-21T11:52:14.807Z"
   },
   {
    "duration": 28,
    "start_time": "2024-05-21T11:52:14.843Z"
   },
   {
    "duration": 6,
    "start_time": "2024-05-21T11:52:14.873Z"
   },
   {
    "duration": 41,
    "start_time": "2024-05-21T11:52:14.881Z"
   },
   {
    "duration": 238,
    "start_time": "2024-05-21T11:52:14.924Z"
   },
   {
    "duration": 14,
    "start_time": "2024-05-21T11:52:15.164Z"
   },
   {
    "duration": 176,
    "start_time": "2024-05-21T11:52:15.180Z"
   },
   {
    "duration": 318,
    "start_time": "2024-05-21T11:52:15.357Z"
   },
   {
    "duration": 4,
    "start_time": "2024-05-21T11:52:15.676Z"
   },
   {
    "duration": 19,
    "start_time": "2024-05-21T11:52:15.682Z"
   },
   {
    "duration": 18,
    "start_time": "2024-05-21T11:52:15.703Z"
   },
   {
    "duration": 12,
    "start_time": "2024-05-21T11:52:15.723Z"
   },
   {
    "duration": 133,
    "start_time": "2024-05-21T11:52:15.737Z"
   },
   {
    "duration": 12,
    "start_time": "2024-05-21T11:52:15.873Z"
   },
   {
    "duration": 7,
    "start_time": "2024-05-21T11:52:15.888Z"
   },
   {
    "duration": 6,
    "start_time": "2024-05-21T11:52:15.897Z"
   },
   {
    "duration": 138,
    "start_time": "2024-05-21T11:52:15.905Z"
   },
   {
    "duration": 39,
    "start_time": "2024-05-21T11:52:16.044Z"
   },
   {
    "duration": 51,
    "start_time": "2024-05-21T11:52:16.085Z"
   },
   {
    "duration": 25,
    "start_time": "2024-05-21T11:52:16.139Z"
   },
   {
    "duration": 333,
    "start_time": "2024-05-21T11:52:16.166Z"
   },
   {
    "duration": 299,
    "start_time": "2024-05-21T11:52:16.500Z"
   },
   {
    "duration": 1046,
    "start_time": "2024-05-21T11:52:16.801Z"
   },
   {
    "duration": 27,
    "start_time": "2024-05-21T11:52:17.848Z"
   },
   {
    "duration": 8,
    "start_time": "2024-05-21T11:52:17.876Z"
   },
   {
    "duration": 17,
    "start_time": "2024-05-21T11:52:17.886Z"
   },
   {
    "duration": 12,
    "start_time": "2024-05-21T11:52:17.905Z"
   },
   {
    "duration": 347,
    "start_time": "2024-05-21T11:56:04.092Z"
   },
   {
    "duration": 307,
    "start_time": "2024-05-21T11:57:07.695Z"
   },
   {
    "duration": 341,
    "start_time": "2024-05-21T11:57:12.006Z"
   },
   {
    "duration": 168,
    "start_time": "2024-05-21T12:00:23.860Z"
   },
   {
    "duration": 1509,
    "start_time": "2024-05-21T12:00:41.201Z"
   },
   {
    "duration": 178,
    "start_time": "2024-05-21T12:00:49.735Z"
   },
   {
    "duration": 284,
    "start_time": "2024-05-21T12:00:55.274Z"
   },
   {
    "duration": 326,
    "start_time": "2024-05-21T12:01:00.608Z"
   },
   {
    "duration": 158,
    "start_time": "2024-05-21T12:01:05.931Z"
   },
   {
    "duration": 166,
    "start_time": "2024-05-21T12:02:26.326Z"
   },
   {
    "duration": 168,
    "start_time": "2024-05-21T12:02:49.810Z"
   },
   {
    "duration": 162,
    "start_time": "2024-05-21T12:02:54.737Z"
   },
   {
    "duration": 211,
    "start_time": "2024-05-21T12:02:58.096Z"
   },
   {
    "duration": 175,
    "start_time": "2024-05-21T12:03:23.731Z"
   },
   {
    "duration": 210,
    "start_time": "2024-05-21T12:05:55.153Z"
   },
   {
    "duration": 187,
    "start_time": "2024-05-21T12:07:21.322Z"
   },
   {
    "duration": 197,
    "start_time": "2024-05-21T12:07:28.490Z"
   },
   {
    "duration": 157,
    "start_time": "2024-05-21T12:09:55.235Z"
   },
   {
    "duration": 255,
    "start_time": "2024-05-21T12:10:10.643Z"
   },
   {
    "duration": 268,
    "start_time": "2024-05-21T12:10:22.815Z"
   },
   {
    "duration": 288,
    "start_time": "2024-05-21T12:11:02.177Z"
   },
   {
    "duration": 1513,
    "start_time": "2024-05-21T12:12:51.310Z"
   },
   {
    "duration": 199,
    "start_time": "2024-05-21T12:13:02.006Z"
   },
   {
    "duration": 185,
    "start_time": "2024-05-21T12:13:07.157Z"
   },
   {
    "duration": 185,
    "start_time": "2024-05-21T12:13:14.203Z"
   },
   {
    "duration": 196,
    "start_time": "2024-05-21T12:13:24.811Z"
   },
   {
    "duration": 196,
    "start_time": "2024-05-21T12:13:38.541Z"
   },
   {
    "duration": 350,
    "start_time": "2024-05-21T12:13:52.789Z"
   },
   {
    "duration": 272,
    "start_time": "2024-05-21T12:14:27.523Z"
   },
   {
    "duration": 1254,
    "start_time": "2024-05-21T12:16:14.072Z"
   },
   {
    "duration": 98,
    "start_time": "2024-05-21T12:16:15.328Z"
   },
   {
    "duration": 122,
    "start_time": "2024-05-21T12:16:15.427Z"
   },
   {
    "duration": 47,
    "start_time": "2024-05-21T12:16:15.552Z"
   },
   {
    "duration": 33,
    "start_time": "2024-05-21T12:16:15.601Z"
   },
   {
    "duration": 16,
    "start_time": "2024-05-21T12:16:15.636Z"
   },
   {
    "duration": 44,
    "start_time": "2024-05-21T12:16:15.654Z"
   },
   {
    "duration": 131,
    "start_time": "2024-05-21T12:16:15.700Z"
   },
   {
    "duration": 8,
    "start_time": "2024-05-21T12:16:15.833Z"
   },
   {
    "duration": 20,
    "start_time": "2024-05-21T12:16:15.845Z"
   },
   {
    "duration": 24,
    "start_time": "2024-05-21T12:16:15.867Z"
   },
   {
    "duration": 8,
    "start_time": "2024-05-21T12:16:15.893Z"
   },
   {
    "duration": 11,
    "start_time": "2024-05-21T12:16:15.903Z"
   },
   {
    "duration": 8,
    "start_time": "2024-05-21T12:16:15.916Z"
   },
   {
    "duration": 26,
    "start_time": "2024-05-21T12:16:15.926Z"
   },
   {
    "duration": 44,
    "start_time": "2024-05-21T12:16:15.954Z"
   },
   {
    "duration": 8,
    "start_time": "2024-05-21T12:16:16.000Z"
   },
   {
    "duration": 243,
    "start_time": "2024-05-21T12:16:16.010Z"
   },
   {
    "duration": 6,
    "start_time": "2024-05-21T12:16:16.254Z"
   },
   {
    "duration": 110,
    "start_time": "2024-05-21T12:16:16.277Z"
   },
   {
    "duration": 343,
    "start_time": "2024-05-21T12:16:16.389Z"
   },
   {
    "duration": 4,
    "start_time": "2024-05-21T12:16:16.733Z"
   },
   {
    "duration": 54,
    "start_time": "2024-05-21T12:16:16.739Z"
   },
   {
    "duration": 91,
    "start_time": "2024-05-21T12:16:16.795Z"
   },
   {
    "duration": 21,
    "start_time": "2024-05-21T12:16:16.888Z"
   },
   {
    "duration": 208,
    "start_time": "2024-05-21T12:16:16.910Z"
   },
   {
    "duration": 11,
    "start_time": "2024-05-21T12:16:17.119Z"
   },
   {
    "duration": 11,
    "start_time": "2024-05-21T12:16:17.133Z"
   },
   {
    "duration": 67,
    "start_time": "2024-05-21T12:16:17.146Z"
   },
   {
    "duration": 236,
    "start_time": "2024-05-21T12:16:17.214Z"
   },
   {
    "duration": 48,
    "start_time": "2024-05-21T12:16:17.452Z"
   },
   {
    "duration": 26,
    "start_time": "2024-05-21T12:16:17.502Z"
   },
   {
    "duration": 22,
    "start_time": "2024-05-21T12:16:17.529Z"
   },
   {
    "duration": 380,
    "start_time": "2024-05-21T12:16:17.553Z"
   },
   {
    "duration": 312,
    "start_time": "2024-05-21T12:16:17.934Z"
   },
   {
    "duration": 1100,
    "start_time": "2024-05-21T12:16:18.248Z"
   },
   {
    "duration": 37,
    "start_time": "2024-05-21T12:16:19.349Z"
   },
   {
    "duration": 57,
    "start_time": "2024-05-21T12:16:19.388Z"
   },
   {
    "duration": 39,
    "start_time": "2024-05-21T12:16:19.447Z"
   },
   {
    "duration": 20,
    "start_time": "2024-05-21T12:16:19.488Z"
   },
   {
    "duration": 174,
    "start_time": "2024-05-21T12:17:23.987Z"
   },
   {
    "duration": 201,
    "start_time": "2024-05-21T12:17:32.409Z"
   },
   {
    "duration": 217,
    "start_time": "2024-05-21T12:17:39.786Z"
   },
   {
    "duration": 211,
    "start_time": "2024-05-21T12:17:44.641Z"
   },
   {
    "duration": 157,
    "start_time": "2024-05-21T12:17:50.909Z"
   },
   {
    "duration": 164,
    "start_time": "2024-05-21T12:19:00.507Z"
   },
   {
    "duration": 11,
    "start_time": "2024-05-21T12:32:47.561Z"
   },
   {
    "duration": 3,
    "start_time": "2024-05-21T12:37:59.285Z"
   },
   {
    "duration": 103,
    "start_time": "2024-05-21T12:38:48.301Z"
   },
   {
    "duration": 5,
    "start_time": "2024-05-21T12:42:19.169Z"
   },
   {
    "duration": 1160,
    "start_time": "2024-05-21T12:42:50.205Z"
   },
   {
    "duration": 96,
    "start_time": "2024-05-21T12:42:51.367Z"
   },
   {
    "duration": 12,
    "start_time": "2024-05-21T12:42:51.465Z"
   },
   {
    "duration": 78,
    "start_time": "2024-05-21T12:42:51.479Z"
   },
   {
    "duration": 33,
    "start_time": "2024-05-21T12:42:51.559Z"
   },
   {
    "duration": 36,
    "start_time": "2024-05-21T12:42:51.595Z"
   },
   {
    "duration": 23,
    "start_time": "2024-05-21T12:42:51.633Z"
   },
   {
    "duration": 19,
    "start_time": "2024-05-21T12:42:51.658Z"
   },
   {
    "duration": 11,
    "start_time": "2024-05-21T12:42:51.679Z"
   },
   {
    "duration": 22,
    "start_time": "2024-05-21T12:42:51.693Z"
   },
   {
    "duration": 7,
    "start_time": "2024-05-21T12:42:51.717Z"
   },
   {
    "duration": 17,
    "start_time": "2024-05-21T12:42:51.726Z"
   },
   {
    "duration": 40,
    "start_time": "2024-05-21T12:42:51.745Z"
   },
   {
    "duration": 25,
    "start_time": "2024-05-21T12:42:51.787Z"
   },
   {
    "duration": 110,
    "start_time": "2024-05-21T12:42:51.815Z"
   },
   {
    "duration": 15,
    "start_time": "2024-05-21T12:42:51.926Z"
   },
   {
    "duration": 45,
    "start_time": "2024-05-21T12:42:51.943Z"
   },
   {
    "duration": 323,
    "start_time": "2024-05-21T12:42:51.989Z"
   },
   {
    "duration": 6,
    "start_time": "2024-05-21T12:42:52.314Z"
   },
   {
    "duration": 165,
    "start_time": "2024-05-21T12:42:52.321Z"
   },
   {
    "duration": 339,
    "start_time": "2024-05-21T12:42:52.488Z"
   },
   {
    "duration": 3,
    "start_time": "2024-05-21T12:42:52.829Z"
   },
   {
    "duration": 114,
    "start_time": "2024-05-21T12:42:52.834Z"
   },
   {
    "duration": 9,
    "start_time": "2024-05-21T12:42:52.949Z"
   },
   {
    "duration": 8,
    "start_time": "2024-05-21T12:42:52.960Z"
   },
   {
    "duration": 195,
    "start_time": "2024-05-21T12:42:52.969Z"
   },
   {
    "duration": 14,
    "start_time": "2024-05-21T12:42:53.166Z"
   },
   {
    "duration": 8,
    "start_time": "2024-05-21T12:42:53.184Z"
   },
   {
    "duration": 25,
    "start_time": "2024-05-21T12:42:53.194Z"
   },
   {
    "duration": 183,
    "start_time": "2024-05-21T12:42:53.222Z"
   },
   {
    "duration": 41,
    "start_time": "2024-05-21T12:42:53.408Z"
   },
   {
    "duration": 24,
    "start_time": "2024-05-21T12:42:53.450Z"
   },
   {
    "duration": 62,
    "start_time": "2024-05-21T12:42:53.476Z"
   },
   {
    "duration": 60,
    "start_time": "2024-05-21T12:42:53.540Z"
   },
   {
    "duration": 339,
    "start_time": "2024-05-21T12:42:53.602Z"
   },
   {
    "duration": 321,
    "start_time": "2024-05-21T12:42:53.942Z"
   },
   {
    "duration": 1106,
    "start_time": "2024-05-21T12:42:54.272Z"
   },
   {
    "duration": 21,
    "start_time": "2024-05-21T12:42:55.380Z"
   },
   {
    "duration": 19,
    "start_time": "2024-05-21T12:42:55.402Z"
   },
   {
    "duration": 57,
    "start_time": "2024-05-21T12:42:55.422Z"
   },
   {
    "duration": 115,
    "start_time": "2024-05-21T12:42:55.481Z"
   },
   {
    "duration": 329,
    "start_time": "2024-05-21T12:57:43.964Z"
   },
   {
    "duration": 283,
    "start_time": "2024-05-21T12:57:58.488Z"
   },
   {
    "duration": 310,
    "start_time": "2024-05-21T12:58:08.029Z"
   },
   {
    "duration": 297,
    "start_time": "2024-05-21T12:58:41.056Z"
   },
   {
    "duration": 293,
    "start_time": "2024-05-21T13:07:09.701Z"
   },
   {
    "duration": 1131,
    "start_time": "2024-05-21T13:16:24.820Z"
   },
   {
    "duration": 89,
    "start_time": "2024-05-21T13:16:25.953Z"
   },
   {
    "duration": 11,
    "start_time": "2024-05-21T13:16:26.044Z"
   },
   {
    "duration": 67,
    "start_time": "2024-05-21T13:16:26.057Z"
   },
   {
    "duration": 26,
    "start_time": "2024-05-21T13:16:26.126Z"
   },
   {
    "duration": 16,
    "start_time": "2024-05-21T13:16:26.154Z"
   },
   {
    "duration": 14,
    "start_time": "2024-05-21T13:16:26.171Z"
   },
   {
    "duration": 16,
    "start_time": "2024-05-21T13:16:26.186Z"
   },
   {
    "duration": 7,
    "start_time": "2024-05-21T13:16:26.204Z"
   },
   {
    "duration": 16,
    "start_time": "2024-05-21T13:16:26.214Z"
   },
   {
    "duration": 28,
    "start_time": "2024-05-21T13:16:26.231Z"
   },
   {
    "duration": 24,
    "start_time": "2024-05-21T13:16:26.260Z"
   },
   {
    "duration": 25,
    "start_time": "2024-05-21T13:16:26.285Z"
   },
   {
    "duration": 36,
    "start_time": "2024-05-21T13:16:26.312Z"
   },
   {
    "duration": 17,
    "start_time": "2024-05-21T13:16:26.350Z"
   },
   {
    "duration": 52,
    "start_time": "2024-05-21T13:16:26.368Z"
   },
   {
    "duration": 13,
    "start_time": "2024-05-21T13:16:26.421Z"
   },
   {
    "duration": 258,
    "start_time": "2024-05-21T13:16:26.435Z"
   },
   {
    "duration": 6,
    "start_time": "2024-05-21T13:16:26.694Z"
   },
   {
    "duration": 153,
    "start_time": "2024-05-21T13:16:26.701Z"
   },
   {
    "duration": 341,
    "start_time": "2024-05-21T13:16:26.856Z"
   },
   {
    "duration": 4,
    "start_time": "2024-05-21T13:16:27.198Z"
   },
   {
    "duration": 55,
    "start_time": "2024-05-21T13:16:27.203Z"
   },
   {
    "duration": 15,
    "start_time": "2024-05-21T13:16:27.259Z"
   },
   {
    "duration": 8,
    "start_time": "2024-05-21T13:16:27.275Z"
   },
   {
    "duration": 194,
    "start_time": "2024-05-21T13:16:27.284Z"
   },
   {
    "duration": 12,
    "start_time": "2024-05-21T13:16:27.479Z"
   },
   {
    "duration": 68,
    "start_time": "2024-05-21T13:16:27.495Z"
   },
   {
    "duration": 34,
    "start_time": "2024-05-21T13:16:27.565Z"
   },
   {
    "duration": 168,
    "start_time": "2024-05-21T13:16:27.601Z"
   },
   {
    "duration": 42,
    "start_time": "2024-05-21T13:16:27.772Z"
   },
   {
    "duration": 22,
    "start_time": "2024-05-21T13:16:27.816Z"
   },
   {
    "duration": 37,
    "start_time": "2024-05-21T13:16:27.839Z"
   },
   {
    "duration": 24,
    "start_time": "2024-05-21T13:16:27.878Z"
   },
   {
    "duration": 350,
    "start_time": "2024-05-21T13:16:27.904Z"
   },
   {
    "duration": 304,
    "start_time": "2024-05-21T13:16:28.256Z"
   },
   {
    "duration": 1057,
    "start_time": "2024-05-21T13:16:28.563Z"
   },
   {
    "duration": 20,
    "start_time": "2024-05-21T13:16:29.622Z"
   },
   {
    "duration": 69,
    "start_time": "2024-05-21T13:16:29.644Z"
   },
   {
    "duration": 12,
    "start_time": "2024-05-21T13:16:29.715Z"
   },
   {
    "duration": 19,
    "start_time": "2024-05-21T13:16:29.729Z"
   },
   {
    "duration": 7,
    "start_time": "2024-05-21T13:29:00.233Z"
   },
   {
    "duration": 7,
    "start_time": "2024-05-21T13:29:35.397Z"
   },
   {
    "duration": 5,
    "start_time": "2024-05-21T13:29:41.882Z"
   },
   {
    "duration": 1152,
    "start_time": "2024-05-21T13:44:20.004Z"
   },
   {
    "duration": 89,
    "start_time": "2024-05-21T13:44:21.158Z"
   },
   {
    "duration": 13,
    "start_time": "2024-05-21T13:44:21.249Z"
   },
   {
    "duration": 12,
    "start_time": "2024-05-21T13:44:21.264Z"
   },
   {
    "duration": 20,
    "start_time": "2024-05-21T13:44:21.277Z"
   },
   {
    "duration": 10,
    "start_time": "2024-05-21T13:44:21.299Z"
   },
   {
    "duration": 7,
    "start_time": "2024-05-21T13:44:21.311Z"
   },
   {
    "duration": 12,
    "start_time": "2024-05-21T13:44:21.320Z"
   },
   {
    "duration": 7,
    "start_time": "2024-05-21T13:44:21.334Z"
   },
   {
    "duration": 36,
    "start_time": "2024-05-21T13:44:21.344Z"
   },
   {
    "duration": 11,
    "start_time": "2024-05-21T13:44:21.382Z"
   },
   {
    "duration": 13,
    "start_time": "2024-05-21T13:44:21.395Z"
   },
   {
    "duration": 6,
    "start_time": "2024-05-21T13:44:21.409Z"
   },
   {
    "duration": 42,
    "start_time": "2024-05-21T13:44:21.417Z"
   },
   {
    "duration": 8,
    "start_time": "2024-05-21T13:44:21.461Z"
   },
   {
    "duration": 4,
    "start_time": "2024-05-21T13:44:21.471Z"
   },
   {
    "duration": 24,
    "start_time": "2024-05-21T13:44:21.477Z"
   },
   {
    "duration": 237,
    "start_time": "2024-05-21T13:44:21.503Z"
   },
   {
    "duration": 5,
    "start_time": "2024-05-21T13:44:21.742Z"
   },
   {
    "duration": 113,
    "start_time": "2024-05-21T13:44:21.748Z"
   },
   {
    "duration": 346,
    "start_time": "2024-05-21T13:44:21.862Z"
   },
   {
    "duration": 4,
    "start_time": "2024-05-21T13:44:22.210Z"
   },
   {
    "duration": 25,
    "start_time": "2024-05-21T13:44:22.216Z"
   },
   {
    "duration": 14,
    "start_time": "2024-05-21T13:44:22.243Z"
   },
   {
    "duration": 10,
    "start_time": "2024-05-21T13:44:22.259Z"
   },
   {
    "duration": 187,
    "start_time": "2024-05-21T13:44:22.273Z"
   },
   {
    "duration": 18,
    "start_time": "2024-05-21T13:44:22.462Z"
   },
   {
    "duration": 6,
    "start_time": "2024-05-21T13:44:22.484Z"
   },
   {
    "duration": 7,
    "start_time": "2024-05-21T13:44:22.491Z"
   },
   {
    "duration": 167,
    "start_time": "2024-05-21T13:44:22.499Z"
   },
   {
    "duration": 34,
    "start_time": "2024-05-21T13:44:22.672Z"
   },
   {
    "duration": 10,
    "start_time": "2024-05-21T13:44:22.708Z"
   },
   {
    "duration": 94,
    "start_time": "2024-05-21T13:44:22.719Z"
   },
   {
    "duration": 20,
    "start_time": "2024-05-21T13:44:22.815Z"
   },
   {
    "duration": 318,
    "start_time": "2024-05-21T13:44:22.837Z"
   },
   {
    "duration": 307,
    "start_time": "2024-05-21T13:44:23.157Z"
   },
   {
    "duration": 1051,
    "start_time": "2024-05-21T13:44:23.466Z"
   },
   {
    "duration": 18,
    "start_time": "2024-05-21T13:44:24.518Z"
   },
   {
    "duration": 6,
    "start_time": "2024-05-21T13:44:24.538Z"
   },
   {
    "duration": 20,
    "start_time": "2024-05-21T13:44:24.545Z"
   },
   {
    "duration": 10,
    "start_time": "2024-05-21T13:44:24.573Z"
   },
   {
    "duration": 1171,
    "start_time": "2024-05-21T13:55:33.392Z"
   },
   {
    "duration": 82,
    "start_time": "2024-05-21T13:55:34.565Z"
   },
   {
    "duration": 11,
    "start_time": "2024-05-21T13:55:34.649Z"
   },
   {
    "duration": 17,
    "start_time": "2024-05-21T13:55:34.662Z"
   },
   {
    "duration": 11,
    "start_time": "2024-05-21T13:55:34.681Z"
   },
   {
    "duration": 18,
    "start_time": "2024-05-21T13:55:34.694Z"
   },
   {
    "duration": 8,
    "start_time": "2024-05-21T13:55:34.714Z"
   },
   {
    "duration": 13,
    "start_time": "2024-05-21T13:55:34.723Z"
   },
   {
    "duration": 36,
    "start_time": "2024-05-21T13:55:34.738Z"
   },
   {
    "duration": 92,
    "start_time": "2024-05-21T13:55:34.777Z"
   },
   {
    "duration": 8,
    "start_time": "2024-05-21T13:55:34.870Z"
   },
   {
    "duration": 11,
    "start_time": "2024-05-21T13:55:34.880Z"
   },
   {
    "duration": 7,
    "start_time": "2024-05-21T13:55:34.902Z"
   },
   {
    "duration": 8,
    "start_time": "2024-05-21T13:55:34.911Z"
   },
   {
    "duration": 14,
    "start_time": "2024-05-21T13:55:34.920Z"
   },
   {
    "duration": 5,
    "start_time": "2024-05-21T13:55:34.936Z"
   },
   {
    "duration": 168,
    "start_time": "2024-05-21T13:55:34.943Z"
   },
   {
    "duration": 254,
    "start_time": "2024-05-21T13:55:35.113Z"
   },
   {
    "duration": 7,
    "start_time": "2024-05-21T13:55:35.369Z"
   },
   {
    "duration": 110,
    "start_time": "2024-05-21T13:55:35.378Z"
   },
   {
    "duration": 337,
    "start_time": "2024-05-21T13:55:35.490Z"
   },
   {
    "duration": 4,
    "start_time": "2024-05-21T13:55:35.829Z"
   },
   {
    "duration": 17,
    "start_time": "2024-05-21T13:55:35.835Z"
   },
   {
    "duration": 87,
    "start_time": "2024-05-21T13:55:35.854Z"
   },
   {
    "duration": 45,
    "start_time": "2024-05-21T13:55:35.943Z"
   },
   {
    "duration": 210,
    "start_time": "2024-05-21T13:55:35.990Z"
   },
   {
    "duration": 14,
    "start_time": "2024-05-21T13:55:36.202Z"
   },
   {
    "duration": 81,
    "start_time": "2024-05-21T13:55:36.220Z"
   },
   {
    "duration": 29,
    "start_time": "2024-05-21T13:55:36.302Z"
   },
   {
    "duration": 155,
    "start_time": "2024-05-21T13:55:36.333Z"
   },
   {
    "duration": 34,
    "start_time": "2024-05-21T13:55:36.490Z"
   },
   {
    "duration": 9,
    "start_time": "2024-05-21T13:55:36.526Z"
   },
   {
    "duration": 41,
    "start_time": "2024-05-21T13:55:36.537Z"
   },
   {
    "duration": 21,
    "start_time": "2024-05-21T13:55:36.579Z"
   },
   {
    "duration": 336,
    "start_time": "2024-05-21T13:55:36.602Z"
   },
   {
    "duration": 318,
    "start_time": "2024-05-21T13:55:36.940Z"
   },
   {
    "duration": 1036,
    "start_time": "2024-05-21T13:55:37.260Z"
   },
   {
    "duration": 20,
    "start_time": "2024-05-21T13:55:38.298Z"
   },
   {
    "duration": 28,
    "start_time": "2024-05-21T13:55:38.320Z"
   },
   {
    "duration": 92,
    "start_time": "2024-05-21T13:55:38.350Z"
   },
   {
    "duration": 58,
    "start_time": "2024-05-21T13:55:38.444Z"
   },
   {
    "duration": 1124,
    "start_time": "2024-05-21T15:03:12.934Z"
   },
   {
    "duration": 96,
    "start_time": "2024-05-21T15:03:14.060Z"
   },
   {
    "duration": 18,
    "start_time": "2024-05-21T15:03:14.158Z"
   },
   {
    "duration": 17,
    "start_time": "2024-05-21T15:03:14.180Z"
   },
   {
    "duration": 13,
    "start_time": "2024-05-21T15:03:14.199Z"
   },
   {
    "duration": 10,
    "start_time": "2024-05-21T15:03:14.214Z"
   },
   {
    "duration": 50,
    "start_time": "2024-05-21T15:03:14.226Z"
   },
   {
    "duration": 17,
    "start_time": "2024-05-21T15:03:14.278Z"
   },
   {
    "duration": 7,
    "start_time": "2024-05-21T15:03:14.297Z"
   },
   {
    "duration": 12,
    "start_time": "2024-05-21T15:03:14.308Z"
   },
   {
    "duration": 6,
    "start_time": "2024-05-21T15:03:14.321Z"
   },
   {
    "duration": 6,
    "start_time": "2024-05-21T15:03:14.329Z"
   },
   {
    "duration": 7,
    "start_time": "2024-05-21T15:03:14.337Z"
   },
   {
    "duration": 17,
    "start_time": "2024-05-21T15:03:14.370Z"
   },
   {
    "duration": 16,
    "start_time": "2024-05-21T15:03:14.389Z"
   },
   {
    "duration": 33,
    "start_time": "2024-05-21T15:03:14.407Z"
   },
   {
    "duration": 19,
    "start_time": "2024-05-21T15:03:14.442Z"
   },
   {
    "duration": 234,
    "start_time": "2024-05-21T15:03:14.463Z"
   },
   {
    "duration": 5,
    "start_time": "2024-05-21T15:03:14.699Z"
   },
   {
    "duration": 109,
    "start_time": "2024-05-21T15:03:14.706Z"
   },
   {
    "duration": 342,
    "start_time": "2024-05-21T15:03:14.817Z"
   },
   {
    "duration": 10,
    "start_time": "2024-05-21T15:03:15.160Z"
   },
   {
    "duration": 39,
    "start_time": "2024-05-21T15:03:15.172Z"
   },
   {
    "duration": 93,
    "start_time": "2024-05-21T15:03:15.213Z"
   },
   {
    "duration": 61,
    "start_time": "2024-05-21T15:03:15.308Z"
   },
   {
    "duration": 199,
    "start_time": "2024-05-21T15:03:15.371Z"
   },
   {
    "duration": 12,
    "start_time": "2024-05-21T15:03:15.572Z"
   },
   {
    "duration": 29,
    "start_time": "2024-05-21T15:03:15.589Z"
   },
   {
    "duration": 87,
    "start_time": "2024-05-21T15:03:15.620Z"
   },
   {
    "duration": 147,
    "start_time": "2024-05-21T15:03:15.709Z"
   },
   {
    "duration": 38,
    "start_time": "2024-05-21T15:03:15.858Z"
   },
   {
    "duration": 116,
    "start_time": "2024-05-21T15:03:15.898Z"
   },
   {
    "duration": 29,
    "start_time": "2024-05-21T15:03:16.016Z"
   },
   {
    "duration": 23,
    "start_time": "2024-05-21T15:03:16.047Z"
   },
   {
    "duration": 326,
    "start_time": "2024-05-21T15:03:16.072Z"
   },
   {
    "duration": 302,
    "start_time": "2024-05-21T15:03:16.400Z"
   },
   {
    "duration": 988,
    "start_time": "2024-05-21T15:03:16.705Z"
   },
   {
    "duration": 20,
    "start_time": "2024-05-21T15:03:17.695Z"
   },
   {
    "duration": 5,
    "start_time": "2024-05-21T15:03:17.717Z"
   },
   {
    "duration": 8,
    "start_time": "2024-05-21T15:03:17.724Z"
   },
   {
    "duration": 38,
    "start_time": "2024-05-21T15:03:17.733Z"
   },
   {
    "duration": 1164,
    "start_time": "2024-05-21T15:08:34.171Z"
   },
   {
    "duration": 91,
    "start_time": "2024-05-21T15:08:35.337Z"
   },
   {
    "duration": 11,
    "start_time": "2024-05-21T15:08:35.429Z"
   },
   {
    "duration": 14,
    "start_time": "2024-05-21T15:08:35.442Z"
   },
   {
    "duration": 27,
    "start_time": "2024-05-21T15:08:35.457Z"
   },
   {
    "duration": 143,
    "start_time": "2024-05-21T15:08:35.486Z"
   },
   {
    "duration": 16,
    "start_time": "2024-05-21T15:08:35.630Z"
   },
   {
    "duration": 29,
    "start_time": "2024-05-21T15:08:35.648Z"
   },
   {
    "duration": 11,
    "start_time": "2024-05-21T15:08:35.678Z"
   },
   {
    "duration": 56,
    "start_time": "2024-05-21T15:08:35.692Z"
   },
   {
    "duration": 106,
    "start_time": "2024-05-21T15:08:35.750Z"
   },
   {
    "duration": 144,
    "start_time": "2024-05-21T15:08:35.858Z"
   },
   {
    "duration": 46,
    "start_time": "2024-05-21T15:08:36.004Z"
   },
   {
    "duration": 36,
    "start_time": "2024-05-21T15:08:36.051Z"
   },
   {
    "duration": 60,
    "start_time": "2024-05-21T15:08:36.088Z"
   },
   {
    "duration": 13,
    "start_time": "2024-05-21T15:08:36.150Z"
   },
   {
    "duration": 40,
    "start_time": "2024-05-21T15:08:36.164Z"
   },
   {
    "duration": 241,
    "start_time": "2024-05-21T15:08:36.206Z"
   },
   {
    "duration": 4,
    "start_time": "2024-05-21T15:08:36.449Z"
   },
   {
    "duration": 112,
    "start_time": "2024-05-21T15:08:36.455Z"
   },
   {
    "duration": 313,
    "start_time": "2024-05-21T15:08:36.570Z"
   },
   {
    "duration": 4,
    "start_time": "2024-05-21T15:08:36.884Z"
   },
   {
    "duration": 11,
    "start_time": "2024-05-21T15:08:36.890Z"
   },
   {
    "duration": 8,
    "start_time": "2024-05-21T15:08:36.902Z"
   },
   {
    "duration": 7,
    "start_time": "2024-05-21T15:08:36.911Z"
   },
   {
    "duration": 194,
    "start_time": "2024-05-21T15:08:36.920Z"
   },
   {
    "duration": 10,
    "start_time": "2024-05-21T15:08:37.116Z"
   },
   {
    "duration": 6,
    "start_time": "2024-05-21T15:08:37.131Z"
   },
   {
    "duration": 32,
    "start_time": "2024-05-21T15:08:37.139Z"
   },
   {
    "duration": 153,
    "start_time": "2024-05-21T15:08:37.173Z"
   },
   {
    "duration": 45,
    "start_time": "2024-05-21T15:08:37.328Z"
   },
   {
    "duration": 20,
    "start_time": "2024-05-21T15:08:37.375Z"
   },
   {
    "duration": 28,
    "start_time": "2024-05-21T15:08:37.397Z"
   },
   {
    "duration": 148,
    "start_time": "2024-05-21T15:08:37.427Z"
   },
   {
    "duration": 319,
    "start_time": "2024-05-21T15:08:37.577Z"
   },
   {
    "duration": 303,
    "start_time": "2024-05-21T15:08:37.898Z"
   },
   {
    "duration": 1018,
    "start_time": "2024-05-21T15:08:38.202Z"
   },
   {
    "duration": 17,
    "start_time": "2024-05-21T15:08:39.221Z"
   },
   {
    "duration": 113,
    "start_time": "2024-05-21T15:08:39.239Z"
   },
   {
    "duration": 42,
    "start_time": "2024-05-21T15:08:39.354Z"
   },
   {
    "duration": 28,
    "start_time": "2024-05-21T15:08:39.397Z"
   },
   {
    "duration": 52,
    "start_time": "2024-05-21T15:36:05.744Z"
   },
   {
    "duration": 1270,
    "start_time": "2024-05-21T15:36:16.158Z"
   },
   {
    "duration": 223,
    "start_time": "2024-05-21T15:36:17.431Z"
   },
   {
    "duration": 10,
    "start_time": "2024-05-21T15:36:17.658Z"
   },
   {
    "duration": 16,
    "start_time": "2024-05-21T15:36:17.670Z"
   },
   {
    "duration": 9,
    "start_time": "2024-05-21T15:36:17.687Z"
   },
   {
    "duration": 19,
    "start_time": "2024-05-21T15:36:17.698Z"
   },
   {
    "duration": 5,
    "start_time": "2024-05-21T15:36:17.719Z"
   },
   {
    "duration": 31,
    "start_time": "2024-05-21T15:36:17.726Z"
   },
   {
    "duration": 6,
    "start_time": "2024-05-21T15:36:17.761Z"
   },
   {
    "duration": 9,
    "start_time": "2024-05-21T15:36:17.769Z"
   },
   {
    "duration": 7,
    "start_time": "2024-05-21T15:36:17.780Z"
   },
   {
    "duration": 22,
    "start_time": "2024-05-21T15:36:17.789Z"
   },
   {
    "duration": 6,
    "start_time": "2024-05-21T15:36:17.813Z"
   },
   {
    "duration": 7,
    "start_time": "2024-05-21T15:36:17.820Z"
   },
   {
    "duration": 33,
    "start_time": "2024-05-21T15:36:17.829Z"
   },
   {
    "duration": 6,
    "start_time": "2024-05-21T15:36:17.864Z"
   },
   {
    "duration": 7,
    "start_time": "2024-05-21T15:36:17.872Z"
   },
   {
    "duration": 226,
    "start_time": "2024-05-21T15:36:17.880Z"
   },
   {
    "duration": 4,
    "start_time": "2024-05-21T15:36:18.108Z"
   },
   {
    "duration": 114,
    "start_time": "2024-05-21T15:36:18.114Z"
   },
   {
    "duration": 291,
    "start_time": "2024-05-21T15:36:18.230Z"
   },
   {
    "duration": 3,
    "start_time": "2024-05-21T15:36:18.523Z"
   },
   {
    "duration": 9,
    "start_time": "2024-05-21T15:36:18.528Z"
   },
   {
    "duration": 19,
    "start_time": "2024-05-21T15:36:18.538Z"
   },
   {
    "duration": 8,
    "start_time": "2024-05-21T15:36:18.558Z"
   },
   {
    "duration": 284,
    "start_time": "2024-05-21T15:36:18.568Z"
   },
   {
    "duration": 10,
    "start_time": "2024-05-21T15:36:18.855Z"
   },
   {
    "duration": 7,
    "start_time": "2024-05-21T15:36:18.867Z"
   },
   {
    "duration": 6,
    "start_time": "2024-05-21T15:36:18.875Z"
   },
   {
    "duration": 156,
    "start_time": "2024-05-21T15:36:18.882Z"
   },
   {
    "duration": 40,
    "start_time": "2024-05-21T15:36:19.040Z"
   },
   {
    "duration": 9,
    "start_time": "2024-05-21T15:36:19.082Z"
   },
   {
    "duration": 21,
    "start_time": "2024-05-21T15:36:19.093Z"
   },
   {
    "duration": 41,
    "start_time": "2024-05-21T15:36:19.116Z"
   },
   {
    "duration": 312,
    "start_time": "2024-05-21T15:36:19.159Z"
   },
   {
    "duration": 358,
    "start_time": "2024-05-21T15:36:19.473Z"
   },
   {
    "duration": 845,
    "start_time": "2024-05-21T15:36:19.833Z"
   },
   {
    "duration": 18,
    "start_time": "2024-05-21T15:36:20.680Z"
   },
   {
    "duration": 5,
    "start_time": "2024-05-21T15:36:20.699Z"
   },
   {
    "duration": 10,
    "start_time": "2024-05-21T15:36:20.705Z"
   },
   {
    "duration": 24,
    "start_time": "2024-05-21T15:36:20.716Z"
   },
   {
    "duration": 702,
    "start_time": "2024-05-21T15:37:11.426Z"
   },
   {
    "duration": 821,
    "start_time": "2024-05-21T15:37:23.825Z"
   },
   {
    "duration": 1390,
    "start_time": "2024-05-21T15:38:31.943Z"
   },
   {
    "duration": 734,
    "start_time": "2024-05-21T15:38:38.992Z"
   },
   {
    "duration": 200,
    "start_time": "2024-05-21T15:39:35.482Z"
   },
   {
    "duration": 172,
    "start_time": "2024-05-21T15:40:23.398Z"
   },
   {
    "duration": 32,
    "start_time": "2024-05-21T15:43:34.719Z"
   },
   {
    "duration": 1158,
    "start_time": "2024-05-21T15:43:46.672Z"
   },
   {
    "duration": 84,
    "start_time": "2024-05-21T15:43:47.832Z"
   },
   {
    "duration": 10,
    "start_time": "2024-05-21T15:43:47.918Z"
   },
   {
    "duration": 24,
    "start_time": "2024-05-21T15:43:47.931Z"
   },
   {
    "duration": 18,
    "start_time": "2024-05-21T15:43:47.957Z"
   },
   {
    "duration": 27,
    "start_time": "2024-05-21T15:43:47.977Z"
   },
   {
    "duration": 24,
    "start_time": "2024-05-21T15:43:48.006Z"
   },
   {
    "duration": 29,
    "start_time": "2024-05-21T15:43:48.031Z"
   },
   {
    "duration": 25,
    "start_time": "2024-05-21T15:43:48.062Z"
   },
   {
    "duration": 43,
    "start_time": "2024-05-21T15:43:48.090Z"
   },
   {
    "duration": 26,
    "start_time": "2024-05-21T15:43:48.135Z"
   },
   {
    "duration": 34,
    "start_time": "2024-05-21T15:43:48.163Z"
   },
   {
    "duration": 20,
    "start_time": "2024-05-21T15:43:48.198Z"
   },
   {
    "duration": 33,
    "start_time": "2024-05-21T15:43:48.220Z"
   },
   {
    "duration": 36,
    "start_time": "2024-05-21T15:43:48.254Z"
   },
   {
    "duration": 31,
    "start_time": "2024-05-21T15:43:48.292Z"
   },
   {
    "duration": 31,
    "start_time": "2024-05-21T15:43:48.324Z"
   },
   {
    "duration": 306,
    "start_time": "2024-05-21T15:43:48.357Z"
   },
   {
    "duration": 7,
    "start_time": "2024-05-21T15:43:48.665Z"
   },
   {
    "duration": 114,
    "start_time": "2024-05-21T15:43:48.674Z"
   },
   {
    "duration": 310,
    "start_time": "2024-05-21T15:43:48.790Z"
   },
   {
    "duration": 4,
    "start_time": "2024-05-21T15:43:49.102Z"
   },
   {
    "duration": 22,
    "start_time": "2024-05-21T15:43:49.108Z"
   },
   {
    "duration": 15,
    "start_time": "2024-05-21T15:43:49.132Z"
   },
   {
    "duration": 12,
    "start_time": "2024-05-21T15:43:49.148Z"
   },
   {
    "duration": 814,
    "start_time": "2024-05-21T15:43:49.162Z"
   },
   {
    "duration": 11,
    "start_time": "2024-05-21T15:43:49.978Z"
   },
   {
    "duration": 7,
    "start_time": "2024-05-21T15:43:49.992Z"
   },
   {
    "duration": 7,
    "start_time": "2024-05-21T15:43:50.000Z"
   },
   {
    "duration": 230,
    "start_time": "2024-05-21T15:43:50.009Z"
   },
   {
    "duration": 36,
    "start_time": "2024-05-21T15:43:50.240Z"
   },
   {
    "duration": 9,
    "start_time": "2024-05-21T15:43:50.278Z"
   },
   {
    "duration": 23,
    "start_time": "2024-05-21T15:43:50.288Z"
   },
   {
    "duration": 19,
    "start_time": "2024-05-21T15:43:50.312Z"
   },
   {
    "duration": 298,
    "start_time": "2024-05-21T15:43:50.356Z"
   },
   {
    "duration": 276,
    "start_time": "2024-05-21T15:43:50.657Z"
   },
   {
    "duration": 943,
    "start_time": "2024-05-21T15:43:50.935Z"
   },
   {
    "duration": 18,
    "start_time": "2024-05-21T15:43:51.879Z"
   },
   {
    "duration": 5,
    "start_time": "2024-05-21T15:43:51.899Z"
   },
   {
    "duration": 7,
    "start_time": "2024-05-21T15:43:51.906Z"
   },
   {
    "duration": 11,
    "start_time": "2024-05-21T15:43:51.914Z"
   },
   {
    "duration": 1113,
    "start_time": "2024-05-21T15:45:42.489Z"
   },
   {
    "duration": 87,
    "start_time": "2024-05-21T15:45:43.604Z"
   },
   {
    "duration": 11,
    "start_time": "2024-05-21T15:45:43.693Z"
   },
   {
    "duration": 10,
    "start_time": "2024-05-21T15:45:43.706Z"
   },
   {
    "duration": 9,
    "start_time": "2024-05-21T15:45:43.718Z"
   },
   {
    "duration": 25,
    "start_time": "2024-05-21T15:45:43.728Z"
   },
   {
    "duration": 10,
    "start_time": "2024-05-21T15:45:43.755Z"
   },
   {
    "duration": 27,
    "start_time": "2024-05-21T15:45:43.766Z"
   },
   {
    "duration": 11,
    "start_time": "2024-05-21T15:45:43.795Z"
   },
   {
    "duration": 31,
    "start_time": "2024-05-21T15:45:43.809Z"
   },
   {
    "duration": 20,
    "start_time": "2024-05-21T15:45:43.842Z"
   },
   {
    "duration": 8,
    "start_time": "2024-05-21T15:45:43.864Z"
   },
   {
    "duration": 15,
    "start_time": "2024-05-21T15:45:43.874Z"
   },
   {
    "duration": 11,
    "start_time": "2024-05-21T15:45:43.891Z"
   },
   {
    "duration": 18,
    "start_time": "2024-05-21T15:45:43.904Z"
   },
   {
    "duration": 16,
    "start_time": "2024-05-21T15:45:43.923Z"
   },
   {
    "duration": 28,
    "start_time": "2024-05-21T15:45:43.940Z"
   },
   {
    "duration": 237,
    "start_time": "2024-05-21T15:45:43.970Z"
   },
   {
    "duration": 8,
    "start_time": "2024-05-21T15:45:44.208Z"
   },
   {
    "duration": 130,
    "start_time": "2024-05-21T15:45:44.218Z"
   },
   {
    "duration": 304,
    "start_time": "2024-05-21T15:45:44.350Z"
   },
   {
    "duration": 3,
    "start_time": "2024-05-21T15:45:44.656Z"
   },
   {
    "duration": 18,
    "start_time": "2024-05-21T15:45:44.661Z"
   },
   {
    "duration": 16,
    "start_time": "2024-05-21T15:45:44.680Z"
   },
   {
    "duration": 7,
    "start_time": "2024-05-21T15:45:44.697Z"
   },
   {
    "duration": 829,
    "start_time": "2024-05-21T15:45:44.706Z"
   },
   {
    "duration": 11,
    "start_time": "2024-05-21T15:45:45.537Z"
   },
   {
    "duration": 10,
    "start_time": "2024-05-21T15:45:45.558Z"
   },
   {
    "duration": 14,
    "start_time": "2024-05-21T15:45:45.570Z"
   },
   {
    "duration": 228,
    "start_time": "2024-05-21T15:45:45.585Z"
   },
   {
    "duration": 35,
    "start_time": "2024-05-21T15:45:45.814Z"
   },
   {
    "duration": 40,
    "start_time": "2024-05-21T15:45:45.851Z"
   },
   {
    "duration": 28,
    "start_time": "2024-05-21T15:45:45.893Z"
   },
   {
    "duration": 20,
    "start_time": "2024-05-21T15:45:45.922Z"
   },
   {
    "duration": 311,
    "start_time": "2024-05-21T15:45:45.944Z"
   },
   {
    "duration": 277,
    "start_time": "2024-05-21T15:45:46.257Z"
   },
   {
    "duration": 875,
    "start_time": "2024-05-21T15:45:46.535Z"
   },
   {
    "duration": 22,
    "start_time": "2024-05-21T15:45:47.412Z"
   },
   {
    "duration": 6,
    "start_time": "2024-05-21T15:45:47.436Z"
   },
   {
    "duration": 25,
    "start_time": "2024-05-21T15:45:47.455Z"
   },
   {
    "duration": 44,
    "start_time": "2024-05-21T15:45:47.482Z"
   },
   {
    "duration": 1084,
    "start_time": "2024-05-21T16:34:52.310Z"
   },
   {
    "duration": 85,
    "start_time": "2024-05-21T16:34:53.396Z"
   },
   {
    "duration": 11,
    "start_time": "2024-05-21T16:34:53.485Z"
   },
   {
    "duration": 31,
    "start_time": "2024-05-21T16:34:53.498Z"
   },
   {
    "duration": 10,
    "start_time": "2024-05-21T16:34:53.531Z"
   },
   {
    "duration": 14,
    "start_time": "2024-05-21T16:34:53.542Z"
   },
   {
    "duration": 7,
    "start_time": "2024-05-21T16:34:53.558Z"
   },
   {
    "duration": 23,
    "start_time": "2024-05-21T16:34:53.566Z"
   },
   {
    "duration": 5,
    "start_time": "2024-05-21T16:34:53.591Z"
   },
   {
    "duration": 15,
    "start_time": "2024-05-21T16:34:53.597Z"
   },
   {
    "duration": 13,
    "start_time": "2024-05-21T16:34:53.613Z"
   },
   {
    "duration": 12,
    "start_time": "2024-05-21T16:34:53.628Z"
   },
   {
    "duration": 12,
    "start_time": "2024-05-21T16:34:53.641Z"
   },
   {
    "duration": 16,
    "start_time": "2024-05-21T16:34:53.654Z"
   },
   {
    "duration": 18,
    "start_time": "2024-05-21T16:34:53.672Z"
   },
   {
    "duration": 4,
    "start_time": "2024-05-21T16:34:53.692Z"
   },
   {
    "duration": 19,
    "start_time": "2024-05-21T16:34:53.697Z"
   },
   {
    "duration": 201,
    "start_time": "2024-05-21T16:34:53.717Z"
   },
   {
    "duration": 5,
    "start_time": "2024-05-21T16:34:53.920Z"
   },
   {
    "duration": 142,
    "start_time": "2024-05-21T16:34:53.926Z"
   },
   {
    "duration": 362,
    "start_time": "2024-05-21T16:34:54.071Z"
   },
   {
    "duration": 4,
    "start_time": "2024-05-21T16:34:54.434Z"
   },
   {
    "duration": 33,
    "start_time": "2024-05-21T16:34:54.439Z"
   },
   {
    "duration": 16,
    "start_time": "2024-05-21T16:34:54.474Z"
   },
   {
    "duration": 13,
    "start_time": "2024-05-21T16:34:54.493Z"
   },
   {
    "duration": 821,
    "start_time": "2024-05-21T16:34:54.507Z"
   },
   {
    "duration": 9,
    "start_time": "2024-05-21T16:34:55.331Z"
   },
   {
    "duration": 16,
    "start_time": "2024-05-21T16:34:55.341Z"
   },
   {
    "duration": 11,
    "start_time": "2024-05-21T16:34:55.359Z"
   },
   {
    "duration": 216,
    "start_time": "2024-05-21T16:34:55.371Z"
   },
   {
    "duration": 34,
    "start_time": "2024-05-21T16:34:55.588Z"
   },
   {
    "duration": 9,
    "start_time": "2024-05-21T16:34:55.624Z"
   },
   {
    "duration": 42,
    "start_time": "2024-05-21T16:34:55.635Z"
   },
   {
    "duration": 18,
    "start_time": "2024-05-21T16:34:55.679Z"
   },
   {
    "duration": 337,
    "start_time": "2024-05-21T16:34:55.698Z"
   },
   {
    "duration": 296,
    "start_time": "2024-05-21T16:34:56.037Z"
   },
   {
    "duration": 862,
    "start_time": "2024-05-21T16:34:56.334Z"
   },
   {
    "duration": 19,
    "start_time": "2024-05-21T16:34:57.198Z"
   },
   {
    "duration": 6,
    "start_time": "2024-05-21T16:34:57.219Z"
   },
   {
    "duration": 6,
    "start_time": "2024-05-21T16:34:57.226Z"
   },
   {
    "duration": 33,
    "start_time": "2024-05-21T16:34:57.233Z"
   }
  ],
  "kernelspec": {
   "display_name": "Python 3 (ipykernel)",
   "language": "python",
   "name": "python3"
  },
  "language_info": {
   "codemirror_mode": {
    "name": "ipython",
    "version": 3
   },
   "file_extension": ".py",
   "mimetype": "text/x-python",
   "name": "python",
   "nbconvert_exporter": "python",
   "pygments_lexer": "ipython3",
   "version": "3.11.7"
  },
  "toc": {
   "base_numbering": 1,
   "nav_menu": {},
   "number_sections": true,
   "sideBar": true,
   "skip_h1_title": true,
   "title_cell": "Table of Contents",
   "title_sidebar": "Contents",
   "toc_cell": false,
   "toc_position": {},
   "toc_section_display": true,
   "toc_window_display": false
  }
 },
 "nbformat": 4,
 "nbformat_minor": 5
}
